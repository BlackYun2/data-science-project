{
 "cells": [
  {
   "cell_type": "markdown",
   "metadata": {},
   "source": [
    "# Introduction to Data Science \n",
    "\n",
    "\n",
    "## Lab 9: Hypothesis Testing (Chi-Square Test & T test)\n",
    "\n",
    "**British University in Egypt**<br>\n",
    "**Instructors:** Nahla Barakat\n",
    "---"
   ]
  },
  {
   "cell_type": "code",
   "execution_count": 1,
   "metadata": {},
   "outputs": [
    {
     "data": {
      "text/html": [
       "<style>div.exercise { background-color: #ffcccc;border-color: #E9967A; border-left: 5px solid #800080; padding: 0.5em;}</style>"
      ],
      "text/plain": [
       "<IPython.core.display.HTML object>"
      ]
     },
     "execution_count": 1,
     "metadata": {},
     "output_type": "execute_result"
    }
   ],
   "source": [
    "from IPython.display import HTML\n",
    "style = \"<style>div.exercise { background-color: #ffcccc;border-color: #E9967A; border-left: 5px solid #800080; padding: 0.5em;}</style>\"\n",
    "HTML(style)"
   ]
  },
  {
   "cell_type": "code",
   "execution_count": 2,
   "metadata": {},
   "outputs": [],
   "source": [
    "import pandas as pd\n",
    "import numpy as np"
   ]
  },
  {
   "cell_type": "markdown",
   "metadata": {},
   "source": [
    "## A hypothesis\n",
    "is a proposed explanation for a phenomenon. In the context of statistical hypothesis tests the term hypothesis is a statement about something that is supposed to be true."
   ]
  },
  {
   "cell_type": "markdown",
   "metadata": {},
   "source": [
    "### Some statistical-tests\n",
    "z-test<br>\n",
    "t-test<br>\n",
    "ANOVA<br>\n",
    "Chi-Square test<br>"
   ]
  },
  {
   "cell_type": "markdown",
   "metadata": {},
   "source": [
    "### Chi-Square test\n",
    "is a statistical test which is used to find out the difference between the observed and the expected data we can also use this test to find the correlation between categorical variables in our data. The purpose of this test is to determine if the difference between 2 categorical variables"
   ]
  },
  {
   "cell_type": "markdown",
   "metadata": {},
   "source": [
    "### hypothesis Assumption For Chi-Test\n",
    "**H0** (Null Hypothesis) = The 2 variables to be compared are independent.<br>\n",
    "**H1** (Alternate Hypothesis) = The 2 variables are dependent.\n"
   ]
  },
  {
   "cell_type": "markdown",
   "metadata": {},
   "source": [
    "### Chi-Square Steps\n",
    "<ol>\n",
    "    <strong>\n",
    "<li>Collect observed frequency data</li>\n",
    "<li>Calculate expected frequency data</li>\n",
    "<li>Determine Degrees of Freedom</li>\n",
    "<li>Calculate the chi square</li>\n",
    "</ol>\n",
    "<br>\n",
    "If the chi square statistic exceeds the probability or table value (based upon a p-value of x and n degrees of freedom) the null hypothesis should be rejected."
   ]
  },
  {
   "cell_type": "markdown",
   "metadata": {},
   "source": [
    "### We will use a data from a survey as example\n",
    "\n",
    "The Data is an exit poll which displays the joint responses to 2 categorical variables:\n",
    "<br>people in categories from consider from 18–29, 30–44, 45–64 and >65 years, <br> and their political affiliation, which is “Conservative”, “Socialist” and “Other”. Is there any evidence of a relationship between the age group and their political affiliation, at 5% significant level?"
   ]
  },
  {
   "cell_type": "markdown",
   "metadata": {},
   "source": [
    "**H0** (Null Hypothesis) = There is NO relationship between the age group and their political affiliation, at 5% significant level<br>,  ( the two variables are independent)\n",
    "\n",
    "**H1** (Alternate Hypothesis) = There is a relationship between the age group and their political affiliation, at 5% significant level.   ( the two variables are dependent)"
   ]
  },
  {
   "cell_type": "code",
   "execution_count": 3,
   "metadata": {},
   "outputs": [
    {
     "data": {
      "text/html": [
       "<div>\n",
       "<style scoped>\n",
       "    .dataframe tbody tr th:only-of-type {\n",
       "        vertical-align: middle;\n",
       "    }\n",
       "\n",
       "    .dataframe tbody tr th {\n",
       "        vertical-align: top;\n",
       "    }\n",
       "\n",
       "    .dataframe thead th {\n",
       "        text-align: right;\n",
       "    }\n",
       "</style>\n",
       "<table border=\"1\" class=\"dataframe\">\n",
       "  <thead>\n",
       "    <tr style=\"text-align: right;\">\n",
       "      <th></th>\n",
       "      <th>Age Group</th>\n",
       "      <th>Political Affiliation</th>\n",
       "    </tr>\n",
       "  </thead>\n",
       "  <tbody>\n",
       "    <tr>\n",
       "      <th>0</th>\n",
       "      <td>18-29</td>\n",
       "      <td>Conservative</td>\n",
       "    </tr>\n",
       "    <tr>\n",
       "      <th>1</th>\n",
       "      <td>18-29</td>\n",
       "      <td>Conservative</td>\n",
       "    </tr>\n",
       "    <tr>\n",
       "      <th>2</th>\n",
       "      <td>18-29</td>\n",
       "      <td>Conservative</td>\n",
       "    </tr>\n",
       "    <tr>\n",
       "      <th>3</th>\n",
       "      <td>18-29</td>\n",
       "      <td>Conservative</td>\n",
       "    </tr>\n",
       "    <tr>\n",
       "      <th>4</th>\n",
       "      <td>18-29</td>\n",
       "      <td>Conservative</td>\n",
       "    </tr>\n",
       "  </tbody>\n",
       "</table>\n",
       "</div>"
      ],
      "text/plain": [
       "  Age Group Political Affiliation\n",
       "0     18-29          Conservative\n",
       "1     18-29          Conservative\n",
       "2     18-29          Conservative\n",
       "3     18-29          Conservative\n",
       "4     18-29          Conservative"
      ]
     },
     "execution_count": 3,
     "metadata": {},
     "output_type": "execute_result"
    }
   ],
   "source": [
    "df=pd.read_excel('dataTest.xlsx')\n",
    "df.head()"
   ]
  },
  {
   "cell_type": "code",
   "execution_count": 4,
   "metadata": {},
   "outputs": [
    {
     "data": {
      "text/plain": [
       "array(['18-29', '30-44', '45-65', '65 & older'], dtype=object)"
      ]
     },
     "execution_count": 4,
     "metadata": {},
     "output_type": "execute_result"
    }
   ],
   "source": [
    "df['Age Group'].unique()"
   ]
  },
  {
   "cell_type": "code",
   "execution_count": 5,
   "metadata": {},
   "outputs": [
    {
     "data": {
      "text/plain": [
       "array(['Conservative', 'Socialist', 'Other'], dtype=object)"
      ]
     },
     "execution_count": 5,
     "metadata": {},
     "output_type": "execute_result"
    }
   ],
   "source": [
    "df['Political Affiliation'].unique()"
   ]
  },
  {
   "cell_type": "code",
   "execution_count": 6,
   "metadata": {},
   "outputs": [
    {
     "data": {
      "image/png": "[encoded data removed]",
      "text/plain": [
       "<Figure size 432x288 with 1 Axes>"
      ]
     },
     "metadata": {
      "needs_background": "light"
     },
     "output_type": "display_data"
    }
   ],
   "source": [
    "# Let's plot a sample of a bar plor\n",
    "df[df['Age Group']=='45-65'].value_counts().plot(kind='bar');"
   ]
  },
  {
   "cell_type": "markdown",
   "metadata": {},
   "source": [
    "## Let's calculate Chi Score\n",
    "\n",
    "## Step 1: Collect observed frequency data"
   ]
  },
  {
   "cell_type": "code",
   "execution_count": 7,
   "metadata": {},
   "outputs": [],
   "source": [
    "## Getting our new rows and cols\n",
    "rows=df['Age Group'].unique()\n",
    "cols=df['Political Affiliation'].unique()"
   ]
  },
  {
   "cell_type": "code",
   "execution_count": 8,
   "metadata": {},
   "outputs": [
    {
     "data": {
      "text/plain": [
       "[[141, 68, 4], [179, 159, 7], [220, 216, 4], [86, 101, 4]]"
      ]
     },
     "execution_count": 8,
     "metadata": {},
     "output_type": "execute_result"
    }
   ],
   "source": [
    "## Counting the values\n",
    "matrix=[]\n",
    "for i in rows:\n",
    "    l=[]\n",
    "    for j in cols:\n",
    "        l.append(len(df[(df['Age Group']==i) & (df['Political Affiliation']==j)]))\n",
    "    matrix.append(l)\n",
    "matrix"
   ]
  },
  {
   "cell_type": "code",
   "execution_count": 9,
   "metadata": {},
   "outputs": [
    {
     "data": {
      "text/html": [
       "<div>\n",
       "<style scoped>\n",
       "    .dataframe tbody tr th:only-of-type {\n",
       "        vertical-align: middle;\n",
       "    }\n",
       "\n",
       "    .dataframe tbody tr th {\n",
       "        vertical-align: top;\n",
       "    }\n",
       "\n",
       "    .dataframe thead th {\n",
       "        text-align: right;\n",
       "    }\n",
       "</style>\n",
       "<table border=\"1\" class=\"dataframe\">\n",
       "  <thead>\n",
       "    <tr style=\"text-align: right;\">\n",
       "      <th></th>\n",
       "      <th>Conservative</th>\n",
       "      <th>Socialist</th>\n",
       "      <th>Other</th>\n",
       "    </tr>\n",
       "  </thead>\n",
       "  <tbody>\n",
       "    <tr>\n",
       "      <th>18-29</th>\n",
       "      <td>141</td>\n",
       "      <td>68</td>\n",
       "      <td>4</td>\n",
       "    </tr>\n",
       "    <tr>\n",
       "      <th>30-44</th>\n",
       "      <td>179</td>\n",
       "      <td>159</td>\n",
       "      <td>7</td>\n",
       "    </tr>\n",
       "    <tr>\n",
       "      <th>45-65</th>\n",
       "      <td>220</td>\n",
       "      <td>216</td>\n",
       "      <td>4</td>\n",
       "    </tr>\n",
       "    <tr>\n",
       "      <th>65 &amp; older</th>\n",
       "      <td>86</td>\n",
       "      <td>101</td>\n",
       "      <td>4</td>\n",
       "    </tr>\n",
       "  </tbody>\n",
       "</table>\n",
       "</div>"
      ],
      "text/plain": [
       "            Conservative  Socialist  Other\n",
       "18-29                141         68      4\n",
       "30-44                179        159      7\n",
       "45-65                220        216      4\n",
       "65 & older            86        101      4"
      ]
     },
     "execution_count": 9,
     "metadata": {},
     "output_type": "execute_result"
    }
   ],
   "source": [
    "pd.DataFrame(matrix,index=rows,columns=cols)"
   ]
  },
  {
   "cell_type": "code",
   "execution_count": 10,
   "metadata": {},
   "outputs": [],
   "source": [
    "# Creating a dataframe\n",
    "observedValues=pd.DataFrame(matrix,index=rows,columns=cols)"
   ]
  },
  {
   "cell_type": "markdown",
   "metadata": {},
   "source": [
    "#### After Counting, not we need to sum the rows and the cols"
   ]
  },
  {
   "cell_type": "code",
   "execution_count": 11,
   "metadata": {},
   "outputs": [
    {
     "data": {
      "text/plain": [
       "Conservative    626\n",
       "Socialist       544\n",
       "Other            19\n",
       "dtype: int64"
      ]
     },
     "execution_count": 11,
     "metadata": {},
     "output_type": "execute_result"
    }
   ],
   "source": [
    "## We will use sum to sum the columns\n",
    "observedValues.sum()"
   ]
  },
  {
   "cell_type": "code",
   "execution_count": 12,
   "metadata": {},
   "outputs": [],
   "source": [
    "observedValues.loc['Total']=observedValues.sum()"
   ]
  },
  {
   "cell_type": "code",
   "execution_count": 13,
   "metadata": {},
   "outputs": [
    {
     "data": {
      "text/html": [
       "<div>\n",
       "<style scoped>\n",
       "    .dataframe tbody tr th:only-of-type {\n",
       "        vertical-align: middle;\n",
       "    }\n",
       "\n",
       "    .dataframe tbody tr th {\n",
       "        vertical-align: top;\n",
       "    }\n",
       "\n",
       "    .dataframe thead th {\n",
       "        text-align: right;\n",
       "    }\n",
       "</style>\n",
       "<table border=\"1\" class=\"dataframe\">\n",
       "  <thead>\n",
       "    <tr style=\"text-align: right;\">\n",
       "      <th></th>\n",
       "      <th>Conservative</th>\n",
       "      <th>Socialist</th>\n",
       "      <th>Other</th>\n",
       "    </tr>\n",
       "  </thead>\n",
       "  <tbody>\n",
       "    <tr>\n",
       "      <th>18-29</th>\n",
       "      <td>141</td>\n",
       "      <td>68</td>\n",
       "      <td>4</td>\n",
       "    </tr>\n",
       "    <tr>\n",
       "      <th>30-44</th>\n",
       "      <td>179</td>\n",
       "      <td>159</td>\n",
       "      <td>7</td>\n",
       "    </tr>\n",
       "    <tr>\n",
       "      <th>45-65</th>\n",
       "      <td>220</td>\n",
       "      <td>216</td>\n",
       "      <td>4</td>\n",
       "    </tr>\n",
       "    <tr>\n",
       "      <th>65 &amp; older</th>\n",
       "      <td>86</td>\n",
       "      <td>101</td>\n",
       "      <td>4</td>\n",
       "    </tr>\n",
       "    <tr>\n",
       "      <th>Total</th>\n",
       "      <td>626</td>\n",
       "      <td>544</td>\n",
       "      <td>19</td>\n",
       "    </tr>\n",
       "  </tbody>\n",
       "</table>\n",
       "</div>"
      ],
      "text/plain": [
       "            Conservative  Socialist  Other\n",
       "18-29                141         68      4\n",
       "30-44                179        159      7\n",
       "45-65                220        216      4\n",
       "65 & older            86        101      4\n",
       "Total                626        544     19"
      ]
     },
     "execution_count": 13,
     "metadata": {},
     "output_type": "execute_result"
    }
   ],
   "source": [
    "observedValues"
   ]
  },
  {
   "cell_type": "code",
   "execution_count": 14,
   "metadata": {},
   "outputs": [],
   "source": [
    "## Then sum with axis =1 to sum rows\n",
    "observedValues['Total']=observedValues.sum(axis=1)"
   ]
  },
  {
   "cell_type": "code",
   "execution_count": 15,
   "metadata": {},
   "outputs": [
    {
     "data": {
      "text/html": [
       "<div>\n",
       "<style scoped>\n",
       "    .dataframe tbody tr th:only-of-type {\n",
       "        vertical-align: middle;\n",
       "    }\n",
       "\n",
       "    .dataframe tbody tr th {\n",
       "        vertical-align: top;\n",
       "    }\n",
       "\n",
       "    .dataframe thead th {\n",
       "        text-align: right;\n",
       "    }\n",
       "</style>\n",
       "<table border=\"1\" class=\"dataframe\">\n",
       "  <thead>\n",
       "    <tr style=\"text-align: right;\">\n",
       "      <th></th>\n",
       "      <th>Conservative</th>\n",
       "      <th>Socialist</th>\n",
       "      <th>Other</th>\n",
       "      <th>Total</th>\n",
       "    </tr>\n",
       "  </thead>\n",
       "  <tbody>\n",
       "    <tr>\n",
       "      <th>18-29</th>\n",
       "      <td>141</td>\n",
       "      <td>68</td>\n",
       "      <td>4</td>\n",
       "      <td>213</td>\n",
       "    </tr>\n",
       "    <tr>\n",
       "      <th>30-44</th>\n",
       "      <td>179</td>\n",
       "      <td>159</td>\n",
       "      <td>7</td>\n",
       "      <td>345</td>\n",
       "    </tr>\n",
       "    <tr>\n",
       "      <th>45-65</th>\n",
       "      <td>220</td>\n",
       "      <td>216</td>\n",
       "      <td>4</td>\n",
       "      <td>440</td>\n",
       "    </tr>\n",
       "    <tr>\n",
       "      <th>65 &amp; older</th>\n",
       "      <td>86</td>\n",
       "      <td>101</td>\n",
       "      <td>4</td>\n",
       "      <td>191</td>\n",
       "    </tr>\n",
       "    <tr>\n",
       "      <th>Total</th>\n",
       "      <td>626</td>\n",
       "      <td>544</td>\n",
       "      <td>19</td>\n",
       "      <td>1189</td>\n",
       "    </tr>\n",
       "  </tbody>\n",
       "</table>\n",
       "</div>"
      ],
      "text/plain": [
       "            Conservative  Socialist  Other  Total\n",
       "18-29                141         68      4    213\n",
       "30-44                179        159      7    345\n",
       "45-65                220        216      4    440\n",
       "65 & older            86        101      4    191\n",
       "Total                626        544     19   1189"
      ]
     },
     "execution_count": 15,
     "metadata": {},
     "output_type": "execute_result"
    }
   ],
   "source": [
    "observedValues"
   ]
  },
  {
   "cell_type": "markdown",
   "metadata": {},
   "source": [
    "#### Finally we finished the first step\n",
    "## Step2: Calculate expected frequency data"
   ]
  },
  {
   "cell_type": "markdown",
   "metadata": {},
   "source": [
    "<img src='data:image/png;base64,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'>"
   ]
  },
  {
   "cell_type": "markdown",
   "metadata": {},
   "source": [
    "### So we will create the same dataframe, but the values will be the expected frequency"
   ]
  },
  {
   "cell_type": "code",
   "execution_count": 16,
   "metadata": {},
   "outputs": [
    {
     "name": "stdout",
     "output_type": "stream",
     "text": [
      "213\n",
      "626\n",
      "1189\n"
     ]
    }
   ],
   "source": [
    "## An Illustration\n",
    "matrix=[]\n",
    "for i in rows:\n",
    "    l=[]\n",
    "    for j in cols:\n",
    "        print(observedValues.loc[i,'Total'])\n",
    "        print(observedValues.loc['Total',j])\n",
    "        print(observedValues.loc['Total','Total'])\n",
    "        break\n",
    "    break"
   ]
  },
  {
   "cell_type": "code",
   "execution_count": 17,
   "metadata": {},
   "outputs": [
    {
     "data": {
      "text/plain": [
       "[[112.14297729184189, 97.4533221194281, 3.4037005887300253],\n",
       " [181.64003364171572, 157.84693019343987, 5.513036164844407],\n",
       " [231.65685449957948, 201.3120269133726, 7.031118587047939],\n",
       " [100.56013456686291, 87.38772077375947, 3.0521446593776282]]"
      ]
     },
     "execution_count": 17,
     "metadata": {},
     "output_type": "execute_result"
    }
   ],
   "source": [
    "matrix=[]\n",
    "for i in rows:\n",
    "    l=[]\n",
    "    for j in cols:\n",
    "        v=(observedValues.loc[i,'Total']*observedValues.loc['Total',j])/observedValues.loc['Total','Total']\n",
    "        l.append(v)\n",
    "    matrix.append(l)\n",
    "matrix"
   ]
  },
  {
   "cell_type": "code",
   "execution_count": 18,
   "metadata": {},
   "outputs": [
    {
     "data": {
      "text/html": [
       "<div>\n",
       "<style scoped>\n",
       "    .dataframe tbody tr th:only-of-type {\n",
       "        vertical-align: middle;\n",
       "    }\n",
       "\n",
       "    .dataframe tbody tr th {\n",
       "        vertical-align: top;\n",
       "    }\n",
       "\n",
       "    .dataframe thead th {\n",
       "        text-align: right;\n",
       "    }\n",
       "</style>\n",
       "<table border=\"1\" class=\"dataframe\">\n",
       "  <thead>\n",
       "    <tr style=\"text-align: right;\">\n",
       "      <th></th>\n",
       "      <th>Conservative</th>\n",
       "      <th>Socialist</th>\n",
       "      <th>Other</th>\n",
       "    </tr>\n",
       "  </thead>\n",
       "  <tbody>\n",
       "    <tr>\n",
       "      <th>18-29</th>\n",
       "      <td>112.142977</td>\n",
       "      <td>97.453322</td>\n",
       "      <td>3.403701</td>\n",
       "    </tr>\n",
       "    <tr>\n",
       "      <th>30-44</th>\n",
       "      <td>181.640034</td>\n",
       "      <td>157.846930</td>\n",
       "      <td>5.513036</td>\n",
       "    </tr>\n",
       "    <tr>\n",
       "      <th>45-65</th>\n",
       "      <td>231.656854</td>\n",
       "      <td>201.312027</td>\n",
       "      <td>7.031119</td>\n",
       "    </tr>\n",
       "    <tr>\n",
       "      <th>65 &amp; older</th>\n",
       "      <td>100.560135</td>\n",
       "      <td>87.387721</td>\n",
       "      <td>3.052145</td>\n",
       "    </tr>\n",
       "  </tbody>\n",
       "</table>\n",
       "</div>"
      ],
      "text/plain": [
       "            Conservative   Socialist     Other\n",
       "18-29         112.142977   97.453322  3.403701\n",
       "30-44         181.640034  157.846930  5.513036\n",
       "45-65         231.656854  201.312027  7.031119\n",
       "65 & older    100.560135   87.387721  3.052145"
      ]
     },
     "execution_count": 18,
     "metadata": {},
     "output_type": "execute_result"
    }
   ],
   "source": [
    "expectedF=pd.DataFrame(matrix,index=rows,columns=cols)\n",
    "expectedF"
   ]
  },
  {
   "cell_type": "code",
   "execution_count": 19,
   "metadata": {},
   "outputs": [],
   "source": [
    "observedValues.drop('Total',axis=1,inplace=True)\n",
    "observedValues.drop('Total',axis=0,inplace=True)"
   ]
  },
  {
   "cell_type": "code",
   "execution_count": 20,
   "metadata": {},
   "outputs": [
    {
     "data": {
      "text/html": [
       "<div>\n",
       "<style scoped>\n",
       "    .dataframe tbody tr th:only-of-type {\n",
       "        vertical-align: middle;\n",
       "    }\n",
       "\n",
       "    .dataframe tbody tr th {\n",
       "        vertical-align: top;\n",
       "    }\n",
       "\n",
       "    .dataframe thead th {\n",
       "        text-align: right;\n",
       "    }\n",
       "</style>\n",
       "<table border=\"1\" class=\"dataframe\">\n",
       "  <thead>\n",
       "    <tr style=\"text-align: right;\">\n",
       "      <th></th>\n",
       "      <th>Conservative</th>\n",
       "      <th>Socialist</th>\n",
       "      <th>Other</th>\n",
       "    </tr>\n",
       "  </thead>\n",
       "  <tbody>\n",
       "    <tr>\n",
       "      <th>18-29</th>\n",
       "      <td>141</td>\n",
       "      <td>68</td>\n",
       "      <td>4</td>\n",
       "    </tr>\n",
       "    <tr>\n",
       "      <th>30-44</th>\n",
       "      <td>179</td>\n",
       "      <td>159</td>\n",
       "      <td>7</td>\n",
       "    </tr>\n",
       "    <tr>\n",
       "      <th>45-65</th>\n",
       "      <td>220</td>\n",
       "      <td>216</td>\n",
       "      <td>4</td>\n",
       "    </tr>\n",
       "    <tr>\n",
       "      <th>65 &amp; older</th>\n",
       "      <td>86</td>\n",
       "      <td>101</td>\n",
       "      <td>4</td>\n",
       "    </tr>\n",
       "  </tbody>\n",
       "</table>\n",
       "</div>"
      ],
      "text/plain": [
       "            Conservative  Socialist  Other\n",
       "18-29                141         68      4\n",
       "30-44                179        159      7\n",
       "45-65                220        216      4\n",
       "65 & older            86        101      4"
      ]
     },
     "execution_count": 20,
     "metadata": {},
     "output_type": "execute_result"
    }
   ],
   "source": [
    "observedValues"
   ]
  },
  {
   "cell_type": "markdown",
   "metadata": {},
   "source": [
    "#### We finished Step 2,\n",
    "### let's Determine Degrees of Freedom"
   ]
  },
  {
   "cell_type": "markdown",
   "metadata": {},
   "source": [
    "<img src='data:image/jpeg;base64,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'>"
   ]
  },
  {
   "cell_type": "code",
   "execution_count": 21,
   "metadata": {},
   "outputs": [
    {
     "data": {
      "text/plain": [
       "(4, 3)"
      ]
     },
     "execution_count": 21,
     "metadata": {},
     "output_type": "execute_result"
    }
   ],
   "source": [
    "expectedF.shape"
   ]
  },
  {
   "cell_type": "code",
   "execution_count": 22,
   "metadata": {},
   "outputs": [
    {
     "data": {
      "text/plain": [
       "6"
      ]
     },
     "execution_count": 22,
     "metadata": {},
     "output_type": "execute_result"
    }
   ],
   "source": [
    "freeDom=(expectedF.shape[0]-1)*(expectedF.shape[1]-1)\n",
    "freeDom"
   ]
  },
  {
   "cell_type": "markdown",
   "metadata": {},
   "source": [
    "#### We finished Step 3,\n",
    "### let's Calculate the chi square"
   ]
  },
  {
   "cell_type": "markdown",
   "metadata": {},
   "source": [
    "<img src='https://encrypted-tbn0.gstatic.com/images?q=tbn:ANd9GcQiY4aA2NBkACxANJ-Wo-y17Yaw-RgyV6cf_w&usqp=CAU'>"
   ]
  },
  {
   "cell_type": "markdown",
   "metadata": {},
   "source": [
    "#### We have observed values and expected, so let's calculate the chi score\n",
    "### We need to shape the data into this table"
   ]
  },
  {
   "cell_type": "markdown",
   "metadata": {},
   "source": [
    "<img src='https://2.bp.blogspot.com/-L2P9OCfmz98/WqINYS0bmvI/AAAAAAAABMQ/lRIMjyo0Snw2K9BnXrpjRH0eKBwgtsW0wCLcBGAs/s1600/ChiSquare-Table-Final.jpg' width='600'>"
   ]
  },
  {
   "cell_type": "markdown",
   "metadata": {},
   "source": [
    "#### df.values.flatten will be used to convert df to 1d-array"
   ]
  },
  {
   "cell_type": "code",
   "execution_count": 23,
   "metadata": {},
   "outputs": [
    {
     "data": {
      "text/plain": [
       "array([141,  68,   4, 179, 159,   7, 220, 216,   4,  86, 101,   4],\n",
       "      dtype=int64)"
      ]
     },
     "execution_count": 23,
     "metadata": {},
     "output_type": "execute_result"
    }
   ],
   "source": [
    "observedValues.values.flatten()"
   ]
  },
  {
   "cell_type": "code",
   "execution_count": 24,
   "metadata": {},
   "outputs": [
    {
     "data": {
      "text/html": [
       "<div>\n",
       "<style scoped>\n",
       "    .dataframe tbody tr th:only-of-type {\n",
       "        vertical-align: middle;\n",
       "    }\n",
       "\n",
       "    .dataframe tbody tr th {\n",
       "        vertical-align: top;\n",
       "    }\n",
       "\n",
       "    .dataframe thead th {\n",
       "        text-align: right;\n",
       "    }\n",
       "</style>\n",
       "<table border=\"1\" class=\"dataframe\">\n",
       "  <thead>\n",
       "    <tr style=\"text-align: right;\">\n",
       "      <th></th>\n",
       "      <th>O</th>\n",
       "    </tr>\n",
       "  </thead>\n",
       "  <tbody>\n",
       "    <tr>\n",
       "      <th>0</th>\n",
       "      <td>141</td>\n",
       "    </tr>\n",
       "    <tr>\n",
       "      <th>1</th>\n",
       "      <td>68</td>\n",
       "    </tr>\n",
       "    <tr>\n",
       "      <th>2</th>\n",
       "      <td>4</td>\n",
       "    </tr>\n",
       "    <tr>\n",
       "      <th>3</th>\n",
       "      <td>179</td>\n",
       "    </tr>\n",
       "    <tr>\n",
       "      <th>4</th>\n",
       "      <td>159</td>\n",
       "    </tr>\n",
       "    <tr>\n",
       "      <th>5</th>\n",
       "      <td>7</td>\n",
       "    </tr>\n",
       "    <tr>\n",
       "      <th>6</th>\n",
       "      <td>220</td>\n",
       "    </tr>\n",
       "    <tr>\n",
       "      <th>7</th>\n",
       "      <td>216</td>\n",
       "    </tr>\n",
       "    <tr>\n",
       "      <th>8</th>\n",
       "      <td>4</td>\n",
       "    </tr>\n",
       "    <tr>\n",
       "      <th>9</th>\n",
       "      <td>86</td>\n",
       "    </tr>\n",
       "    <tr>\n",
       "      <th>10</th>\n",
       "      <td>101</td>\n",
       "    </tr>\n",
       "    <tr>\n",
       "      <th>11</th>\n",
       "      <td>4</td>\n",
       "    </tr>\n",
       "  </tbody>\n",
       "</table>\n",
       "</div>"
      ],
      "text/plain": [
       "      O\n",
       "0   141\n",
       "1    68\n",
       "2     4\n",
       "3   179\n",
       "4   159\n",
       "5     7\n",
       "6   220\n",
       "7   216\n",
       "8     4\n",
       "9    86\n",
       "10  101\n",
       "11    4"
      ]
     },
     "execution_count": 24,
     "metadata": {},
     "output_type": "execute_result"
    }
   ],
   "source": [
    "chiScoreTable=pd.DataFrame(observedValues.values.flatten(),columns=['O'])\n",
    "chiScoreTable"
   ]
  },
  {
   "cell_type": "code",
   "execution_count": 25,
   "metadata": {},
   "outputs": [
    {
     "data": {
      "text/html": [
       "<div>\n",
       "<style scoped>\n",
       "    .dataframe tbody tr th:only-of-type {\n",
       "        vertical-align: middle;\n",
       "    }\n",
       "\n",
       "    .dataframe tbody tr th {\n",
       "        vertical-align: top;\n",
       "    }\n",
       "\n",
       "    .dataframe thead th {\n",
       "        text-align: right;\n",
       "    }\n",
       "</style>\n",
       "<table border=\"1\" class=\"dataframe\">\n",
       "  <thead>\n",
       "    <tr style=\"text-align: right;\">\n",
       "      <th></th>\n",
       "      <th>O</th>\n",
       "      <th>E</th>\n",
       "    </tr>\n",
       "  </thead>\n",
       "  <tbody>\n",
       "    <tr>\n",
       "      <th>0</th>\n",
       "      <td>141</td>\n",
       "      <td>112.142977</td>\n",
       "    </tr>\n",
       "    <tr>\n",
       "      <th>1</th>\n",
       "      <td>68</td>\n",
       "      <td>97.453322</td>\n",
       "    </tr>\n",
       "    <tr>\n",
       "      <th>2</th>\n",
       "      <td>4</td>\n",
       "      <td>3.403701</td>\n",
       "    </tr>\n",
       "    <tr>\n",
       "      <th>3</th>\n",
       "      <td>179</td>\n",
       "      <td>181.640034</td>\n",
       "    </tr>\n",
       "    <tr>\n",
       "      <th>4</th>\n",
       "      <td>159</td>\n",
       "      <td>157.846930</td>\n",
       "    </tr>\n",
       "    <tr>\n",
       "      <th>5</th>\n",
       "      <td>7</td>\n",
       "      <td>5.513036</td>\n",
       "    </tr>\n",
       "    <tr>\n",
       "      <th>6</th>\n",
       "      <td>220</td>\n",
       "      <td>231.656854</td>\n",
       "    </tr>\n",
       "    <tr>\n",
       "      <th>7</th>\n",
       "      <td>216</td>\n",
       "      <td>201.312027</td>\n",
       "    </tr>\n",
       "    <tr>\n",
       "      <th>8</th>\n",
       "      <td>4</td>\n",
       "      <td>7.031119</td>\n",
       "    </tr>\n",
       "    <tr>\n",
       "      <th>9</th>\n",
       "      <td>86</td>\n",
       "      <td>100.560135</td>\n",
       "    </tr>\n",
       "    <tr>\n",
       "      <th>10</th>\n",
       "      <td>101</td>\n",
       "      <td>87.387721</td>\n",
       "    </tr>\n",
       "    <tr>\n",
       "      <th>11</th>\n",
       "      <td>4</td>\n",
       "      <td>3.052145</td>\n",
       "    </tr>\n",
       "  </tbody>\n",
       "</table>\n",
       "</div>"
      ],
      "text/plain": [
       "      O           E\n",
       "0   141  112.142977\n",
       "1    68   97.453322\n",
       "2     4    3.403701\n",
       "3   179  181.640034\n",
       "4   159  157.846930\n",
       "5     7    5.513036\n",
       "6   220  231.656854\n",
       "7   216  201.312027\n",
       "8     4    7.031119\n",
       "9    86  100.560135\n",
       "10  101   87.387721\n",
       "11    4    3.052145"
      ]
     },
     "execution_count": 25,
     "metadata": {},
     "output_type": "execute_result"
    }
   ],
   "source": [
    "## Let's add Expected value\n",
    "chiScoreTable['E']=expectedF.values.flatten()\n",
    "chiScoreTable"
   ]
  },
  {
   "cell_type": "code",
   "execution_count": 26,
   "metadata": {},
   "outputs": [
    {
     "data": {
      "text/html": [
       "<div>\n",
       "<style scoped>\n",
       "    .dataframe tbody tr th:only-of-type {\n",
       "        vertical-align: middle;\n",
       "    }\n",
       "\n",
       "    .dataframe tbody tr th {\n",
       "        vertical-align: top;\n",
       "    }\n",
       "\n",
       "    .dataframe thead th {\n",
       "        text-align: right;\n",
       "    }\n",
       "</style>\n",
       "<table border=\"1\" class=\"dataframe\">\n",
       "  <thead>\n",
       "    <tr style=\"text-align: right;\">\n",
       "      <th></th>\n",
       "      <th>O</th>\n",
       "      <th>E</th>\n",
       "      <th>O-E</th>\n",
       "    </tr>\n",
       "  </thead>\n",
       "  <tbody>\n",
       "    <tr>\n",
       "      <th>0</th>\n",
       "      <td>141</td>\n",
       "      <td>112.142977</td>\n",
       "      <td>28.857023</td>\n",
       "    </tr>\n",
       "    <tr>\n",
       "      <th>1</th>\n",
       "      <td>68</td>\n",
       "      <td>97.453322</td>\n",
       "      <td>-29.453322</td>\n",
       "    </tr>\n",
       "    <tr>\n",
       "      <th>2</th>\n",
       "      <td>4</td>\n",
       "      <td>3.403701</td>\n",
       "      <td>0.596299</td>\n",
       "    </tr>\n",
       "    <tr>\n",
       "      <th>3</th>\n",
       "      <td>179</td>\n",
       "      <td>181.640034</td>\n",
       "      <td>-2.640034</td>\n",
       "    </tr>\n",
       "    <tr>\n",
       "      <th>4</th>\n",
       "      <td>159</td>\n",
       "      <td>157.846930</td>\n",
       "      <td>1.153070</td>\n",
       "    </tr>\n",
       "    <tr>\n",
       "      <th>5</th>\n",
       "      <td>7</td>\n",
       "      <td>5.513036</td>\n",
       "      <td>1.486964</td>\n",
       "    </tr>\n",
       "    <tr>\n",
       "      <th>6</th>\n",
       "      <td>220</td>\n",
       "      <td>231.656854</td>\n",
       "      <td>-11.656854</td>\n",
       "    </tr>\n",
       "    <tr>\n",
       "      <th>7</th>\n",
       "      <td>216</td>\n",
       "      <td>201.312027</td>\n",
       "      <td>14.687973</td>\n",
       "    </tr>\n",
       "    <tr>\n",
       "      <th>8</th>\n",
       "      <td>4</td>\n",
       "      <td>7.031119</td>\n",
       "      <td>-3.031119</td>\n",
       "    </tr>\n",
       "    <tr>\n",
       "      <th>9</th>\n",
       "      <td>86</td>\n",
       "      <td>100.560135</td>\n",
       "      <td>-14.560135</td>\n",
       "    </tr>\n",
       "    <tr>\n",
       "      <th>10</th>\n",
       "      <td>101</td>\n",
       "      <td>87.387721</td>\n",
       "      <td>13.612279</td>\n",
       "    </tr>\n",
       "    <tr>\n",
       "      <th>11</th>\n",
       "      <td>4</td>\n",
       "      <td>3.052145</td>\n",
       "      <td>0.947855</td>\n",
       "    </tr>\n",
       "  </tbody>\n",
       "</table>\n",
       "</div>"
      ],
      "text/plain": [
       "      O           E        O-E\n",
       "0   141  112.142977  28.857023\n",
       "1    68   97.453322 -29.453322\n",
       "2     4    3.403701   0.596299\n",
       "3   179  181.640034  -2.640034\n",
       "4   159  157.846930   1.153070\n",
       "5     7    5.513036   1.486964\n",
       "6   220  231.656854 -11.656854\n",
       "7   216  201.312027  14.687973\n",
       "8     4    7.031119  -3.031119\n",
       "9    86  100.560135 -14.560135\n",
       "10  101   87.387721  13.612279\n",
       "11    4    3.052145   0.947855"
      ]
     },
     "execution_count": 26,
     "metadata": {},
     "output_type": "execute_result"
    }
   ],
   "source": [
    "## Let's calculate O-E\n",
    "chiScoreTable['O-E']=chiScoreTable['O']-chiScoreTable['E']\n",
    "chiScoreTable"
   ]
  },
  {
   "cell_type": "code",
   "execution_count": 27,
   "metadata": {},
   "outputs": [
    {
     "data": {
      "text/html": [
       "<div>\n",
       "<style scoped>\n",
       "    .dataframe tbody tr th:only-of-type {\n",
       "        vertical-align: middle;\n",
       "    }\n",
       "\n",
       "    .dataframe tbody tr th {\n",
       "        vertical-align: top;\n",
       "    }\n",
       "\n",
       "    .dataframe thead th {\n",
       "        text-align: right;\n",
       "    }\n",
       "</style>\n",
       "<table border=\"1\" class=\"dataframe\">\n",
       "  <thead>\n",
       "    <tr style=\"text-align: right;\">\n",
       "      <th></th>\n",
       "      <th>O</th>\n",
       "      <th>E</th>\n",
       "      <th>O-E</th>\n",
       "      <th>(O-E)^2</th>\n",
       "    </tr>\n",
       "  </thead>\n",
       "  <tbody>\n",
       "    <tr>\n",
       "      <th>0</th>\n",
       "      <td>141</td>\n",
       "      <td>112.142977</td>\n",
       "      <td>28.857023</td>\n",
       "      <td>832.727760</td>\n",
       "    </tr>\n",
       "    <tr>\n",
       "      <th>1</th>\n",
       "      <td>68</td>\n",
       "      <td>97.453322</td>\n",
       "      <td>-29.453322</td>\n",
       "      <td>867.498184</td>\n",
       "    </tr>\n",
       "    <tr>\n",
       "      <th>2</th>\n",
       "      <td>4</td>\n",
       "      <td>3.403701</td>\n",
       "      <td>0.596299</td>\n",
       "      <td>0.355573</td>\n",
       "    </tr>\n",
       "    <tr>\n",
       "      <th>3</th>\n",
       "      <td>179</td>\n",
       "      <td>181.640034</td>\n",
       "      <td>-2.640034</td>\n",
       "      <td>6.969778</td>\n",
       "    </tr>\n",
       "    <tr>\n",
       "      <th>4</th>\n",
       "      <td>159</td>\n",
       "      <td>157.846930</td>\n",
       "      <td>1.153070</td>\n",
       "      <td>1.329570</td>\n",
       "    </tr>\n",
       "    <tr>\n",
       "      <th>5</th>\n",
       "      <td>7</td>\n",
       "      <td>5.513036</td>\n",
       "      <td>1.486964</td>\n",
       "      <td>2.211061</td>\n",
       "    </tr>\n",
       "    <tr>\n",
       "      <th>6</th>\n",
       "      <td>220</td>\n",
       "      <td>231.656854</td>\n",
       "      <td>-11.656854</td>\n",
       "      <td>135.882257</td>\n",
       "    </tr>\n",
       "    <tr>\n",
       "      <th>7</th>\n",
       "      <td>216</td>\n",
       "      <td>201.312027</td>\n",
       "      <td>14.687973</td>\n",
       "      <td>215.736553</td>\n",
       "    </tr>\n",
       "    <tr>\n",
       "      <th>8</th>\n",
       "      <td>4</td>\n",
       "      <td>7.031119</td>\n",
       "      <td>-3.031119</td>\n",
       "      <td>9.187680</td>\n",
       "    </tr>\n",
       "    <tr>\n",
       "      <th>9</th>\n",
       "      <td>86</td>\n",
       "      <td>100.560135</td>\n",
       "      <td>-14.560135</td>\n",
       "      <td>211.997519</td>\n",
       "    </tr>\n",
       "    <tr>\n",
       "      <th>10</th>\n",
       "      <td>101</td>\n",
       "      <td>87.387721</td>\n",
       "      <td>13.612279</td>\n",
       "      <td>185.294146</td>\n",
       "    </tr>\n",
       "    <tr>\n",
       "      <th>11</th>\n",
       "      <td>4</td>\n",
       "      <td>3.052145</td>\n",
       "      <td>0.947855</td>\n",
       "      <td>0.898430</td>\n",
       "    </tr>\n",
       "  </tbody>\n",
       "</table>\n",
       "</div>"
      ],
      "text/plain": [
       "      O           E        O-E     (O-E)^2\n",
       "0   141  112.142977  28.857023  832.727760\n",
       "1    68   97.453322 -29.453322  867.498184\n",
       "2     4    3.403701   0.596299    0.355573\n",
       "3   179  181.640034  -2.640034    6.969778\n",
       "4   159  157.846930   1.153070    1.329570\n",
       "5     7    5.513036   1.486964    2.211061\n",
       "6   220  231.656854 -11.656854  135.882257\n",
       "7   216  201.312027  14.687973  215.736553\n",
       "8     4    7.031119  -3.031119    9.187680\n",
       "9    86  100.560135 -14.560135  211.997519\n",
       "10  101   87.387721  13.612279  185.294146\n",
       "11    4    3.052145   0.947855    0.898430"
      ]
     },
     "execution_count": 27,
     "metadata": {},
     "output_type": "execute_result"
    }
   ],
   "source": [
    "## Let's calculate (O-E)^2\n",
    "chiScoreTable['(O-E)^2']=chiScoreTable['O-E']**2\n",
    "chiScoreTable"
   ]
  },
  {
   "cell_type": "code",
   "execution_count": 28,
   "metadata": {},
   "outputs": [
    {
     "data": {
      "text/html": [
       "<div>\n",
       "<style scoped>\n",
       "    .dataframe tbody tr th:only-of-type {\n",
       "        vertical-align: middle;\n",
       "    }\n",
       "\n",
       "    .dataframe tbody tr th {\n",
       "        vertical-align: top;\n",
       "    }\n",
       "\n",
       "    .dataframe thead th {\n",
       "        text-align: right;\n",
       "    }\n",
       "</style>\n",
       "<table border=\"1\" class=\"dataframe\">\n",
       "  <thead>\n",
       "    <tr style=\"text-align: right;\">\n",
       "      <th></th>\n",
       "      <th>O</th>\n",
       "      <th>E</th>\n",
       "      <th>O-E</th>\n",
       "      <th>(O-E)^2</th>\n",
       "      <th>((O-E)^2)\\E</th>\n",
       "    </tr>\n",
       "  </thead>\n",
       "  <tbody>\n",
       "    <tr>\n",
       "      <th>0</th>\n",
       "      <td>141</td>\n",
       "      <td>112.142977</td>\n",
       "      <td>28.857023</td>\n",
       "      <td>832.727760</td>\n",
       "      <td>7.425590</td>\n",
       "    </tr>\n",
       "    <tr>\n",
       "      <th>1</th>\n",
       "      <td>68</td>\n",
       "      <td>97.453322</td>\n",
       "      <td>-29.453322</td>\n",
       "      <td>867.498184</td>\n",
       "      <td>8.901679</td>\n",
       "    </tr>\n",
       "    <tr>\n",
       "      <th>2</th>\n",
       "      <td>4</td>\n",
       "      <td>3.403701</td>\n",
       "      <td>0.596299</td>\n",
       "      <td>0.355573</td>\n",
       "      <td>0.104467</td>\n",
       "    </tr>\n",
       "    <tr>\n",
       "      <th>3</th>\n",
       "      <td>179</td>\n",
       "      <td>181.640034</td>\n",
       "      <td>-2.640034</td>\n",
       "      <td>6.969778</td>\n",
       "      <td>0.038371</td>\n",
       "    </tr>\n",
       "    <tr>\n",
       "      <th>4</th>\n",
       "      <td>159</td>\n",
       "      <td>157.846930</td>\n",
       "      <td>1.153070</td>\n",
       "      <td>1.329570</td>\n",
       "      <td>0.008423</td>\n",
       "    </tr>\n",
       "    <tr>\n",
       "      <th>5</th>\n",
       "      <td>7</td>\n",
       "      <td>5.513036</td>\n",
       "      <td>1.486964</td>\n",
       "      <td>2.211061</td>\n",
       "      <td>0.401061</td>\n",
       "    </tr>\n",
       "    <tr>\n",
       "      <th>6</th>\n",
       "      <td>220</td>\n",
       "      <td>231.656854</td>\n",
       "      <td>-11.656854</td>\n",
       "      <td>135.882257</td>\n",
       "      <td>0.586567</td>\n",
       "    </tr>\n",
       "    <tr>\n",
       "      <th>7</th>\n",
       "      <td>216</td>\n",
       "      <td>201.312027</td>\n",
       "      <td>14.687973</td>\n",
       "      <td>215.736553</td>\n",
       "      <td>1.071653</td>\n",
       "    </tr>\n",
       "    <tr>\n",
       "      <th>8</th>\n",
       "      <td>4</td>\n",
       "      <td>7.031119</td>\n",
       "      <td>-3.031119</td>\n",
       "      <td>9.187680</td>\n",
       "      <td>1.306717</td>\n",
       "    </tr>\n",
       "    <tr>\n",
       "      <th>9</th>\n",
       "      <td>86</td>\n",
       "      <td>100.560135</td>\n",
       "      <td>-14.560135</td>\n",
       "      <td>211.997519</td>\n",
       "      <td>2.108167</td>\n",
       "    </tr>\n",
       "    <tr>\n",
       "      <th>10</th>\n",
       "      <td>101</td>\n",
       "      <td>87.387721</td>\n",
       "      <td>13.612279</td>\n",
       "      <td>185.294146</td>\n",
       "      <td>2.120368</td>\n",
       "    </tr>\n",
       "    <tr>\n",
       "      <th>11</th>\n",
       "      <td>4</td>\n",
       "      <td>3.052145</td>\n",
       "      <td>0.947855</td>\n",
       "      <td>0.898430</td>\n",
       "      <td>0.294360</td>\n",
       "    </tr>\n",
       "  </tbody>\n",
       "</table>\n",
       "</div>"
      ],
      "text/plain": [
       "      O           E        O-E     (O-E)^2  ((O-E)^2)\\E\n",
       "0   141  112.142977  28.857023  832.727760     7.425590\n",
       "1    68   97.453322 -29.453322  867.498184     8.901679\n",
       "2     4    3.403701   0.596299    0.355573     0.104467\n",
       "3   179  181.640034  -2.640034    6.969778     0.038371\n",
       "4   159  157.846930   1.153070    1.329570     0.008423\n",
       "5     7    5.513036   1.486964    2.211061     0.401061\n",
       "6   220  231.656854 -11.656854  135.882257     0.586567\n",
       "7   216  201.312027  14.687973  215.736553     1.071653\n",
       "8     4    7.031119  -3.031119    9.187680     1.306717\n",
       "9    86  100.560135 -14.560135  211.997519     2.108167\n",
       "10  101   87.387721  13.612279  185.294146     2.120368\n",
       "11    4    3.052145   0.947855    0.898430     0.294360"
      ]
     },
     "execution_count": 28,
     "metadata": {},
     "output_type": "execute_result"
    }
   ],
   "source": [
    "## Let's calculate ((O-E)^2)\\E\n",
    "chiScoreTable['((O-E)^2)\\E']=chiScoreTable['(O-E)^2']/chiScoreTable['E']\n",
    "chiScoreTable"
   ]
  },
  {
   "cell_type": "markdown",
   "metadata": {},
   "source": [
    "## Finally, Chi Score is the sum of ((O-E)^2)\\E Column"
   ]
  },
  {
   "cell_type": "code",
   "execution_count": 29,
   "metadata": {},
   "outputs": [
    {
     "data": {
      "text/plain": [
       "24.367421717305206"
      ]
     },
     "execution_count": 29,
     "metadata": {},
     "output_type": "execute_result"
    }
   ],
   "source": [
    "chiScore=chiScoreTable['((O-E)^2)\\E'].sum()\n",
    "chiScore"
   ]
  },
  {
   "cell_type": "markdown",
   "metadata": {},
   "source": [
    "#### If the chi square statistic exceeds the probability or table value (based upon a p-value of x and n degrees of freedom) the null hypothesis should be rejected."
   ]
  },
  {
   "cell_type": "markdown",
   "metadata": {},
   "source": [
    "#### let's Get Tabular Value of chi tablue that Freedom is 6 and p-value is 0.05\n"
   ]
  },
  {
   "cell_type": "markdown",
   "metadata": {},
   "source": [
    "<img src='https://www.mun.ca/biology/scarr/IntroPopGen-Table-D-01-smc.jpg'>"
   ]
  },
  {
   "cell_type": "code",
   "execution_count": 30,
   "metadata": {},
   "outputs": [],
   "source": [
    "TabularValue=12.592"
   ]
  },
  {
   "cell_type": "code",
   "execution_count": 31,
   "metadata": {},
   "outputs": [
    {
     "data": {
      "text/plain": [
       "(12.592, 24.367421717305206)"
      ]
     },
     "execution_count": 31,
     "metadata": {},
     "output_type": "execute_result"
    }
   ],
   "source": [
    "TabularValue,chiScore"
   ]
  },
  {
   "cell_type": "markdown",
   "metadata": {},
   "source": [
    "Since the chi square statistic exceeds  table value (based upon a p-value of x and n degrees of freedom) the null hypothesis should is rejected."
   ]
  },
  {
   "cell_type": "markdown",
   "metadata": {},
   "source": [
    "### You can get the tabular value of chi square using scipy library"
   ]
  },
  {
   "cell_type": "code",
   "execution_count": 32,
   "metadata": {},
   "outputs": [
    {
     "data": {
      "text/plain": [
       "12.591587243743977"
      ]
     },
     "execution_count": 32,
     "metadata": {},
     "output_type": "execute_result"
    }
   ],
   "source": [
    "from scipy.stats import chi2\n",
    "\n",
    "deg_f = 6\n",
    "sig = 0.05\n",
    "\n",
    "chi2.ppf(1-sig, deg_f)"
   ]
  },
  {
   "cell_type": "markdown",
   "metadata": {},
   "source": [
    "# T test\n",
    "is a statistical test that is used to compare the means of two groups. It is often used in hypothesis testing to determine whether a process or treatment actually has an effect on the population of interest, or whether two groups are different from one another."
   ]
  },
  {
   "cell_type": "markdown",
   "metadata": {},
   "source": [
    "<img src='https://encrypted-tbn0.gstatic.com/images?q=tbn:ANd9GcTNswI-NkiSb3VS7MRRvwVvs32kpJarWjzF-g&usqp=CAU'>\n",
    "<img src='https://slideplayer.com/slide/5039206/16/images/20/Pooled+Estimate+of+the+Standard+Error+t-test+for+the+Difference+of+Means.jpg' width=500>"
   ]
  },
  {
   "cell_type": "markdown",
   "metadata": {},
   "source": [
    "### Let's solve an exercise"
   ]
  },
  {
   "cell_type": "markdown",
   "metadata": {},
   "source": [
    "we want to Compare the effectiveness of ammonium chloride and urea, on the grain yield of paddy,"
   ]
  },
  {
   "cell_type": "code",
   "execution_count": 33,
   "metadata": {},
   "outputs": [
    {
     "data": {
      "text/plain": [
       "(12, 12)"
      ]
     },
     "execution_count": 33,
     "metadata": {},
     "output_type": "execute_result"
    }
   ],
   "source": [
    "## Here are our two samples\n",
    "Ammonium_chloride=np.array([13.4,10.9,11.2,11.8,14,15.3,14.2,12.6,17,16.2,16.5,15.7])\n",
    "Urea=np.array([12,11.7,10.7,11.2,14.8,14.4,13.9,13.7,16.9,16,15.6,16])\n",
    "\n",
    "l1=len(Ammonium_chloride)\n",
    "l2=len(Urea)\n",
    "l1,l2"
   ]
  },
  {
   "cell_type": "markdown",
   "metadata": {},
   "source": [
    "**H0**: The effect of ammonium chloride and urea on grain yield of paddy are equal i.e., μ1 = μ2\n",
    "\n",
    "**H1**: The effect of ammonium chloride and urea on grain yield of paddy is not equal i.e., μ1 ≠ \n",
    "\n",
    "#### Alpha = 0.05"
   ]
  },
  {
   "cell_type": "markdown",
   "metadata": {},
   "source": [
    "#### we need to get these values\n",
    "\n",
    "x̄1 and x̄2 are sample means for x1 and x2 respectively.<br>\n",
    "\n",
    "n1 and n2 are the numbers of observations in x1 and x2 respectively.<br>\n",
    "\n",
    "s1 and s2 are the sample standard deviation for x1 and x2 respectively.<br>"
   ]
  },
  {
   "cell_type": "code",
   "execution_count": 34,
   "metadata": {},
   "outputs": [
    {
     "data": {
      "text/plain": [
       "(14.066666666666665, 13.908333333333333)"
      ]
     },
     "execution_count": 34,
     "metadata": {},
     "output_type": "execute_result"
    }
   ],
   "source": [
    "x1Mean=Ammonium_chloride.mean()\n",
    "x2Mean=Urea.mean()\n",
    "x1Mean,x2Mean"
   ]
  },
  {
   "cell_type": "code",
   "execution_count": 35,
   "metadata": {},
   "outputs": [
    {
     "data": {
      "text/plain": [
       "(4.4787878787878785, 4.344469696969697)"
      ]
     },
     "execution_count": 35,
     "metadata": {},
     "output_type": "execute_result"
    }
   ],
   "source": [
    "x1var=Ammonium_chloride.var(ddof=1)\n",
    "x2var=Urea.var(ddof=1)\n",
    "x1var,x2var"
   ]
  },
  {
   "cell_type": "code",
   "execution_count": 36,
   "metadata": {},
   "outputs": [
    {
     "data": {
      "text/plain": [
       "0.8574797167551339"
      ]
     },
     "execution_count": 36,
     "metadata": {},
     "output_type": "execute_result"
    }
   ],
   "source": [
    "num=(l1-1)*x1var+(l2-1)*x2var\n",
    "dem=l1+l2-2\n",
    "part1=num/dem\n",
    "part2=(1/l1)+(1/l2)\n",
    "S=np.sqrt(part1*part2)\n",
    "S"
   ]
  },
  {
   "cell_type": "code",
   "execution_count": 37,
   "metadata": {},
   "outputs": [
    {
     "data": {
      "text/plain": [
       "0.1846496543760765"
      ]
     },
     "execution_count": 37,
     "metadata": {},
     "output_type": "execute_result"
    }
   ],
   "source": [
    "tScore=(x1Mean-x2Mean)/S\n",
    "tScore"
   ]
  },
  {
   "cell_type": "code",
   "execution_count": 38,
   "metadata": {},
   "outputs": [
    {
     "data": {
      "text/plain": [
       "22"
      ]
     },
     "execution_count": 38,
     "metadata": {},
     "output_type": "execute_result"
    }
   ],
   "source": [
    "## Degree of freedom n-k\n",
    "## n = total for both groups 1 and 2 (35)\n",
    "## k = number of groups\n",
    "DegreeF=l1+l2-2\n",
    "DegreeF"
   ]
  },
  {
   "cell_type": "code",
   "execution_count": 39,
   "metadata": {},
   "outputs": [],
   "source": [
    "alpha = 0.05"
   ]
  },
  {
   "cell_type": "code",
   "execution_count": 40,
   "metadata": {},
   "outputs": [
    {
     "data": {
      "text/plain": [
       "1.717144374380242"
      ]
     },
     "execution_count": 40,
     "metadata": {},
     "output_type": "execute_result"
    }
   ],
   "source": [
    "## From t table, the value of degree 22 and alpha 0.05 is 0.85\n",
    "import scipy\n",
    "scipy.stats.t.ppf(1-0.05, 22)"
   ]
  },
  {
   "cell_type": "code",
   "execution_count": 41,
   "metadata": {
    "scrolled": true
   },
   "outputs": [
    {
     "data": {
      "text/plain": [
       "0.1846496543760765"
      ]
     },
     "execution_count": 41,
     "metadata": {},
     "output_type": "execute_result"
    }
   ],
   "source": [
    "scipy.stats.ttest_ind(Ammonium_chloride, Urea).statistic"
   ]
  },
  {
   "cell_type": "markdown",
   "metadata": {},
   "source": [
    "#### Since t Score < table value, we accept the H0\n"
   ]
  },
  {
   "cell_type": "markdown",
   "metadata": {},
   "source": [
    "### Exercise"
   ]
  },
  {
   "cell_type": "code",
   "execution_count": 42,
   "metadata": {},
   "outputs": [],
   "source": [
    "## You have a date of student's marks in two tests\n",
    "## Do you think the marks give evidence that the students have benefited from the exam coaching?\n",
    "alpha = 0.05\n",
    "first_test =[23, 20, 19, 21, 18, 20, 18, 17, 23, 16, 19]\n",
    "second_test=[24, 19, 22, 18, 20, 22, 20, 20, 23, 20, 18]"
   ]
  },
  {
   "cell_type": "markdown",
   "metadata": {},
   "source": [
    "Hypothesis\n",
    "\n",
    "H0: The students have not benefited from the tuition class. i.e.\n",
    "\n",
    "H1: The students have benefited from the tuition class. i.e."
   ]
  },
  {
   "cell_type": "code",
   "execution_count": 43,
   "metadata": {},
   "outputs": [],
   "source": [
    "## Calculate the t score and t table value and comment if you will accept or reject the H0\n",
    "\n",
    "################YouSol################\n"
   ]
  }
 ],
 "metadata": {
  "kernelspec": {
   "display_name": "Python 3",
   "language": "python",
   "name": "python3"
  },
  "language_info": {
   "codemirror_mode": {
    "name": "ipython",
    "version": 3
   },
   "file_extension": ".py",
   "mimetype": "text/x-python",
   "name": "python",
   "nbconvert_exporter": "python",
   "pygments_lexer": "ipython3",
   "version": "3.8.5"
  }
 },
 "nbformat": 4,
 "nbformat_minor": 2
}
