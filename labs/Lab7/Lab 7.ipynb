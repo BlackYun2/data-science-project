{
 "cells": [
  {
   "cell_type": "markdown",
   "metadata": {},
   "source": [
    "# Introduction to Data Science \n",
    "\n",
    "\n",
    "## Lab 6: Exercise\n",
    "\n",
    "**British University in Egypt**<br>\n",
    "**Instructors:** Nahla Barakt <br>"
   ]
  },
  {
   "cell_type": "code",
   "execution_count": 1,
   "metadata": {},
   "outputs": [
    {
     "data": {
      "text/html": [
       "<style>div.exercise { background-color: #ffcccc;border-color: #E9967A; border-left: 5px solid #800080; padding: 0.5em;}</style>"
      ],
      "text/plain": [
       "<IPython.core.display.HTML object>"
      ]
     },
     "execution_count": 1,
     "metadata": {},
     "output_type": "execute_result"
    }
   ],
   "source": [
    "from IPython.display import HTML\n",
    "style = \"<style>div.exercise { background-color: #ffcccc;border-color: #E9967A; border-left: 5px solid #800080; padding: 0.5em;}</style>\"\n",
    "HTML(style)"
   ]
  },
  {
   "cell_type": "code",
   "execution_count": 2,
   "metadata": {},
   "outputs": [],
   "source": [
    "import pandas as pd"
   ]
  },
  {
   "cell_type": "markdown",
   "metadata": {},
   "source": [
    "#### Add % in front and end of every single word in a given string str:\n",
    "\"Fall is Awesome in Alabama\" <br> only using **list comprehensions**.\n",
    "\n",
    "#### Output:\n",
    "['%Fall%','%is%','%Awesome%','%in%','%Alabama%']"
   ]
  },
  {
   "cell_type": "code",
   "execution_count": 3,
   "metadata": {},
   "outputs": [],
   "source": [
    "str = \"Fall is Awesome in Alabama\"\n",
    "####################YourCode####################\n"
   ]
  },
  {
   "cell_type": "markdown",
   "metadata": {},
   "source": [
    "#### Write a code that creates the next three lists <br>\n",
    "['S001', 'S002', 'S003', 'S004']<br>\n",
    "['Adina Park', 'Leyton Marsh', 'Duncan Boyle', 'Saim Richards']<br>\n",
    "[85, 98, 89, 92]<br>\n",
    "\n",
    "\n",
    "#### Then Convert the lists to Nested dictionary :\n",
    "{'S001': {'Adina Park': 85}, 'S002': {'Leyton Marsh': 98}, 'S003': {'Duncan Boyle': 89}, 'S004': {'Saim Richards': 92}}"
   ]
  },
  {
   "cell_type": "code",
   "execution_count": 4,
   "metadata": {},
   "outputs": [],
   "source": [
    "l1=['S001','S002','S003','S004']\n",
    "l2=['Adina Park','Leyton Marsh','Duncan Boyle','Saim Richards']\n",
    "l3=[85, 98, 89, 92]\n",
    "\n",
    "####################YourCode####################\n"
   ]
  },
  {
   "cell_type": "code",
   "execution_count": 5,
   "metadata": {},
   "outputs": [],
   "source": [
    "# Download the dataset on e-learning that is called Exercise dataset and read it as dataframe\n",
    "# Print the tail of the dataframe\n",
    "####################YourCode####################\n"
   ]
  },
  {
   "cell_type": "code",
   "execution_count": 6,
   "metadata": {},
   "outputs": [],
   "source": [
    "## Explore the dataset\n",
    "\n",
    "####################YourCode####################\n"
   ]
  },
  {
   "cell_type": "code",
   "execution_count": 7,
   "metadata": {},
   "outputs": [],
   "source": [
    "## Check number of nulls in the dataframe\n",
    "\n",
    "####################YourCode####################\n"
   ]
  },
  {
   "cell_type": "code",
   "execution_count": 8,
   "metadata": {},
   "outputs": [],
   "source": [
    "## Drop DiscontinuedDate,ChemicalDateRemoved, CasNumber, CSF columns\n",
    "\n",
    "####################YourCode####################\n"
   ]
  },
  {
   "cell_type": "code",
   "execution_count": 9,
   "metadata": {},
   "outputs": [],
   "source": [
    "## Imputate CasNumber nulls by mean\n",
    "####################YourCode####################\n"
   ]
  },
  {
   "cell_type": "code",
   "execution_count": 10,
   "metadata": {},
   "outputs": [],
   "source": [
    "## Replace BrandName nulls by unKnown\n",
    "\n",
    "####################YourCode####################\n"
   ]
  },
  {
   "cell_type": "code",
   "execution_count": 11,
   "metadata": {},
   "outputs": [],
   "source": [
    "## Reterive columns CDPHId, PrimaryCategoryId, and ChemicalCount Columns\n",
    "\n",
    "####################YourCode####################\n"
   ]
  },
  {
   "cell_type": "code",
   "execution_count": 12,
   "metadata": {},
   "outputs": [],
   "source": [
    "## Check number of nulls again\n",
    "\n",
    "####################YourCode####################\n"
   ]
  },
  {
   "cell_type": "code",
   "execution_count": 13,
   "metadata": {},
   "outputs": [],
   "source": [
    "## Reterive last 500 rows\n",
    "\n",
    "####################YourCode####################\n"
   ]
  },
  {
   "cell_type": "code",
   "execution_count": 14,
   "metadata": {},
   "outputs": [],
   "source": [
    "## Reterive rows that company id between 1100 and 1260 and company name Contains USA\n",
    "\n",
    "####################YourCode####################\n"
   ]
  },
  {
   "cell_type": "code",
   "execution_count": 15,
   "metadata": {},
   "outputs": [],
   "source": [
    "## Convert MostRecentDateReported, ChemicalCreatedAt, ChemicalUpdatedAt to date type\n",
    "\n",
    "####################YourCode####################\n"
   ]
  },
  {
   "cell_type": "code",
   "execution_count": 16,
   "metadata": {},
   "outputs": [],
   "source": [
    "# Group rows of dataframe that brandName is unknown by Chemical Name ant get the sum\n",
    "\n",
    "####################YourCode####################\n"
   ]
  },
  {
   "cell_type": "code",
   "execution_count": 17,
   "metadata": {},
   "outputs": [],
   "source": [
    "## Write a regex that gets company name that contains an alphabet small or Captial and special charcter .\n",
    "## Print the value counts of your mathcing\n",
    "\n",
    "####################YourCode####################\n"
   ]
  },
  {
   "cell_type": "code",
   "execution_count": 18,
   "metadata": {},
   "outputs": [],
   "source": [
    "# Use the results of previous regex and get the rows that matching the regex\n",
    "\n",
    "####################YourCode####################\n"
   ]
  }
 ],
 "metadata": {
  "kernelspec": {
   "display_name": "Python 3",
   "language": "python",
   "name": "python3"
  },
  "language_info": {
   "codemirror_mode": {
    "name": "ipython",
    "version": 3
   },
   "file_extension": ".py",
   "mimetype": "text/x-python",
   "name": "python",
   "nbconvert_exporter": "python",
   "pygments_lexer": "ipython3",
   "version": "3.8.5"
  }
 },
 "nbformat": 4,
 "nbformat_minor": 2
}
