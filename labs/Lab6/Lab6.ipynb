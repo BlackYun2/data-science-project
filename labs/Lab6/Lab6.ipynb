{
 "cells": [
  {
   "cell_type": "markdown",
   "metadata": {},
   "source": [
    "# Introduction to Data Science \n",
    "\n",
    "\n",
    "## Lab 6: Regular Expression\n",
    "\n",
    "**British University in Egypt**<br>\n",
    "**Instructors:** Nahla Barakt <br>"
   ]
  },
  {
   "cell_type": "code",
   "execution_count": 1,
   "metadata": {},
   "outputs": [
    {
     "data": {
      "text/html": [
       "<style>div.exercise { background-color: #ffcccc;border-color: #E9967A; border-left: 5px solid #800080; padding: 0.5em;}</style>"
      ],
      "text/plain": [
       "<IPython.core.display.HTML object>"
      ]
     },
     "execution_count": 1,
     "metadata": {},
     "output_type": "execute_result"
    }
   ],
   "source": [
    "from IPython.display import HTML\n",
    "style = \"<style>div.exercise { background-color: #ffcccc;border-color: #E9967A; border-left: 5px solid #800080; padding: 0.5em;}</style>\"\n",
    "HTML(style)"
   ]
  },
  {
   "cell_type": "code",
   "execution_count": 2,
   "metadata": {},
   "outputs": [],
   "source": [
    "##!pip install plotly==5.6.0"
   ]
  },
  {
   "cell_type": "code",
   "execution_count": 3,
   "metadata": {},
   "outputs": [],
   "source": [
    "import numpy as np\n",
    "import matplotlib.pyplot as plt\n",
    "import matplotlib as mpl\n",
    "import pandas as pd"
   ]
  },
  {
   "cell_type": "markdown",
   "metadata": {},
   "source": [
    "# Table of Contents\n",
    "<ol start=\"1\">\n",
    "  <li> Regular Expressions  </li>\n",
    "  <li> Exercise </li>\n",
    "</ol>"
   ]
  },
  {
   "cell_type": "markdown",
   "metadata": {},
   "source": [
    "##  Part 1: Regular Expressions\n",
    "\n",
    "### Background and Motivation\n",
    "*Regular Expressions* (a.k.a. `regex` or `regexp`) are a tool for working with and manipulating text data.  We've already done some text manipulation in this lab.  We've shied away from particularly thorny examples until now.  Using `python`'s string methods is useful, but that approach has it's limitations.\n",
    "\n",
    "Regular expressions provide a set of rules for working with text data.  At first, these expressions look completely foreign (e.g. `([0-9]+(\\.[0-9]+){3})`), but once you know some of the basics they're not so bad.\n",
    "\n",
    "As it turns out, the fundamentals of regular expressions are based upon abstract algebra.  Mathematicians have studied regular expressions simply to lay down and understand their theoretical underpinnings.  We won't go anywhere near that level of detail.  For us, regular expressions will simply be used to process some gnarly text data.\n",
    "\n",
    "There are a few key `regex` patterns and concepts that you must know and be comfortable with.  That fact is, there are many ways to create a `regex` to search for a particular pattern.  Some approaches are more succinct than others.  As with most things, you will get better the more you practice.  You should try to make your `regex` patterns as crisp as possible while still mainting readabilty.\n",
    "\n",
    "### Some resources\n",
    "In order to become proficient with `regex`s, you are **strongly encouraged** to take the *RegexOne* tutorial at [https://regexone.com/](https://regexone.com/).  That tutorial is an interactive and accessible introduction to regular expressions.  It contains problems at the end to test your knowledge.  The *RegexOne* website also contains a very nice demo for `Python3`.  This lab will borrow from the *RegexOne* `python` demo to walk you through some concepts.\n",
    "\n",
    "You may also want to consider the book [Mastering Regular Expressions](http://shop.oreilly.com/product/9780596528126.do) for more details as well as some historical comments.\n",
    "\n",
    "---"
   ]
  },
  {
   "cell_type": "markdown",
   "metadata": {},
   "source": [
    "### Learning by Example\n",
    "Suppose you have a string containing a date:"
   ]
  },
  {
   "cell_type": "code",
   "execution_count": 4,
   "metadata": {},
   "outputs": [],
   "source": [
    "birthday = \"June 11\""
   ]
  },
  {
   "cell_type": "markdown",
   "metadata": {},
   "source": [
    "You would like to search this string for the month.  For such a simple string, this can easily be done with the `python` string methods."
   ]
  },
  {
   "cell_type": "code",
   "execution_count": 5,
   "metadata": {},
   "outputs": [
    {
     "name": "stdout",
     "output_type": "stream",
     "text": [
      "June\n"
     ]
    }
   ],
   "source": [
    "birth_month = birthday.strip()[:-3]\n",
    "print(birth_month)"
   ]
  },
  {
   "cell_type": "markdown",
   "metadata": {},
   "source": [
    "We're after much more intense strings, which we'll process with regular expressions.  Let's warm up with a `regex` on this simple string."
   ]
  },
  {
   "cell_type": "code",
   "execution_count": 6,
   "metadata": {},
   "outputs": [
    {
     "data": {
      "text/plain": [
       "'\\\\w+'"
      ]
     },
     "execution_count": 6,
     "metadata": {},
     "output_type": "execute_result"
    }
   ],
   "source": [
    "regex = r\"\\w+\" \n",
    "regex"
   ]
  },
  {
   "cell_type": "markdown",
   "metadata": {},
   "source": [
    "What in the world does this mean?!  Well, there are a few syntactical details here:\n",
    "1. The `r` means that the string is a *raw string*.  This just tells `python` not to interpret backslashes and other metacharacters in the string.  For example, in order to render TeX, you must use a raw string.\n",
    "2. The `\\w` indicates any alphanumeric character.\n",
    "3. The `+` indicates one or more occurances.\n",
    "\n",
    "In English words, we say that `regex` is a regular expression that tries to match one or more occurances of alphanumeric characters.\n",
    "\n",
    "We still haven't specified what string we want to find the matches in.  All we've done so far is specify a `regex`.\n",
    "\n",
    "Let's remedy that.  We will now use the `python` `re` module to start matching some regular expressions in strings.  Here are two more resources for you:\n",
    "* [`re` module documentation](https://docs.python.org/3/library/re.html) --- The official `python` documentation on the `re` module\n",
    "* [Regular Expression HOWTO](https://docs.python.org/3/howto/regex.html#regex-howto) --- A gentler introduction to using the `re` module.\n",
    "\n",
    "Honestly, your best bet is still to start with the resources found on the *RegexOne* site."
   ]
  },
  {
   "cell_type": "code",
   "execution_count": 7,
   "metadata": {},
   "outputs": [],
   "source": [
    "import re # Regular expression module"
   ]
  },
  {
   "cell_type": "code",
   "execution_count": 8,
   "metadata": {},
   "outputs": [
    {
     "data": {
      "text/plain": [
       "<re.Match object; span=(0, 1), match='J'>"
      ]
     },
     "execution_count": 8,
     "metadata": {},
     "output_type": "execute_result"
    }
   ],
   "source": [
    "re.search(r'\\w', birthday)"
   ]
  },
  {
   "cell_type": "code",
   "execution_count": 9,
   "metadata": {},
   "outputs": [
    {
     "name": "stdout",
     "output_type": "stream",
     "text": [
      "<re.Match object; span=(0, 4), match='June'> <class 're.Match'>\n"
     ]
    }
   ],
   "source": [
    "months = re.search(regex, birthday) # Search string for regex\n",
    "print(months,type(months))"
   ]
  },
  {
   "cell_type": "markdown",
   "metadata": {},
   "source": [
    "We just searched the `birthday` string for the regular expression contained in `regex`.  If the pattern doesn't match, then we get `None` in return, otherwise we get an object that contains some information.  In our case, the pattern matches something in `birthday`.  What information did we get?\n",
    "* We are told the `start` and `end` of the matching pattern (that is the `span=(0, 4)`)\n",
    "* We are told what matched (that is the `'June'`)\n",
    "\n",
    "Note that the `\\w+` expression stops when it reaches white space so we just get the first string.\n",
    "\n",
    "You can access the starting and ending indices with the `start()` and `end()` methods as follows:"
   ]
  },
  {
   "cell_type": "code",
   "execution_count": 10,
   "metadata": {},
   "outputs": [
    {
     "name": "stdout",
     "output_type": "stream",
     "text": [
      "The matched pattern starts at index 0 and ends at index 4.\n"
     ]
    }
   ],
   "source": [
    "print(\"The matched pattern starts at index {0} and ends at index {1}.\".format(months.start(), months.end()))"
   ]
  },
  {
   "cell_type": "markdown",
   "metadata": {},
   "source": [
    "Note that we could have used a very simple pattern to search for the word `June`:"
   ]
  },
  {
   "cell_type": "code",
   "execution_count": 11,
   "metadata": {},
   "outputs": [
    {
     "name": "stdout",
     "output_type": "stream",
     "text": [
      "<re.Match object; span=(0, 4), match='June'>\n"
     ]
    }
   ],
   "source": [
    "regex = r\"June\"\n",
    "months = re.search(regex, birthday)\n",
    "print(months)"
   ]
  },
  {
   "cell_type": "markdown",
   "metadata": {},
   "source": [
    "Same answer!"
   ]
  },
  {
   "cell_type": "code",
   "execution_count": 12,
   "metadata": {},
   "outputs": [],
   "source": [
    "months = re.search(r\"Oct\", birthday) #nothing displays"
   ]
  },
  {
   "cell_type": "markdown",
   "metadata": {},
   "source": [
    "**Note:** When a regex fails to match, like above, it can look a little weird. Instead of getting an empty regex object that prints out, we get `None`, which doesn't dispaly anything. Printing it still works though."
   ]
  },
  {
   "cell_type": "code",
   "execution_count": 13,
   "metadata": {},
   "outputs": [
    {
     "name": "stdout",
     "output_type": "stream",
     "text": [
      "None\n"
     ]
    }
   ],
   "source": [
    "print(months) #printing the match object shows us the result, even if no match was found."
   ]
  },
  {
   "cell_type": "markdown",
   "metadata": {},
   "source": [
    "As already mentioned, regular expressions work directly with text.  You need the fancier stuff when you have more complicated strings.  We'll get to that in a moment.  First, do the following exercise."
   ]
  },
  {
   "cell_type": "markdown",
   "metadata": {},
   "source": [
    "<div class=exercise><b>Exercise</b></div>\n",
    "Consider the string \n",
    "```python\n",
    "statement = \"June is a lovely month.\"\n",
    "```\n",
    "* Use a regular expression to the find the pattern `June`.\n",
    "* Create a new string, `fragment` from `statement`, which starts just after the word `June`.\n",
    "\n",
    "Your output should be ` is a lovely month.`"
   ]
  },
  {
   "cell_type": "code",
   "execution_count": 14,
   "metadata": {},
   "outputs": [
    {
     "name": "stdout",
     "output_type": "stream",
     "text": [
      " is a lovely month\n"
     ]
    }
   ],
   "source": [
    "# your code here\n",
    "statement='June is a lovely month'\n",
    "express=re.search(r\"June\",statement)\n",
    "name=statement[express.end():]\n",
    "print(name)"
   ]
  },
  {
   "cell_type": "markdown",
   "metadata": {},
   "source": [
    "Okay, we're ready to move on to more interesting things.  We'll do this in a sequence demos."
   ]
  },
  {
   "cell_type": "markdown",
   "metadata": {},
   "source": [
    "First, let's try to get the day out of the birthday string.  We'll use some more intesting expressions to illustrate some of the important patterns."
   ]
  },
  {
   "cell_type": "markdown",
   "metadata": {},
   "source": [
    "#### We can use `\\d` to get just digits."
   ]
  },
  {
   "cell_type": "code",
   "execution_count": 15,
   "metadata": {},
   "outputs": [
    {
     "data": {
      "text/plain": [
       "<re.Match object; span=(5, 7), match='11'>"
      ]
     },
     "execution_count": 15,
     "metadata": {},
     "output_type": "execute_result"
    }
   ],
   "source": [
    "regex = r\"\\d+\"\n",
    "re.search(regex, birthday)"
   ]
  },
  {
   "cell_type": "markdown",
   "metadata": {},
   "source": [
    "#### We can use `[a-z]` for characters `a` to `z` and `[0-9]` for digits `0` to `9`."
   ]
  },
  {
   "cell_type": "code",
   "execution_count": 16,
   "metadata": {},
   "outputs": [
    {
     "data": {
      "text/plain": [
       "<re.Match object; span=(0, 4), match='June'>"
      ]
     },
     "execution_count": 16,
     "metadata": {},
     "output_type": "execute_result"
    }
   ],
   "source": [
    "regex = r\"[A-Za-z]+\"\n",
    "re.search(regex, birthday)"
   ]
  },
  {
   "cell_type": "markdown",
   "metadata": {},
   "source": [
    "Note that we had to specify both capital letters and lowercase letters.  We also needed the `+` pattern to make sure that one or more occurances of the characters were found.  If not, we would have only gotten one occurance as illustrated in the next example."
   ]
  },
  {
   "cell_type": "code",
   "execution_count": 17,
   "metadata": {},
   "outputs": [
    {
     "data": {
      "text/plain": [
       "<re.Match object; span=(5, 6), match='1'>"
      ]
     },
     "execution_count": 17,
     "metadata": {},
     "output_type": "execute_result"
    }
   ],
   "source": [
    "regex = r\"[0-9]\"\n",
    "re.search(regex, birthday)"
   ]
  },
  {
   "cell_type": "markdown",
   "metadata": {},
   "source": [
    "Only got the first occurance of `1`!"
   ]
  },
  {
   "cell_type": "markdown",
   "metadata": {},
   "source": [
    "#### `findall()`\n",
    "\n",
    "Let's start getting down to business.  We want the actual month and the actual day.  Not the whole thing.  That's not too hard given what we already have at our disposal."
   ]
  },
  {
   "cell_type": "code",
   "execution_count": 18,
   "metadata": {},
   "outputs": [
    {
     "name": "stdout",
     "output_type": "stream",
     "text": [
      "['June']\n",
      "['11']\n"
     ]
    }
   ],
   "source": [
    "regex_month = r\"[A-Za-z]+\"\n",
    "month = re.findall(regex_month, birthday)\n",
    "print(month)\n",
    "\n",
    "regex_day = r\"\\d+\"\n",
    "day = re.findall(regex_day, birthday)\n",
    "print(day)"
   ]
  },
  {
   "cell_type": "markdown",
   "metadata": {},
   "source": [
    "The `findall()` method returns a list of all the pattern matches.  Very cool.  Now we're ready to move on to another very important concept: *groups*."
   ]
  },
  {
   "cell_type": "markdown",
   "metadata": {},
   "source": [
    "#### Groups\n",
    "Let's say we have a busy string of birthdays:"
   ]
  },
  {
   "cell_type": "code",
   "execution_count": 19,
   "metadata": {},
   "outputs": [],
   "source": [
    "birthdays = \"June 11th, December 13th, September 21st, May 12th\""
   ]
  },
  {
   "cell_type": "markdown",
   "metadata": {},
   "source": [
    "We want to get all the months and all the days.  This looks like a job for the `findall()` method."
   ]
  },
  {
   "cell_type": "code",
   "execution_count": 20,
   "metadata": {},
   "outputs": [
    {
     "name": "stdout",
     "output_type": "stream",
     "text": [
      "['June', 'th', 'December', 'th', 'September', 'st', 'May', 'th']\n"
     ]
    }
   ],
   "source": [
    "regex = r\"[A-Za-z]+\"\n",
    "bdays = re.findall(regex, birthdays)\n",
    "print(bdays)"
   ]
  },
  {
   "cell_type": "markdown",
   "metadata": {},
   "source": [
    "That's not right.  Almost, but not quite.  We can fix things in a bunch of ways.  Let's take this opportunity to introduce groups."
   ]
  },
  {
   "cell_type": "code",
   "execution_count": 21,
   "metadata": {},
   "outputs": [
    {
     "name": "stdout",
     "output_type": "stream",
     "text": [
      "[('June', '11th'), ('December', '13th'), ('September', '21st'), ('May', '12th')]\n"
     ]
    }
   ],
   "source": [
    "regex = r\"([A-Za-z]+) (\\d+\\w+)\"\n",
    "bdays = re.findall(regex, birthdays)\n",
    "print(bdays)"
   ]
  },
  {
   "cell_type": "markdown",
   "metadata": {},
   "source": [
    "Let's try to unpack all of that:\n",
    "* The parentheses indicate a group.  So, our first set of parentheses indicate that we want a pattern of characters with one or more occurances.\n",
    "* Right after that first group, we have a space.\n",
    "* Then we have another group.  This time, the group indicates a pattern with one or more occurances of numbers followed by one or more occurances of any alphanumeric characters.\n",
    "\n",
    "We could have accomplished the same thing in a number of ways.  Here are a couple more possibilities:\n",
    "```python\n",
    "regex = r\"([A-Za-z]+)\\s(\\d+\\w+)\"\n",
    "regex = r\"([A-Za-z]+)\\s(\\w+)\"\n",
    "regex = r\"([A-Za-z]+) (\\d+[a-z]+)\"\n",
    "```\n",
    "You get the idea.\n",
    "\n",
    "It's also possible to just get the months and days separately."
   ]
  },
  {
   "cell_type": "code",
   "execution_count": 22,
   "metadata": {},
   "outputs": [
    {
     "name": "stdout",
     "output_type": "stream",
     "text": [
      "June 11th\n",
      "December 13th\n",
      "September 21st\n",
      "May 12th\n"
     ]
    }
   ],
   "source": [
    "regex = r\"[A-Za-z]+ \\d+\\w+\"\n",
    "bdays = re.findall(regex, birthdays)\n",
    "for bday in bdays:\n",
    "    print(bday)"
   ]
  },
  {
   "cell_type": "markdown",
   "metadata": {},
   "source": [
    "#### Applying Regex on dataframe"
   ]
  },
  {
   "cell_type": "code",
   "execution_count": 23,
   "metadata": {},
   "outputs": [],
   "source": [
    "## Defining a data frame\n",
    "df=pd.DataFrame({'Name':['Wikipedia'],'Description':\\\n",
    "              ['Other collaborative online encyclopedias were attempted before Wikipedia, but none were as successful.[18] Wikipedia began as a complementary project for Nupedia, a free online English-language encyclopedia project whose articles were written by experts and reviewed under a formal process.[19] It was founded on March 9, 2000, under the ownership of Bomis, a web portal company. Its main figures were Bomis CEO Jimmy Wales and Larry Sanger, editor-in-chief for Nupedia and later Wikipedia.[1][20] Nupedia was initially licensed under its own Nupedia Open Content License, but even before Wikipedia was founded, Nupedia switched to the GNU Free Documentation License at the urging of Richard Stallman.[21] Wales is credited with defining the goal of making a publicly editable encyclopedia,[22][23] while Sanger is credited with the strategy of using a wiki to reach that goal.[24] On January 10, 2001, Sanger proposed on the Nupedia mailing list to create a wiki as a \"feeder\" project for Nupedia.[25]']})"
   ]
  },
  {
   "cell_type": "code",
   "execution_count": 24,
   "metadata": {},
   "outputs": [
    {
     "data": {
      "text/plain": [
       "'Other collaborative online encyclopedias were attempted before Wikipedia, but none were as successful.[18] Wikipedia began as a complementary project for Nupedia, a free online English-language encyclopedia project whose articles were written by experts and reviewed under a formal process.[19] It was founded on March 9, 2000, under the ownership of Bomis, a web portal company. Its main figures were Bomis CEO Jimmy Wales and Larry Sanger, editor-in-chief for Nupedia and later Wikipedia.[1][20] Nupedia was initially licensed under its own Nupedia Open Content License, but even before Wikipedia was founded, Nupedia switched to the GNU Free Documentation License at the urging of Richard Stallman.[21] Wales is credited with defining the goal of making a publicly editable encyclopedia,[22][23] while Sanger is credited with the strategy of using a wiki to reach that goal.[24] On January 10, 2001, Sanger proposed on the Nupedia mailing list to create a wiki as a \"feeder\" project for Nupedia.[25]'"
      ]
     },
     "execution_count": 24,
     "metadata": {},
     "output_type": "execute_result"
    }
   ],
   "source": [
    "df['Description'][0]"
   ]
  },
  {
   "cell_type": "code",
   "execution_count": 25,
   "metadata": {},
   "outputs": [
    {
     "name": "stderr",
     "output_type": "stream",
     "text": [
      "C:\\Users\\Mostafa\\anaconda3\\lib\\site-packages\\pandas\\core\\strings\\object_array.py:244: FutureWarning: Possible nested set at position 1\n",
      "  regex = re.compile(pat, flags=flags)\n"
     ]
    },
    {
     "data": {
      "text/plain": [
       "0    [[18], [19], [1], [20], [21], [22], [23], [24]...\n",
       "Name: Description, dtype: object"
      ]
     },
     "execution_count": 25,
     "metadata": {},
     "output_type": "execute_result"
    }
   ],
   "source": [
    "## Let's write a regex to get numbers between brackets\n",
    "df['Description'].str.findall(r'[[0-9]+]')"
   ]
  },
  {
   "cell_type": "code",
   "execution_count": 26,
   "metadata": {},
   "outputs": [
    {
     "data": {
      "text/plain": [
       "0    [March 9, 2000, January 10, 2001]\n",
       "Name: Description, dtype: object"
      ]
     },
     "execution_count": 26,
     "metadata": {},
     "output_type": "execute_result"
    }
   ],
   "source": [
    "## Write a regex to extract dates , noting the format of date is (Month dd, yyyy)\n",
    "\n",
    "##############Your Sol##############\n"
   ]
  },
  {
   "cell_type": "markdown",
   "metadata": {},
   "source": [
    "There are many other ways to play with these `regex` patterns.  You will get many chances to do so in your homework.  For now, let's do an exercise."
   ]
  },
  {
   "cell_type": "markdown",
   "metadata": {},
   "source": [
    "<div class=exercise><b>Exercise</b></div>\n",
    "* Open and read the file `shelterdogs.xml` into a string named `dogs`.  It should look like:\n",
    "\n",
    "```\n",
    "<?xml version=\"1.0\" encoding=\"UTF-8\"?>\n",
    "\n",
    "<dogshelter>\n",
    "    <dog id=\"dog1\">\n",
    "        <name> Cloe </name>\n",
    "        <age> 3 </age>\n",
    "        <breed> Border Collie </breed>\n",
    "        <playgroup> Yes </playgroup>\n",
    "    </dog>\n",
    "    <dog id=\"dog2\"> \n",
    "        <name> Karl </name> \n",
    "        <age> 7 </age>\n",
    "        <breed> Beagle </breed>\n",
    "        <playgroup> Yes </playgroup>\n",
    "    </dog>\n",
    "</dogshelter>\n",
    "```\n",
    "* Write a regular expression to match the dog names.  That is, you want to match the name inside the name tag: `<name> dog_name </name>`.\n",
    "  * **Hint:** Use a group.\n",
    "* Print out each name.\n",
    "\n",
    "Your output should be \n",
    "```python\n",
    "Chloe\n",
    "Karl\n",
    "```"
   ]
  },
  {
   "cell_type": "code",
   "execution_count": 27,
   "metadata": {},
   "outputs": [
    {
     "name": "stdout",
     "output_type": "stream",
     "text": [
      "['Cloe', 'Karl']\n"
     ]
    }
   ],
   "source": [
    "# your code here"
   ]
  },
  {
   "cell_type": "markdown",
   "metadata": {},
   "source": [
    "<div class=exercise><b>Exercise</b></div>\n",
    "Although you successfully completed the previous exercise, you think it would have been nicer to strip out the first two lines of the `dogs` string.\n",
    "\n",
    "**Hints:**\n",
    "* The first line has some special metacharacters in it (e.g. ?, \", \\n).  You can escape these by using a backslash. For example, \\? treats ? like a real question mark.  Otherwise it's the *optional* character in regular expressions.\n",
    "* Consider using [\\n]+ to deal with the end of line character.\n",
    "\n",
    "Your output should be:\n",
    "```\n",
    "<dogshelter>\n",
    "    <dog id=\"dog1\">\n",
    "        <name> Cloe </name>\n",
    "        <age> 3 </age>\n",
    "        <breed> Border Collie </breed>\n",
    "        <playgroup> Yes </playgroup>\n",
    "    </dog>\n",
    "    <dog id=\"dog2\"> \n",
    "        <name> Karl </name> \n",
    "        <age> 7 </age>\n",
    "        <breed> Beagle </breed>\n",
    "        <playgroup> Yes </playgroup>\n",
    "    </dog>\n",
    "</dogshelter>\n",
    "```"
   ]
  },
  {
   "cell_type": "code",
   "execution_count": 28,
   "metadata": {},
   "outputs": [
    {
     "name": "stdout",
     "output_type": "stream",
     "text": [
      "<?xml version=\"1.0\" encoding=\"UTF-8\"?>\n",
      "\n",
      "<dogshelter>\n",
      "    <dog id=\"dog1\">\n",
      "        <name> Cloe </name>\n",
      "        <age> 3 </age>\n",
      "        <breed> Border Collie </breed>\n",
      "        <playgroup> Yes </playgroup>\n",
      "    </dog>\n",
      "    <dog id=\"dog2\"> \n",
      "        <name> Karl </name> \n",
      "        <age> 7 </age>\n",
      "        <breed> Beagle </breed>\n",
      "        <playgroup> Yes </playgroup>\n",
      "    </dog>\n",
      "</dogshelter>\n",
      "\n"
     ]
    }
   ],
   "source": []
  },
  {
   "cell_type": "code",
   "execution_count": 29,
   "metadata": {},
   "outputs": [
    {
     "name": "stdout",
     "output_type": "stream",
     "text": [
      "<re.Match object; span=(0, 40), match='<?xml version=\"1.0\" encoding=\"UTF-8\"?>\\n\\n'>\n"
     ]
    }
   ],
   "source": [
    "regex=r'<\\?.*\\?>[\\n]+'\n",
    "words=re.search(regex,dogs)\n",
    "print(words)"
   ]
  },
  {
   "cell_type": "markdown",
   "metadata": {},
   "source": [
    "## Part 2:Exercise"
   ]
  },
  {
   "cell_type": "code",
   "execution_count": 30,
   "metadata": {},
   "outputs": [
    {
     "data": {
      "text/html": [
       "<div>\n",
       "<style scoped>\n",
       "    .dataframe tbody tr th:only-of-type {\n",
       "        vertical-align: middle;\n",
       "    }\n",
       "\n",
       "    .dataframe tbody tr th {\n",
       "        vertical-align: top;\n",
       "    }\n",
       "\n",
       "    .dataframe thead th {\n",
       "        text-align: right;\n",
       "    }\n",
       "</style>\n",
       "<table border=\"1\" class=\"dataframe\">\n",
       "  <thead>\n",
       "    <tr style=\"text-align: right;\">\n",
       "      <th></th>\n",
       "      <th>Start_Datetime</th>\n",
       "      <th>End_Datetime</th>\n",
       "      <th>startFrequency</th>\n",
       "      <th>endFrequency</th>\n",
       "      <th>flare_Location</th>\n",
       "      <th>flare_region</th>\n",
       "      <th>importance</th>\n",
       "      <th>CME_Date</th>\n",
       "      <th>CME_Time</th>\n",
       "      <th>width</th>\n",
       "      <th>speed</th>\n",
       "      <th>CPA</th>\n",
       "      <th>is_halo</th>\n",
       "      <th>lower_bound</th>\n",
       "    </tr>\n",
       "  </thead>\n",
       "  <tbody>\n",
       "    <tr>\n",
       "      <th>0</th>\n",
       "      <td>1997-04-01 14:00:00</td>\n",
       "      <td>1997-04-01 14:15:00</td>\n",
       "      <td>8000</td>\n",
       "      <td>4000</td>\n",
       "      <td>S25E16</td>\n",
       "      <td>8026</td>\n",
       "      <td>M1.3</td>\n",
       "      <td>04/01</td>\n",
       "      <td>15:18</td>\n",
       "      <td>79.0</td>\n",
       "      <td>312.0</td>\n",
       "      <td>74</td>\n",
       "      <td>False</td>\n",
       "      <td>False</td>\n",
       "    </tr>\n",
       "    <tr>\n",
       "      <th>1</th>\n",
       "      <td>1997-04-07 14:30:00</td>\n",
       "      <td>1997-04-07 17:30:00</td>\n",
       "      <td>11000</td>\n",
       "      <td>1000</td>\n",
       "      <td>S28E19</td>\n",
       "      <td>8027</td>\n",
       "      <td>C6.8</td>\n",
       "      <td>04/07</td>\n",
       "      <td>14:27</td>\n",
       "      <td>360.0</td>\n",
       "      <td>878.0</td>\n",
       "      <td>na</td>\n",
       "      <td>True</td>\n",
       "      <td>False</td>\n",
       "    </tr>\n",
       "    <tr>\n",
       "      <th>2</th>\n",
       "      <td>1997-05-12 05:15:00</td>\n",
       "      <td>1997-05-14 16:00:00</td>\n",
       "      <td>12000</td>\n",
       "      <td>80</td>\n",
       "      <td>N21W08</td>\n",
       "      <td>8038</td>\n",
       "      <td>C1.3</td>\n",
       "      <td>05/12</td>\n",
       "      <td>05:30</td>\n",
       "      <td>360.0</td>\n",
       "      <td>464.0</td>\n",
       "      <td>na</td>\n",
       "      <td>True</td>\n",
       "      <td>False</td>\n",
       "    </tr>\n",
       "    <tr>\n",
       "      <th>3</th>\n",
       "      <td>1997-05-21 20:20:00</td>\n",
       "      <td>1997-05-21 22:00:00</td>\n",
       "      <td>5000</td>\n",
       "      <td>500</td>\n",
       "      <td>N05W12</td>\n",
       "      <td>8040</td>\n",
       "      <td>M1.3</td>\n",
       "      <td>05/21</td>\n",
       "      <td>21:00</td>\n",
       "      <td>165.0</td>\n",
       "      <td>296.0</td>\n",
       "      <td>263</td>\n",
       "      <td>False</td>\n",
       "      <td>False</td>\n",
       "    </tr>\n",
       "    <tr>\n",
       "      <th>4</th>\n",
       "      <td>1997-09-23 21:53:00</td>\n",
       "      <td>1997-09-23 22:16:00</td>\n",
       "      <td>6000</td>\n",
       "      <td>2000</td>\n",
       "      <td>S29E25</td>\n",
       "      <td>8088</td>\n",
       "      <td>C1.4</td>\n",
       "      <td>09/23</td>\n",
       "      <td>22:02</td>\n",
       "      <td>155.0</td>\n",
       "      <td>712.0</td>\n",
       "      <td>133</td>\n",
       "      <td>False</td>\n",
       "      <td>False</td>\n",
       "    </tr>\n",
       "  </tbody>\n",
       "</table>\n",
       "</div>"
      ],
      "text/plain": [
       "        Start_Datetime         End_Datetime startFrequency endFrequency  \\\n",
       "0  1997-04-01 14:00:00  1997-04-01 14:15:00           8000         4000   \n",
       "1  1997-04-07 14:30:00  1997-04-07 17:30:00          11000         1000   \n",
       "2  1997-05-12 05:15:00  1997-05-14 16:00:00          12000           80   \n",
       "3  1997-05-21 20:20:00  1997-05-21 22:00:00           5000          500   \n",
       "4  1997-09-23 21:53:00  1997-09-23 22:16:00           6000         2000   \n",
       "\n",
       "  flare_Location flare_region importance CME_Date CME_Time  width  speed  CPA  \\\n",
       "0         S25E16         8026       M1.3    04/01    15:18   79.0  312.0   74   \n",
       "1         S28E19         8027       C6.8    04/07    14:27  360.0  878.0   na   \n",
       "2         N21W08         8038       C1.3    05/12    05:30  360.0  464.0   na   \n",
       "3         N05W12         8040       M1.3    05/21    21:00  165.0  296.0  263   \n",
       "4         S29E25         8088       C1.4    09/23    22:02  155.0  712.0  133   \n",
       "\n",
       "   is_halo  lower_bound  \n",
       "0    False        False  \n",
       "1     True        False  \n",
       "2     True        False  \n",
       "3    False        False  \n",
       "4    False        False  "
      ]
     },
     "execution_count": 30,
     "metadata": {},
     "output_type": "execute_result"
    }
   ],
   "source": [
    "# load the data\n",
    "nasa_csv = pd.read_csv('nasa.csv', index_col=0)\n",
    "nasa_csv.head()"
   ]
  },
  {
   "cell_type": "code",
   "execution_count": 31,
   "metadata": {},
   "outputs": [
    {
     "data": {
      "text/plain": [
       "(482, 14)"
      ]
     },
     "execution_count": 31,
     "metadata": {},
     "output_type": "execute_result"
    }
   ],
   "source": [
    "## Print the shape of the data\n",
    "\n",
    "##############Your Sol##############\n"
   ]
  },
  {
   "cell_type": "code",
   "execution_count": 32,
   "metadata": {},
   "outputs": [
    {
     "data": {
      "text/plain": [
       "Start_Datetime      0\n",
       "End_Datetime        0\n",
       "startFrequency      0\n",
       "endFrequency        0\n",
       "flare_Location      6\n",
       "flare_region       83\n",
       "importance        105\n",
       "CME_Date           20\n",
       "CME_Time           20\n",
       "width              20\n",
       "speed              20\n",
       "CPA                21\n",
       "is_halo             0\n",
       "lower_bound         0\n",
       "dtype: int64"
      ]
     },
     "execution_count": 32,
     "metadata": {},
     "output_type": "execute_result"
    }
   ],
   "source": [
    "## Check nulls of each column\n",
    "\n",
    "##############Your Sol##############\n"
   ]
  },
  {
   "cell_type": "code",
   "execution_count": 33,
   "metadata": {},
   "outputs": [],
   "source": [
    "## Drop nulls on column importance\n",
    "\n",
    "##############Your Sol##############\n"
   ]
  },
  {
   "cell_type": "code",
   "execution_count": 34,
   "metadata": {},
   "outputs": [
    {
     "data": {
      "text/plain": [
       "array(['M1.3', 'C6.8', 'C1.3', 'C1.4', 'C8.6', 'M4.2', 'X2.1', 'X9.4',\n",
       "       'X2.6', 'B9.4', 'C1.1', 'M1.4', 'X1.2', 'C8.9', 'X1.0', 'M6.8',\n",
       "       'X1.1', 'X2.7', 'M7.7', 'B6.6', 'B7.9', 'C7.5', 'M1.0', 'C2.9',\n",
       "       'C4.4', 'M8.4', 'C1.0', 'C5.9', 'M8.0', 'M4.4', 'M3.9', 'C8.8',\n",
       "       'M1.7', 'C3.5', 'M1.6', 'C7.6', 'C2.1', 'X1.8', 'M3.8', 'M1.8',\n",
       "       'C4.7', 'C7.3', 'M6.5', 'M1.2', 'C2.3', 'C9.7', 'M3.1', 'FILA',\n",
       "       'M1.5', 'C7.8', 'M7.6', 'X2.3', 'M5.2', 'M3.5', 'M3.0', 'M1.9',\n",
       "       'M5.7', 'X5.7', 'M3.7', 'M5.9', 'M5.1', 'M2.5', 'C4.0', 'C3.2',\n",
       "       'M7.4', 'C5.4', 'C7.9', 'X2.0', 'M8.2', 'X1.9', 'X4.0', 'C1.6',\n",
       "       'C6.5', 'M6.7', 'C5.6', 'X1.7', 'X20.', 'X5.6', 'M7.9', 'M2.3',\n",
       "       'X14.', 'C2.2', 'M6.3', 'X5.3', 'C9.5', 'M9.1', 'X1.6', 'X1.3',\n",
       "       'M2.8', 'M9.9', 'M7.1', 'X3.4', 'M5.0', 'M2.2', 'C3.1', 'C9.6',\n",
       "       'M2.6', 'X1.5', 'C4.5', 'C3.7', 'M8.5', 'C3.3', 'X3.3', 'X4.8',\n",
       "       'M8.7', 'M2.4', 'X3.1', 'C5.2', 'M2.9', 'M4.6', 'M2.7', 'M1.1',\n",
       "       'C1.7', 'C2.4', 'X3.6', 'M9.3', 'M3.6', 'X17.', 'X10.', 'M3.2',\n",
       "       'X8.3', 'X3.9', 'X28.', 'M4.5', 'C7.2', 'M6.9', 'M5.8', 'M8.3',\n",
       "       'C7.4', 'C2.5', 'C4.1', 'C8.4', 'M4.8', 'M8.9', 'X2.5', 'M8.6',\n",
       "       'X3.8', 'X7.1', 'C8.0', 'C8.5', 'M4.0', 'M4.9', 'M5.6', 'C2.0',\n",
       "       'C2.7', 'X6.2', 'C1.8', 'C3.6', 'X9.0', 'M6.0', 'X6.5', 'C6.3',\n",
       "       'B9.5', 'C8.3', 'B3.8', 'C1.2', 'M6.6', 'X2.2', 'C8.7', 'X6.9',\n",
       "       'M5.3', 'X1.4', 'X5.4', 'C3.9', 'C9.9', 'C8.1', 'X2.8', 'X3.2',\n",
       "       'B4.5', 'C9.1', 'C4.6', 'X4.9', 'M7.3', 'C1.5', 'M2.0', 'C3.0'],\n",
       "      dtype=object)"
      ]
     },
     "execution_count": 34,
     "metadata": {},
     "output_type": "execute_result"
    }
   ],
   "source": [
    "### get unique values of column importance\n",
    "\n",
    "##############Your Sol##############\n"
   ]
  },
  {
   "cell_type": "code",
   "execution_count": 35,
   "metadata": {},
   "outputs": [],
   "source": [
    "## check previous results, you can see an irrelevant record, drop it\n",
    "\n",
    "##############Your Sol##############\n"
   ]
  },
  {
   "cell_type": "code",
   "execution_count": 36,
   "metadata": {},
   "outputs": [],
   "source": [
    "## Column Importance represent the power of the solar flare, it consists of two parts char and number\n",
    "## Split The importance column into two parts, first contain the letters and the second contains the number as float\n",
    "## Use str.split pandas function\n",
    "\n",
    "##############Your Sol##############\n",
    ")"
   ]
  },
  {
   "cell_type": "code",
   "execution_count": 37,
   "metadata": {},
   "outputs": [],
   "source": [
    "## There are some columns that are dates, so we need to convert them\n",
    "## Search for pd.to_datetime and convert Start_Datetime, End_Datetime, CME_Date to dates\n",
    "\n",
    "##############Your Sol##############\n"
   ]
  },
  {
   "cell_type": "code",
   "execution_count": 38,
   "metadata": {},
   "outputs": [
    {
     "data": {
      "text/plain": [
       "4.085106382978725"
      ]
     },
     "execution_count": 38,
     "metadata": {},
     "output_type": "execute_result"
    }
   ],
   "source": [
    "## Get the average of Numerical part of importance column\n",
    "\n",
    "##############Your Sol##############\n"
   ]
  },
  {
   "cell_type": "code",
   "execution_count": 39,
   "metadata": {},
   "outputs": [
    {
     "data": {
      "text/plain": [
       "importance_1\n",
       "B      6\n",
       "C     96\n",
       "M    185\n",
       "X     89\n",
       "Name: importance_2, dtype: int64"
      ]
     },
     "execution_count": 39,
     "metadata": {},
     "output_type": "execute_result"
    }
   ],
   "source": [
    "## Count number of solar flare of each importance type\n",
    "\n",
    "##############Your Sol##############\n"
   ]
  }
 ],
 "metadata": {
  "anaconda-cloud": {},
  "kernelspec": {
   "display_name": "Python 3",
   "language": "python",
   "name": "python3"
  },
  "language_info": {
   "codemirror_mode": {
    "name": "ipython",
    "version": 3
   },
   "file_extension": ".py",
   "mimetype": "text/x-python",
   "name": "python",
   "nbconvert_exporter": "python",
   "pygments_lexer": "ipython3",
   "version": "3.8.5"
  }
 },
 "nbformat": 4,
 "nbformat_minor": 1
}
