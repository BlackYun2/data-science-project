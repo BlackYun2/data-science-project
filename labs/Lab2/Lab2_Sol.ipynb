{
 "cells": [
  {
   "cell_type": "markdown",
   "metadata": {},
   "source": [
    "# Introduction to Data Science \n",
    "\n",
    "\n",
    "# Lab 2: getting started with python\n",
    "\n",
    "\n",
    "**British University in Egypt**<br>\n",
    "**Instructor:** Nahla Barakat\n",
    "\n",
    "---\n"
   ]
  },
  {
   "cell_type": "markdown",
   "metadata": {},
   "source": [
    "## Table of Contents \n",
    "<ol start=\"1\">\n",
    "<li> Conditions and Loops </li>\n",
    "<li> Strings and Listiness </li>\n",
    "<li> Dictionaries </li>\n",
    "<li> Functions </li>\n",
    "<li> Text Analysis of Hamlet </li>\n",
    "<li> References </li>\n",
    "</ol>"
   ]
  },
  {
   "cell_type": "markdown",
   "metadata": {},
   "source": [
    "## Part 1:  Conditions and Loops "
   ]
  },
  {
   "cell_type": "code",
   "execution_count": 1,
   "metadata": {},
   "outputs": [
    {
     "name": "stdout",
     "output_type": "stream",
     "text": [
      "a and b are equal\n"
     ]
    }
   ],
   "source": [
    "a = 33\n",
    "b = 33\n",
    "if b > a:\n",
    "    print(\"b is greater than a\")\n",
    "elif a == b:\n",
    "    print(\"a and b are equal\")"
   ]
  },
  {
   "cell_type": "code",
   "execution_count": 2,
   "metadata": {},
   "outputs": [
    {
     "name": "stdout",
     "output_type": "stream",
     "text": [
      "a is greater than b\n"
     ]
    }
   ],
   "source": [
    "#Short Hand If\n",
    "a = 35\n",
    "b = 30\n",
    "if a > b: print(\"a is greater than b\")"
   ]
  },
  {
   "cell_type": "code",
   "execution_count": 3,
   "metadata": {},
   "outputs": [
    {
     "name": "stdout",
     "output_type": "stream",
     "text": [
      "B\n"
     ]
    }
   ],
   "source": [
    "a = 2\n",
    "b = 330\n",
    "print(\"A\") if a > b else print(\"B\") "
   ]
  },
  {
   "cell_type": "code",
   "execution_count": 4,
   "metadata": {},
   "outputs": [
    {
     "name": "stdout",
     "output_type": "stream",
     "text": [
      "A : 32\n"
     ]
    }
   ],
   "source": [
    "a=32\n",
    "b = 200\n",
    "if b > a and a ==32:\n",
    "    print(\"A : \" + str(a))\n",
    "else:\n",
    "    pass"
   ]
  },
  {
   "cell_type": "markdown",
   "metadata": {},
   "source": [
    "### While Loop"
   ]
  },
  {
   "cell_type": "code",
   "execution_count": 5,
   "metadata": {},
   "outputs": [
    {
     "name": "stdout",
     "output_type": "stream",
     "text": [
      "Itearation number 1\n",
      "Itearation number 2\n",
      "Itearation number 3\n"
     ]
    }
   ],
   "source": [
    "count = 0\n",
    "while (count < 3):   \n",
    "    count = count + 1\n",
    "    print(\"Itearation number \"+str(count))"
   ]
  },
  {
   "cell_type": "code",
   "execution_count": 6,
   "metadata": {},
   "outputs": [
    {
     "name": "stdout",
     "output_type": "stream",
     "text": [
      "In Else Block\n"
     ]
    }
   ],
   "source": [
    "while (count < 3):   \n",
    "    count = count + 1\n",
    "    print(\"Hello Geek\")\n",
    "else:\n",
    "    print(\"In Else Block\")"
   ]
  },
  {
   "cell_type": "markdown",
   "metadata": {},
   "source": [
    ">**EXERCISE**: Create a list with 5 numbers \n",
    "\n",
    "> Print if each element is odd or even.\n",
    "\n",
    "> Print the elements of the list in reverse order using while loop \n",
    "\n"
   ]
  },
  {
   "cell_type": "code",
   "execution_count": 7,
   "metadata": {},
   "outputs": [
    {
     "name": "stdout",
     "output_type": "stream",
     "text": [
      "['Odd', 'Odd', 'Odd', 'Odd', 'Even']\n",
      "10\n",
      "7.5\n",
      "5\n",
      "2.5\n",
      "1.0\n"
     ]
    }
   ],
   "source": [
    "# your code here\n",
    "li=[1.0,2.5,5,7.5,10]\n",
    "print([\"Even\" if i%2==0 else \"Odd\" for i in li ] )\n",
    "for o in reversed(li):\n",
    "    print(o)"
   ]
  },
  {
   "cell_type": "markdown",
   "metadata": {},
   "source": [
    "## Part 2:  Strings and listiness"
   ]
  },
  {
   "cell_type": "markdown",
   "metadata": {},
   "source": [
    "A list is a container that holds a bunch of objects.  We're particularly interested in Python lists because many other containers in Python, like strings, dictionaries, numpy arrays, pandas series and dataframes, and iterators like `enumerate`, have list-like properties.  This is known as [duck](https://en.wikipedia.org/wiki/Duck_typing) typing, a term coined by Alex Martelli, which refers to the notion that  *if it quacks like a duck, it is a duck*.  We'll soon see that these  containers quack like lists, so for practical purposes we can think of these containers as lists!  They are listy!\n",
    "\n",
    "Containers that are listy have a set length, can be sliced, and can be iterated over with a loop.  Let's look at some listy containers now."
   ]
  },
  {
   "cell_type": "markdown",
   "metadata": {},
   "source": [
    "### Strings\n",
    "We claim that strings are listy.  Here's a string."
   ]
  },
  {
   "cell_type": "code",
   "execution_count": 8,
   "metadata": {},
   "outputs": [],
   "source": [
    "astring = \"kevin\""
   ]
  },
  {
   "cell_type": "markdown",
   "metadata": {},
   "source": [
    "Like lists, this string has a set length, the number of characters in the string."
   ]
  },
  {
   "cell_type": "code",
   "execution_count": 9,
   "metadata": {},
   "outputs": [
    {
     "data": {
      "text/plain": [
       "5"
      ]
     },
     "execution_count": 9,
     "metadata": {},
     "output_type": "execute_result"
    }
   ],
   "source": [
    "len(astring)"
   ]
  },
  {
   "cell_type": "markdown",
   "metadata": {},
   "source": [
    "Like lists, we can slice the string."
   ]
  },
  {
   "cell_type": "code",
   "execution_count": 10,
   "metadata": {},
   "outputs": [
    {
     "name": "stdout",
     "output_type": "stream",
     "text": [
      "ke\n",
      "kvn\n",
      "n\n"
     ]
    }
   ],
   "source": [
    "print(astring[0:2])\n",
    "print(astring[0:6:2])\n",
    "print(astring[-1])"
   ]
  },
  {
   "cell_type": "markdown",
   "metadata": {},
   "source": [
    "And we can iterate through the string with a loop.  Below is a while loop:"
   ]
  },
  {
   "cell_type": "code",
   "execution_count": 11,
   "metadata": {},
   "outputs": [
    {
     "data": {
      "text/plain": [
       "['__add__',\n",
       " '__class__',\n",
       " '__contains__',\n",
       " '__delattr__',\n",
       " '__dir__',\n",
       " '__doc__',\n",
       " '__eq__',\n",
       " '__format__',\n",
       " '__ge__',\n",
       " '__getattribute__',\n",
       " '__getitem__',\n",
       " '__getnewargs__',\n",
       " '__gt__',\n",
       " '__hash__',\n",
       " '__init__',\n",
       " '__init_subclass__',\n",
       " '__iter__',\n",
       " '__le__',\n",
       " '__len__',\n",
       " '__lt__',\n",
       " '__mod__',\n",
       " '__mul__',\n",
       " '__ne__',\n",
       " '__new__',\n",
       " '__reduce__',\n",
       " '__reduce_ex__',\n",
       " '__repr__',\n",
       " '__rmod__',\n",
       " '__rmul__',\n",
       " '__setattr__',\n",
       " '__sizeof__',\n",
       " '__str__',\n",
       " '__subclasshook__',\n",
       " 'capitalize',\n",
       " 'casefold',\n",
       " 'center',\n",
       " 'count',\n",
       " 'encode',\n",
       " 'endswith',\n",
       " 'expandtabs',\n",
       " 'find',\n",
       " 'format',\n",
       " 'format_map',\n",
       " 'index',\n",
       " 'isalnum',\n",
       " 'isalpha',\n",
       " 'isascii',\n",
       " 'isdecimal',\n",
       " 'isdigit',\n",
       " 'isidentifier',\n",
       " 'islower',\n",
       " 'isnumeric',\n",
       " 'isprintable',\n",
       " 'isspace',\n",
       " 'istitle',\n",
       " 'isupper',\n",
       " 'join',\n",
       " 'ljust',\n",
       " 'lower',\n",
       " 'lstrip',\n",
       " 'maketrans',\n",
       " 'partition',\n",
       " 'replace',\n",
       " 'rfind',\n",
       " 'rindex',\n",
       " 'rjust',\n",
       " 'rpartition',\n",
       " 'rsplit',\n",
       " 'rstrip',\n",
       " 'split',\n",
       " 'splitlines',\n",
       " 'startswith',\n",
       " 'strip',\n",
       " 'swapcase',\n",
       " 'title',\n",
       " 'translate',\n",
       " 'upper',\n",
       " 'zfill']"
      ]
     },
     "execution_count": 11,
     "metadata": {},
     "output_type": "execute_result"
    }
   ],
   "source": [
    "dir(\"\")"
   ]
  },
  {
   "cell_type": "code",
   "execution_count": 12,
   "metadata": {},
   "outputs": [
    {
     "name": "stdout",
     "output_type": "stream",
     "text": [
      "k\n",
      "e\n",
      "v\n",
      "i\n",
      "n\n"
     ]
    }
   ],
   "source": [
    "i = 0\n",
    "while i < len(astring):\n",
    "    print(astring[i])\n",
    "    i = i + 1"
   ]
  },
  {
   "cell_type": "markdown",
   "metadata": {},
   "source": [
    "This is equivalent to the for loop:"
   ]
  },
  {
   "cell_type": "code",
   "execution_count": 13,
   "metadata": {},
   "outputs": [
    {
     "name": "stdout",
     "output_type": "stream",
     "text": [
      "k\n",
      "e\n",
      "v\n",
      "i\n",
      "n\n"
     ]
    }
   ],
   "source": [
    "for character in astring:\n",
    "    print(character)"
   ]
  },
  {
   "cell_type": "markdown",
   "metadata": {},
   "source": [
    "So strings are listy.  \n",
    "\n",
    "How are strings different from lists?  While lists are mutable, strings are immutable.  Note that an error occurs when we try to change the second elemnt of `string_list` from 1 to b."
   ]
  },
  {
   "cell_type": "code",
   "execution_count": 14,
   "metadata": {},
   "outputs": [
    {
     "ename": "NameError",
     "evalue": "name 'float_list' is not defined",
     "output_type": "error",
     "traceback": [
      "\u001b[1;31m---------------------------------------------------------------------------\u001b[0m",
      "\u001b[1;31mNameError\u001b[0m                                 Traceback (most recent call last)",
      "\u001b[1;32m<ipython-input-14-ac22c5d93719>\u001b[0m in \u001b[0;36m<module>\u001b[1;34m\u001b[0m\n\u001b[1;32m----> 1\u001b[1;33m \u001b[0mfloat_list\u001b[0m\u001b[1;33m[\u001b[0m\u001b[1;36m1\u001b[0m\u001b[1;33m]\u001b[0m \u001b[1;33m=\u001b[0m \u001b[1;36m2.09\u001b[0m\u001b[1;33m\u001b[0m\u001b[1;33m\u001b[0m\u001b[0m\n\u001b[0m\u001b[0;32m      2\u001b[0m \u001b[0mprint\u001b[0m\u001b[1;33m(\u001b[0m\u001b[0mfloat_list\u001b[0m\u001b[1;33m)\u001b[0m\u001b[1;33m\u001b[0m\u001b[1;33m\u001b[0m\u001b[0m\n\u001b[0;32m      3\u001b[0m \u001b[0mprint\u001b[0m\u001b[1;33m(\u001b[0m\u001b[0mastring\u001b[0m\u001b[1;33m)\u001b[0m\u001b[1;33m\u001b[0m\u001b[1;33m\u001b[0m\u001b[0m\n\u001b[0;32m      4\u001b[0m \u001b[0mprint\u001b[0m\u001b[1;33m(\u001b[0m\u001b[0mastring\u001b[0m\u001b[1;33m)\u001b[0m\u001b[1;33m\u001b[0m\u001b[1;33m\u001b[0m\u001b[0m\n",
      "\u001b[1;31mNameError\u001b[0m: name 'float_list' is not defined"
     ]
    }
   ],
   "source": [
    "float_list[1] = 2.09\n",
    "print(float_list)\n",
    "print(astring)\n",
    "print(astring)"
   ]
  },
  {
   "cell_type": "markdown",
   "metadata": {},
   "source": [
    "We can't use `append` but we can concatenate with `+`. Why is this?"
   ]
  },
  {
   "cell_type": "code",
   "execution_count": 15,
   "metadata": {},
   "outputs": [
    {
     "name": "stdout",
     "output_type": "stream",
     "text": [
      "kevin, pavlos, rahul, margo\n"
     ]
    },
    {
     "data": {
      "text/plain": [
       "str"
      ]
     },
     "execution_count": 15,
     "metadata": {},
     "output_type": "execute_result"
    }
   ],
   "source": [
    "astring = astring + ', pavlos, ' + 'rahul, ' + 'margo'\n",
    "print(astring)\n",
    "type(astring)"
   ]
  },
  {
   "cell_type": "markdown",
   "metadata": {},
   "source": [
    "What is happening here is that we are creating a new string in memory when we do `astring + ', pavlos, ' + 'rahul, ' + 'margo'`. Then we are relabelling this string with the old lavel `astring`. This means that the old memory that `astring` labelled is forgotten. What happens to it? We'll find out in lab 1."
   ]
  },
  {
   "cell_type": "markdown",
   "metadata": {},
   "source": [
    "Or we could use `join`.  See below for a summary of common string operations.  "
   ]
  },
  {
   "cell_type": "markdown",
   "metadata": {},
   "source": [
    "To summarize this section, for  practical purposes all containers that are listy have the following properties:\n",
    "\n",
    "1.  Have a set length, which you can find using `len`\n",
    "2.  Are iterable (via a loop)\n",
    "3.  Are sliceable via : operations\n",
    "\n",
    "We will encounter other listy containers soon."
   ]
  },
  {
   "cell_type": "markdown",
   "metadata": {},
   "source": [
    ">**EXERCISE**: Make three strings, called `first`, `middle`, and `last`, with your first, middle, and last names, respectively.  If you don't have a middle name, make up a middle name!  \n",
    "\n",
    ">Then create a string called `full_name` that joins your first, middle, and last name, with a space separating your first, middle, and last names.  \n",
    "\n",
    ">Finally make a string called `full_name_rev` which takes `full_name` and reverses the letters.  For example, if `full_name` is `Jane Beth Doe`, then `full_name_rev` is `eoD hteB enaJ`.\n",
    "\n"
   ]
  },
  {
   "cell_type": "code",
   "execution_count": 16,
   "metadata": {},
   "outputs": [
    {
     "name": "stdout",
     "output_type": "stream",
     "text": [
      "miharbI demahoM afatsoM\n",
      "miharbI demahoM afatsoM\n"
     ]
    }
   ],
   "source": [
    "# your code here\n",
    "First='Mostafa'\n",
    "Mid='Mohamed'\n",
    "Last='Ibrahim'\n",
    "Full=First+' '+Mid+' '+Last\n",
    "Reversed=''\n",
    "for i in range(len(Full)):\n",
    "    Reversed=Reversed+Full[len(Full)-i-1]\n",
    "print (Reversed)\n",
    "\n",
    "Reversed=''\n",
    "for i in range(1,len(Full)+1):\n",
    "    Reversed=Reversed+Full[-i]\n",
    "print (Reversed)    "
   ]
  },
  {
   "cell_type": "markdown",
   "metadata": {},
   "source": [
    "## Part 3: Dictionaries\n",
    "A dictionary is another storage container.  Like a list, a dictionary is a sequence of items.  Unlike a list, a dictionary is unordered and its items are accessed with keys and not integer positions.  \n",
    "\n",
    "Dictionaries are the closest container we have to a database.\n",
    "\n",
    "Let's make a dictionary with a few Harvard courses and their corresponding enrollment numbers."
   ]
  },
  {
   "cell_type": "code",
   "execution_count": 17,
   "metadata": {
    "scrolled": true
   },
   "outputs": [
    {
     "data": {
      "text/plain": [
       "{'CS50': 692,\n",
       " 'CS109 / Stat 121 / AC 209': 312,\n",
       " 'Econ1011a': 95,\n",
       " 'AM21a': 153,\n",
       " 'Stat110': 485}"
      ]
     },
     "execution_count": 17,
     "metadata": {},
     "output_type": "execute_result"
    }
   ],
   "source": [
    "enroll2016_dict = {'CS50': 692, 'CS109 / Stat 121 / AC 209': 312, 'Econ1011a': 95, 'AM21a': 153, 'Stat110': 485}\n",
    "enroll2016_dict"
   ]
  },
  {
   "cell_type": "code",
   "execution_count": 18,
   "metadata": {},
   "outputs": [
    {
     "data": {
      "text/plain": [
       "dict_values([692, 312, 95, 153, 485])"
      ]
     },
     "execution_count": 18,
     "metadata": {},
     "output_type": "execute_result"
    }
   ],
   "source": [
    "enroll2016_dict.values()"
   ]
  },
  {
   "cell_type": "code",
   "execution_count": 19,
   "metadata": {},
   "outputs": [
    {
     "data": {
      "text/plain": [
       "dict_items([('CS50', 692), ('CS109 / Stat 121 / AC 209', 312), ('Econ1011a', 95), ('AM21a', 153), ('Stat110', 485)])"
      ]
     },
     "execution_count": 19,
     "metadata": {},
     "output_type": "execute_result"
    }
   ],
   "source": [
    "enroll2016_dict.items()"
   ]
  },
  {
   "cell_type": "code",
   "execution_count": 20,
   "metadata": {},
   "outputs": [
    {
     "name": "stdout",
     "output_type": "stream",
     "text": [
      "CS50: 692\n",
      "CS109 / Stat 121 / AC 209: 312\n",
      "Econ1011a: 95\n",
      "AM21a: 153\n",
      "Stat110: 485\n"
     ]
    }
   ],
   "source": [
    "for key, value in enroll2016_dict.items():\n",
    "    print(\"%s: %d\" %(key, value))"
   ]
  },
  {
   "cell_type": "markdown",
   "metadata": {},
   "source": [
    "Simply iterating over a dictionary gives us the keys. This is useful when we want to do something with each item:"
   ]
  },
  {
   "cell_type": "code",
   "execution_count": 21,
   "metadata": {},
   "outputs": [
    {
     "data": {
      "text/plain": [
       "{'CS50': 692,\n",
       " 'CS109 / Stat 121 / AC 209': 312,\n",
       " 'Econ1011a': 95,\n",
       " 'AM21a': 153,\n",
       " 'Stat110': 485}"
      ]
     },
     "execution_count": 21,
     "metadata": {},
     "output_type": "execute_result"
    }
   ],
   "source": [
    "second_dict={}\n",
    "for key in enroll2016_dict:\n",
    "    second_dict[key] = enroll2016_dict[key]\n",
    "second_dict"
   ]
  },
  {
   "cell_type": "markdown",
   "metadata": {},
   "source": [
    "The above is an actual copy to another part of memory, unlike, `second_dict = enroll2016_dict` which would have made both variables label the same meory location."
   ]
  },
  {
   "cell_type": "markdown",
   "metadata": {},
   "source": [
    "In this example, the keys are strings corresponding to course names.  Keys don't have to be strings though.  \n",
    "\n",
    "Like lists, you can construct dictionaries using a *dictionary comprehension*, which is similar to a list comprehension. Notice the brackets {} and the use of `zip`, which is another iterator that combines two lists together."
   ]
  },
  {
   "cell_type": "code",
   "execution_count": 22,
   "metadata": {},
   "outputs": [
    {
     "data": {
      "text/plain": [
       "{1: 1.0, 2: 2.0, 3: 3.0, 4: 4.0}"
      ]
     },
     "execution_count": 22,
     "metadata": {},
     "output_type": "execute_result"
    }
   ],
   "source": [
    "int_list=[1,2,3,4]\n",
    "float_list=[1.0,2.0,3.0,4.0]\n",
    "my_dict = {k:v for (k, v) in zip(int_list, float_list)}\n",
    "my_dict"
   ]
  },
  {
   "cell_type": "markdown",
   "metadata": {},
   "source": [
    "You can also create dictionaries nicely using the *constructor* function `dict`."
   ]
  },
  {
   "cell_type": "code",
   "execution_count": 23,
   "metadata": {},
   "outputs": [
    {
     "data": {
      "text/plain": [
       "{'a': 1, 'b': 2}"
      ]
     },
     "execution_count": 23,
     "metadata": {},
     "output_type": "execute_result"
    }
   ],
   "source": [
    "dict(a = 1, b = 2)"
   ]
  },
  {
   "cell_type": "markdown",
   "metadata": {},
   "source": [
    "While dictionaries have some similarity to lists, they are not listy.  They do have a set length, and the can be iterated through with a loop, but they cannot be sliced, since they have no sense of an order. In technical terms, they satisfy, along with lists and strings, Python's *Sequence* protocol, which is a higher abstraction than that of a list."
   ]
  },
  {
   "cell_type": "markdown",
   "metadata": {},
   "source": [
    "### A cautionary word on iterators (read at home)\n",
    "\n",
    "Iterators are a bit different from lists in the sense that they can be \"exhausted\". Perhaps its best to explain with an example"
   ]
  },
  {
   "cell_type": "code",
   "execution_count": 24,
   "metadata": {},
   "outputs": [],
   "source": [
    "an_iterator = enumerate(astring)"
   ]
  },
  {
   "cell_type": "code",
   "execution_count": 25,
   "metadata": {},
   "outputs": [
    {
     "data": {
      "text/plain": [
       "enumerate"
      ]
     },
     "execution_count": 25,
     "metadata": {},
     "output_type": "execute_result"
    }
   ],
   "source": [
    "type(an_iterator)"
   ]
  },
  {
   "cell_type": "code",
   "execution_count": 26,
   "metadata": {},
   "outputs": [
    {
     "name": "stdout",
     "output_type": "stream",
     "text": [
      "0 k\n",
      "1 e\n",
      "2 v\n",
      "3 i\n",
      "4 n\n",
      "5 ,\n",
      "6  \n",
      "7 p\n",
      "8 a\n",
      "9 v\n",
      "10 l\n",
      "11 o\n",
      "12 s\n",
      "13 ,\n",
      "14  \n",
      "15 r\n",
      "16 a\n",
      "17 h\n",
      "18 u\n",
      "19 l\n",
      "20 ,\n",
      "21  \n",
      "22 m\n",
      "23 a\n",
      "24 r\n",
      "25 g\n",
      "26 o\n"
     ]
    }
   ],
   "source": [
    "for i, c in an_iterator:\n",
    "    print(i,c)"
   ]
  },
  {
   "cell_type": "code",
   "execution_count": 27,
   "metadata": {},
   "outputs": [],
   "source": [
    "for i, c in an_iterator:\n",
    "    print(i,c)"
   ]
  },
  {
   "cell_type": "markdown",
   "metadata": {},
   "source": [
    "What happens, you get nothing when you run this again! This is because the iterator has been \"exhausted\", ie, all its items are used up. I have had answers go wrong for me because I wasnt careful about this. You must either track the state of the iterator or bypass this problem by not storing `enumerate(BLA)` in a variable, so that you dont inadvertantly \"use that variable\" twice."
   ]
  },
  {
   "cell_type": "markdown",
   "metadata": {},
   "source": [
    "## Part 4: Functions\n",
    "\n",
    "A *function* is a reusable block of code that does a specfic task.  Functions are all over Python, either on their own or on objects.  \n",
    "\n",
    "We've seen built-in Python functions and methods.  For example, `len` and `print` are built-in Python functions.  And at the beginning of the lab, you called `np.mean` to calculate the mean of three numbers, where `mean` is a function in the numpy module and numpy was abbreviated as `np`. This syntax allow us to have multiple \"mean\" functions\" in different modules; calling this one as `np.mean` guarantees that we will pick up numpy's mean function.\n",
    "\n",
    "### Methods\n",
    "\n",
    "A function that belongs to an object is called a *method*. An example of this is `append` on an **existing** list. In other words, a *method* is a function on an **instance** of a type of object (also called **class**, here the list type)."
   ]
  },
  {
   "cell_type": "code",
   "execution_count": 28,
   "metadata": {},
   "outputs": [
    {
     "name": "stdout",
     "output_type": "stream",
     "text": [
      "[1.0, 2.0, 3.0, 4.0]\n"
     ]
    },
    {
     "data": {
      "text/plain": [
       "[1.0, 2.0, 3.0, 4.0, 56.7]"
      ]
     },
     "execution_count": 28,
     "metadata": {},
     "output_type": "execute_result"
    }
   ],
   "source": [
    "print(float_list)\n",
    "float_list.append(56.7) \n",
    "float_list"
   ]
  },
  {
   "cell_type": "markdown",
   "metadata": {},
   "source": [
    "### User-defined functions\n",
    "\n",
    "We'll now learn to write our own user-defined functions.  Below is the syntax for defining a basic function with one input argument and one output. You can also define functions with no input or output arguments, or multiple input or output arguments.\n",
    "\n",
    "```\n",
    "def name_of_function(arg):\n",
    "    ...\n",
    "    return(output)\n",
    "```"
   ]
  },
  {
   "cell_type": "markdown",
   "metadata": {},
   "source": [
    "The simplest function has no arguments whatsoever."
   ]
  },
  {
   "cell_type": "code",
   "execution_count": 29,
   "metadata": {},
   "outputs": [
    {
     "name": "stdout",
     "output_type": "stream",
     "text": [
      "Hello, welcome to CS 109 / Stat 121 / AC 209a / CSCI E-109A!\n"
     ]
    }
   ],
   "source": [
    "def print_greeting():\n",
    "    print(\"Hello, welcome to CS 109 / Stat 121 / AC 209a / CSCI E-109A!\")\n",
    "    \n",
    "print_greeting()"
   ]
  },
  {
   "cell_type": "markdown",
   "metadata": {},
   "source": [
    "We can write functions with one input and one output argument.  Here are two such functions."
   ]
  },
  {
   "cell_type": "code",
   "execution_count": 30,
   "metadata": {},
   "outputs": [
    {
     "data": {
      "text/plain": [
       "(25, 125)"
      ]
     },
     "execution_count": 30,
     "metadata": {},
     "output_type": "execute_result"
    }
   ],
   "source": [
    "def square(x):\n",
    "    x_sqr = x*x\n",
    "    return(x_sqr)\n",
    "\n",
    "def cube(x):\n",
    "    x_cub = x*x*x\n",
    "    return(x_cub)\n",
    "\n",
    "square(5),cube(5)"
   ]
  },
  {
   "cell_type": "markdown",
   "metadata": {},
   "source": [
    "### Lambda functions\n",
    "\n",
    "Often we define a mathematical function with a quick one-line function called a *lambda*. No return statement is needed.\n",
    "\n",
    "The big use of lambda functions in data science is for mathematical functions."
   ]
  },
  {
   "cell_type": "code",
   "execution_count": 31,
   "metadata": {},
   "outputs": [
    {
     "name": "stdout",
     "output_type": "stream",
     "text": [
      "9\n"
     ]
    },
    {
     "data": {
      "text/plain": [
       "25"
      ]
     },
     "execution_count": 31,
     "metadata": {},
     "output_type": "execute_result"
    }
   ],
   "source": [
    "square = lambda x: x*x\n",
    "print(square(3))\n",
    "\n",
    "\n",
    "hypotenuse = lambda x, y: x*x + y*y\n",
    "\n",
    "## Same as\n",
    "\n",
    "# def hypotenuse(x, y):\n",
    "#     return(x*x + y*y)\n",
    "\n",
    "hypotenuse(3,4)"
   ]
  },
  {
   "cell_type": "markdown",
   "metadata": {},
   "source": [
    "### Refactoring using functions\n",
    "\n",
    ">**EXERCISE**: Write a function called `isprime` that takes in a positive integer $N$, and determines whether or not it is prime.  Return the $N$ if it's prime and return nothing if it isn't.  You may want to reuse part of your code from the exercise in Part 2.  \n",
    "\n",
    "> Then, using a list comprehension and `isprime`, create a list `myprimes` that contains all the prime numbers less than 100.  "
   ]
  },
  {
   "cell_type": "code",
   "execution_count": 32,
   "metadata": {},
   "outputs": [
    {
     "name": "stdout",
     "output_type": "stream",
     "text": [
      "[2, 3, 5, 7, 11, 13, 17, 19, 23, 29, 31, 37, 41, 43, 47, 53, 59, 61, 67, 71, 73, 79, 83, 89, 97]\n"
     ]
    }
   ],
   "source": [
    "# your code here\n",
    "def isPrime(n):\n",
    "    if all(n%x!=0 for x in range(2,n)):\n",
    "        return n\n",
    "ListPrimes=[isPrime(i) for i in range(2,100) if isPrime(i)!=None]\n",
    "print(ListPrimes)"
   ]
  },
  {
   "cell_type": "markdown",
   "metadata": {},
   "source": [
    "Notice that what you just did is a **refactoring** of the algorithm you used earlier to find primes smaller than 100. This implementation reads much cleaner, and the function `isprime` which containes the \"kernel\" of the functionality of the algorithm can be **re-used** in other places. You should endeavor to write code like this."
   ]
  },
  {
   "cell_type": "markdown",
   "metadata": {},
   "source": [
    "### Default Arguments\n",
    "\n",
    "Functions may also have *default* argument values.  Functions with default values are used extensively in many libraries.  "
   ]
  },
  {
   "cell_type": "code",
   "execution_count": 33,
   "metadata": {},
   "outputs": [
    {
     "name": "stdout",
     "output_type": "stream",
     "text": [
      "With x and y: 20\n",
      "With x only: 10\n"
     ]
    }
   ],
   "source": [
    "# This function can be called with x and y, in which case it will return x*y;\n",
    "# or it can be called with x only, in which case it will return x*1.\n",
    "def get_multiple(x, y = 1):\n",
    "    return x*y\n",
    "\n",
    "print(\"With x and y:\", get_multiple(10, 2))\n",
    "print(\"With x only:\", get_multiple(10))"
   ]
  },
  {
   "cell_type": "markdown",
   "metadata": {},
   "source": [
    "We can have multiple default values. "
   ]
  },
  {
   "cell_type": "code",
   "execution_count": 34,
   "metadata": {},
   "outputs": [
    {
     "name": "stdout",
     "output_type": "stream",
     "text": [
      "Hi Rahul\n",
      "How are you doing on this nice day?\n"
     ]
    }
   ],
   "source": [
    "def print_special_greeting(name, leaving = False, condition = \"nice\"):\n",
    "    print(\"Hi\", name)\n",
    "    print(\"How are you doing on this\", condition, \"day?\")\n",
    "    if leaving:\n",
    "        print(\"Please come back! \")\n",
    "\n",
    "# Use all the default arguments.\n",
    "print_special_greeting(\"Rahul\")"
   ]
  },
  {
   "cell_type": "markdown",
   "metadata": {},
   "source": [
    "Or change all the default arguments:"
   ]
  },
  {
   "cell_type": "code",
   "execution_count": 35,
   "metadata": {},
   "outputs": [
    {
     "name": "stdout",
     "output_type": "stream",
     "text": [
      "Hi Rahul\n",
      "How are you doing on this rainy day?\n",
      "Please come back! \n"
     ]
    }
   ],
   "source": [
    "print_special_greeting(\"Rahul\", True, \"rainy\")"
   ]
  },
  {
   "cell_type": "markdown",
   "metadata": {},
   "source": [
    "Or use the first default argument but change the second one."
   ]
  },
  {
   "cell_type": "code",
   "execution_count": 36,
   "metadata": {},
   "outputs": [
    {
     "name": "stdout",
     "output_type": "stream",
     "text": [
      "Hi Rahul\n",
      "How are you doing on this horrible day?\n"
     ]
    }
   ],
   "source": [
    "print_special_greeting(\"Rahul\", condition=\"horrible\")"
   ]
  },
  {
   "cell_type": "markdown",
   "metadata": {},
   "source": [
    "### Positional and keyword arguments \n",
    "\n",
    "These allow for even more flexibility.  \n",
    "\n",
    "*Positional* arguments are used when you don't know how many input arguments your function be given.  Notice the single asterisk before the second argument name."
   ]
  },
  {
   "cell_type": "code",
   "execution_count": 37,
   "metadata": {},
   "outputs": [
    {
     "name": "stdout",
     "output_type": "stream",
     "text": [
      "John has the following siblings:\n",
      "Ashley\n",
      "Lauren\n",
      "Arthur\n",
      "\n",
      "Mike has the following siblings:\n",
      "John\n",
      "\n",
      "Terry has the following siblings:\n",
      "\n"
     ]
    }
   ],
   "source": [
    "def print_siblings(name, *siblings):\n",
    "    print(name, \"has the following siblings:\")\n",
    "    for sibling in siblings:\n",
    "        print(sibling)\n",
    "    print()\n",
    "print_siblings(\"John\", \"Ashley\", \"Lauren\", \"Arthur\")\n",
    "print_siblings(\"Mike\", \"John\")\n",
    "print_siblings(\"Terry\")        "
   ]
  },
  {
   "cell_type": "markdown",
   "metadata": {},
   "source": [
    "In the function above, arguments after the first input will go into a list called siblings. We can then process that list to extract the names.\n",
    "\n",
    "*Keyword* arguments mix the named argument and positional properties.  Notice the double asterisks before the second argument name."
   ]
  },
  {
   "cell_type": "code",
   "execution_count": 38,
   "metadata": {},
   "outputs": [
    {
     "name": "stdout",
     "output_type": "stream",
     "text": [
      "John has the following siblings:\n",
      "Ashley : sister\n",
      "Lauren : sister\n",
      "Arthur : brother\n",
      "\n"
     ]
    }
   ],
   "source": [
    "def print_brothers_sisters(name, **siblings):\n",
    "    print(name, \"has the following siblings:\")\n",
    "    for sibling in siblings:\n",
    "        print(sibling, \":\", siblings[sibling])\n",
    "    print()\n",
    "    \n",
    "print_brothers_sisters(\"John\", Ashley=\"sister\", Lauren=\"sister\", Arthur=\"brother\")"
   ]
  },
  {
   "cell_type": "markdown",
   "metadata": {},
   "source": [
    "### Putting things together\n",
    "\n",
    "Finally, when putting all those things together one must follow a certain order:\n",
    "Below is a more general function definition.  The ordering of the inputs is key: arguments, default, positional, keyword arguments.\n",
    "```\n",
    "def name_of_function(arg1, arg2, opt1=True, opt2=\"CS109\", *args, **kwargs):\n",
    "    ...\n",
    "    return(output1, output2, ...)\n",
    "```\n",
    "\n",
    "Positional arguments are stored in a tuple, and keyword arguments in a dictionary."
   ]
  },
  {
   "cell_type": "code",
   "execution_count": 39,
   "metadata": {},
   "outputs": [
    {
     "name": "stdout",
     "output_type": "stream",
     "text": [
      "got 1 3 5 () {}\n",
      "1\n",
      "got 1 3 4 () {'d': 1, 'e': 3}\n",
      "1\n",
      "got 1 3 9 (11,) {'d': 1, 'e': 3}\n",
      "1\n"
     ]
    }
   ],
   "source": [
    "def f(a, b, c=5, *tupleargs, **dictargs):\n",
    "    print(\"got\", a, b, c, tupleargs, dictargs)\n",
    "    return a\n",
    "print(f(1,3))\n",
    "print(f(1, 3, c=4, d=1, e=3))\n",
    "print(f(1, 3, 9, 11, d=1, e=3)) # try calling with c = 9 to see what happens!"
   ]
  },
  {
   "cell_type": "markdown",
   "metadata": {},
   "source": [
    ">**EXERCISE:** Create a dictionary, called `ps_dict`, that contains with the primes less than 100 and their corresponding squares."
   ]
  },
  {
   "cell_type": "code",
   "execution_count": 40,
   "metadata": {},
   "outputs": [
    {
     "name": "stdout",
     "output_type": "stream",
     "text": [
      "{2: 4, 3: 9, 5: 25, 7: 49, 11: 121, 13: 169, 17: 289, 19: 361, 23: 529, 29: 841, 31: 961, 37: 1369, 41: 1681, 43: 1849, 47: 2209, 53: 2809, 59: 3481, 61: 3721, 67: 4489, 71: 5041, 73: 5329, 79: 6241, 83: 6889, 89: 7921, 97: 9409}\n"
     ]
    }
   ],
   "source": [
    "# your code here\n",
    "square = lambda x: x*x\n",
    "ps_dict={isPrime(x):square(x) for x in range(2,100) if isPrime(x)!=None}\n",
    "print (ps_dict)"
   ]
  },
  {
   "cell_type": "markdown",
   "metadata": {},
   "source": [
    "## Part 5. Numpy\n",
    "Scientific Python code uses a fast array structure, called the numpy array. Those who have worked in Matlab will find this very natural. Let's make a numpy array."
   ]
  },
  {
   "cell_type": "markdown",
   "metadata": {},
   "source": [
    "##### Libraries that you will become very comfortable with:\n",
    "- `numpy`:  [NumPy](http://www.numpy.org/)\n",
    "- `scipy`:  [SciPy](https://www.scipy.org/)\n",
    "- `sklearn`:  [scikit-learn](http://scikit-learn.org/stable/index.html)\n",
    "- `pandas`:  [pandas](https://pandas.pydata.org/)\n",
    "- `matplotlib`: [matplotlib](https://matplotlib.org/)\n",
    "\n",
    "We won't go into the inner-workings of how each of these libraries works (e.g. `numpy` is built on top of `C`).  However, throughout the course, we will make extensive use of these libraries and we will point out the necessary features as we go along."
   ]
  },
  {
   "cell_type": "code",
   "execution_count": 41,
   "metadata": {},
   "outputs": [
    {
     "data": {
      "text/plain": [
       "array([1, 2, 3, 4])"
      ]
     },
     "execution_count": 41,
     "metadata": {},
     "output_type": "execute_result"
    }
   ],
   "source": [
    "import numpy as np\n",
    "my_array = np.array([1, 2, 3, 4])\n",
    "my_array"
   ]
  },
  {
   "cell_type": "markdown",
   "metadata": {},
   "source": [
    "Numpy arrays are listy. Below we compute length, slice, and iterate. But these are very bad ideas, for efficiency reasons we will see in lab 1."
   ]
  },
  {
   "cell_type": "code",
   "execution_count": 42,
   "metadata": {},
   "outputs": [
    {
     "name": "stdout",
     "output_type": "stream",
     "text": [
      "4\n",
      "[3 4]\n",
      "1\n",
      "2\n",
      "3\n",
      "4\n"
     ]
    }
   ],
   "source": [
    "print(len(my_array))\n",
    "print(my_array[2:4])\n",
    "for ele in my_array:\n",
    "    print(ele)"
   ]
  },
  {
   "cell_type": "markdown",
   "metadata": {},
   "source": [
    "In general you should manipulate numpy arrays by using numpy module functions (`np.mean`, for example). You can calculate the mean of the array elements either by calling the method `.mean` on a numpy array or by applying the function np.mean with the numpy array as an argument."
   ]
  },
  {
   "cell_type": "code",
   "execution_count": 43,
   "metadata": {},
   "outputs": [
    {
     "name": "stdout",
     "output_type": "stream",
     "text": [
      "2.5\n",
      "2.5\n"
     ]
    }
   ],
   "source": [
    "print(my_array.mean())\n",
    "print(np.mean(my_array))"
   ]
  },
  {
   "cell_type": "markdown",
   "metadata": {},
   "source": [
    "You can construct a normal distribution with mean0 and standard deviation 1 by doing:"
   ]
  },
  {
   "cell_type": "code",
   "execution_count": 44,
   "metadata": {},
   "outputs": [
    {
     "name": "stdout",
     "output_type": "stream",
     "text": [
      "The sample mean and standard devation are -0.036810 and 0.990578, respectively.\n"
     ]
    }
   ],
   "source": [
    "normal_array = np.random.randn(1000)\n",
    "print(\"The sample mean and standard devation are %f and %f, respectively.\" %(np.mean(normal_array), np.std(normal_array)))"
   ]
  },
  {
   "cell_type": "markdown",
   "metadata": {},
   "source": [
    "Numpy supports a concept known as broadcasting, which dictates how arrays of different sizes are combined together. There are too many rules to list here, but importantly, multiplying an array by a number multiplies each element by the number. Adding a number adds the number to each element.\n",
    "This means that if you wanted the distribution $N(5, 7)$ you could do:"
   ]
  },
  {
   "cell_type": "code",
   "execution_count": 45,
   "metadata": {},
   "outputs": [
    {
     "data": {
      "text/plain": [
       "(0.9263797832998427, 1.9811566750461658)"
      ]
     },
     "execution_count": 45,
     "metadata": {},
     "output_type": "execute_result"
    }
   ],
   "source": [
    "normal_5_7 = 1 + 2*normal_array\n",
    "np.mean(normal_5_7), np.std(normal_5_7)"
   ]
  },
  {
   "cell_type": "markdown",
   "metadata": {},
   "source": [
    "## Part 6: I/O and Preprocessing\n",
    "Much of data science and computational science involves reading data from files and writing to files.   This process is generally known as `I/O`.\n",
    "\n",
    "There are many ways of accomplishing different `I/O` tasks.  `Python` has its own built-in functionality for reading and working with files.  You can read also read data with `numpy` and `pandas` among others.  We won't cover `numpy` for basic input parsing today, but you'll probably be introduced to it eventually.  We will spend a considerable amount of time on `pandas`.\n",
    "\n",
    "Below we'll walk you through an exercise analyzing the word distribution of the play *Hamlet* using what we learned in this lab.  \n",
    "\n",
    "First we need to read the file into Python.  If you haven't done so already, please download `hamlet.txt` from the github repo and save it in the `data` subfolder. (You could just clone and download a zip of the entire repository as well)."
   ]
  },
  {
   "cell_type": "markdown",
   "metadata": {},
   "source": [
    "### Part 6.1:  `Python`'s built-in I/O \n",
    "We'll work with the small file called `brief_comments.txt` in the `data` directory."
   ]
  },
  {
   "cell_type": "code",
   "execution_count": 46,
   "metadata": {},
   "outputs": [],
   "source": [
    "# This approach should not be used!\n",
    "f = open(\"brief_comments.txt\", \"r\") # Open the file for reading\n",
    "dogs = f.read() # Read the file\n",
    "f.close() # Remember to close the file"
   ]
  },
  {
   "cell_type": "code",
   "execution_count": 47,
   "metadata": {},
   "outputs": [],
   "source": [
    "# This approach is the correct way, and should always be used.\n",
    "with open(\"brief_comments.txt\", \"r\") as f:\n",
    "    dogs = f.read()"
   ]
  },
  {
   "cell_type": "markdown",
   "metadata": {},
   "source": [
    "#### Observations\n",
    "The `with` statement does a few things for us automatically.  First, it closes the file for us so we don't need to remember to do this.  It is important to close a file when you're done with it!  There are a few reasons for this:\n",
    "1. Having too many files open at once consumes resources\n",
    "2. Not closing a file is sloppy coding\n",
    "3. You might not see changes to the file until you close it\n",
    "\n",
    "`with` even closes the file for us if an exception was thrown.  It's nice that the `with` statement handles that for us."
   ]
  },
  {
   "cell_type": "markdown",
   "metadata": {},
   "source": [
    "### Part 6.2:  Preprocessing\n",
    "\n",
    "Now we can do some operations on the text.  We will explore a few methods here:\n",
    "1. `len`\n",
    "2. `split`\n",
    "3. `lower`\n",
    "\n",
    "There are many other methods as part of the `string` class.  These can be found in the documentation:  [String Methods](https://docs.python.org/3/library/stdtypes.html#string-methods)."
   ]
  },
  {
   "cell_type": "code",
   "execution_count": 48,
   "metadata": {},
   "outputs": [
    {
     "name": "stdout",
     "output_type": "stream",
     "text": [
      "Dogs have been with humans for millenia.  Although they do not speak human languages (e.g. English or Chinese), they have been watching and observing\n",
      "us for all that time.  Their emotional intelligence is prodigious.  We are only just beginning to scrape the surface of the mind of dogs.  The nascent\n",
      "field of dog cognition is beginning to shed light on ways to form meaningful communication with dogs.\n",
      "\n"
     ]
    }
   ],
   "source": [
    "print(dogs) # What are the contents of the object we just read in?"
   ]
  },
  {
   "cell_type": "code",
   "execution_count": 49,
   "metadata": {},
   "outputs": [
    {
     "data": {
      "text/plain": [
       "str"
      ]
     },
     "execution_count": 49,
     "metadata": {},
     "output_type": "execute_result"
    }
   ],
   "source": [
    "type(dogs) # What kind of data are we dealing with?"
   ]
  },
  {
   "cell_type": "code",
   "execution_count": 50,
   "metadata": {},
   "outputs": [
    {
     "name": "stdout",
     "output_type": "stream",
     "text": [
      "403\n"
     ]
    }
   ],
   "source": [
    "l = len(dogs) # How many characters are in this string?\n",
    "print(l)"
   ]
  },
  {
   "cell_type": "code",
   "execution_count": 51,
   "metadata": {},
   "outputs": [
    {
     "data": {
      "text/plain": [
       "'b'"
      ]
     },
     "execution_count": 51,
     "metadata": {},
     "output_type": "execute_result"
    }
   ],
   "source": [
    "dogs[10] # Let's access the 11th item"
   ]
  },
  {
   "cell_type": "markdown",
   "metadata": {},
   "source": [
    "That's something of a letdown.  The `string` object is just one giant string so accessing the first item gives us the first character.  It would be more useful to access individual words.  We can use the `split` method to accomplish this: [`str.split`](https://docs.python.org/3/library/stdtypes.html#str.split)."
   ]
  },
  {
   "cell_type": "code",
   "execution_count": 52,
   "metadata": {},
   "outputs": [
    {
     "name": "stdout",
     "output_type": "stream",
     "text": [
      "['Dogs', 'have', 'been', 'with', 'humans', 'for', 'millenia.', 'Although', 'they', 'do', 'not', 'speak', 'human', 'languages', '(e.g.', 'English', 'or', 'Chinese),', 'they', 'have', 'been', 'watching', 'and', 'observing', 'us', 'for', 'all', 'that', 'time.', 'Their', 'emotional', 'intelligence', 'is', 'prodigious.', 'We', 'are', 'only', 'just', 'beginning', 'to', 'scrape', 'the', 'surface', 'of', 'the', 'mind', 'of', 'dogs.', 'The', 'nascent', 'field', 'of', 'dog', 'cognition', 'is', 'beginning', 'to', 'shed', 'light', 'on', 'ways', 'to', 'form', 'meaningful', 'communication', 'with', 'dogs.']\n"
     ]
    }
   ],
   "source": [
    "words = dogs.split()\n",
    "print(words)"
   ]
  },
  {
   "cell_type": "code",
   "execution_count": 53,
   "metadata": {},
   "outputs": [
    {
     "data": {
      "text/plain": [
       "list"
      ]
     },
     "execution_count": 53,
     "metadata": {},
     "output_type": "execute_result"
    }
   ],
   "source": [
    "type(words)"
   ]
  },
  {
   "cell_type": "markdown",
   "metadata": {},
   "source": [
    "So `split` returned a `python` `list` by splitting the string into elements separated by white space.  Now let's see what the 11th item is."
   ]
  },
  {
   "cell_type": "code",
   "execution_count": 54,
   "metadata": {},
   "outputs": [
    {
     "data": {
      "text/plain": [
       "'not'"
      ]
     },
     "execution_count": 54,
     "metadata": {},
     "output_type": "execute_result"
    }
   ],
   "source": [
    "words[10]"
   ]
  },
  {
   "cell_type": "code",
   "execution_count": 55,
   "metadata": {},
   "outputs": [
    {
     "name": "stdout",
     "output_type": "stream",
     "text": [
      "There are 67 words in our brief comments.\n"
     ]
    }
   ],
   "source": [
    "N = len(words) # Number of words\n",
    "print(\"There are {0} words in our brief comments.\".format(N))"
   ]
  },
  {
   "cell_type": "markdown",
   "metadata": {},
   "source": [
    "#### Brief Interlude\n",
    "We used the `format` method on a string.  The *pythonic* way of doing this in `python3` can be found at the following resources:\n",
    "* [The `format` statement](https://docs.python.org/3/library/stdtypes.html#str.format) --- Syntax for using the `format` statement.\n",
    "* [Format String Syntax](https://docs.python.org/3/library/string.html#formatstrings) --- Different ways for formating strings (e.g. printing integers, floats, etc).\n",
    "* [Formatting Literal Strings](https://docs.python.org/3/reference/lexical_analysis.html#f-strings) --- An alternative way of formatting strings.  Not used in this lab.\n",
    "\n",
    "#### End Brief Interlude"
   ]
  },
  {
   "cell_type": "markdown",
   "metadata": {},
   "source": [
    "Let's get back to our nice little example.\n",
    "\n",
    "Suppose we want to count the occurance of a particular word.  We could use the `count` method (see [`list.count()`](https://docs.python.org/3/tutorial/datastructures.html)).\n",
    "\n",
    "How many times is the word `dogs` mentioned"
   ]
  },
  {
   "cell_type": "code",
   "execution_count": 56,
   "metadata": {},
   "outputs": [
    {
     "data": {
      "text/plain": [
       "0"
      ]
     },
     "execution_count": 56,
     "metadata": {},
     "output_type": "execute_result"
    }
   ],
   "source": [
    "words.count(\"dogs\")"
   ]
  },
  {
   "cell_type": "markdown",
   "metadata": {},
   "source": [
    "That's not correct.  We can see clearly that the word `dogs` is mentioned $3$ times (it's a small enough text that we can count this manually).  The problem is that sometimes `dogs` is capitalized, sometimes it comes with a period, and sometimes it's all lowercase.  We need to do further processing."
   ]
  },
  {
   "cell_type": "code",
   "execution_count": 57,
   "metadata": {},
   "outputs": [
    {
     "name": "stdout",
     "output_type": "stream",
     "text": [
      "2\n",
      "['Dogs', 'have', 'been', 'with', 'humans', 'for', 'millenia', 'Although', 'they', 'do', 'not', 'speak', 'human', 'languages', '(e', 'English', 'or', 'Chinese),', 'they', 'have', 'been', 'watching', 'and', 'observing', 'us', 'for', 'all', 'that', 'time', 'Their', 'emotional', 'intelligence', 'is', 'prodigious', 'We', 'are', 'only', 'just', 'beginning', 'to', 'scrape', 'the', 'surface', 'of', 'the', 'mind', 'of', 'dogs', 'The', 'nascent', 'field', 'of', 'dog', 'cognition', 'is', 'beginning', 'to', 'shed', 'light', 'on', 'ways', 'to', 'form', 'meaningful', 'communication', 'with', 'dogs']\n"
     ]
    }
   ],
   "source": [
    "more_words = [word.split('.')[0] for word in words] # List comprehension\n",
    "print(more_words.count(\"dogs\"))\n",
    "print(more_words)"
   ]
  },
  {
   "cell_type": "code",
   "execution_count": 58,
   "metadata": {},
   "outputs": [],
   "source": [
    "# We can write the list comprehension as a for loop as follows:\n",
    "more_words1 = []\n",
    "for word in words:\n",
    "    more_words1.append(word.split('.')[0])"
   ]
  },
  {
   "cell_type": "markdown",
   "metadata": {},
   "source": [
    "Let's put this all into English."
   ]
  },
  {
   "cell_type": "markdown",
   "metadata": {},
   "source": [
    "\n",
    "1. First of all, this time we used `split` to split on periods rather than white space.  Splitting on white space is the default.  Beyond that, you have to tell it what to do the split on.\n",
    "2. Second, we introduced a **list comprehension**.  The list comprehension structure is extremely useful.  You should take a look at the documentation:  [List Comprehensions](https://docs.python.org/3/tutorial/datastructures.html#list-comprehensions).  Basically, a list comprehension can be used to create a new list by applying operations on an old list.\n",
    "3. Third, we accessed the first element of the new list in the list comprehension.\n",
    "  * You see, each time the `split` method is called, it creates a new list.\n",
    "  * But we know that we don't want a list of lists.\n",
    "    - Try it out.  Just print the result from `[word.split('.') for word in words]` and see what it looks like.\n",
    "  * We also know that the nested lists contain just one element (a single word), so we just access that word and get a string back.  If this sentence sounds strange to you, then you probably didn't try things out on your own like we suggested you do."
   ]
  },
  {
   "cell_type": "markdown",
   "metadata": {},
   "source": [
    "Still, we have more work to do.  Only $2$ occurrances of the word `dogs` were noted.  The other occurance happens with a capital letter.  Not to fear!  We can convert strings to lower case using the `lower` method."
   ]
  },
  {
   "cell_type": "code",
   "execution_count": 59,
   "metadata": {},
   "outputs": [
    {
     "data": {
      "text/plain": [
       "'hello bonnie'"
      ]
     },
     "execution_count": 59,
     "metadata": {},
     "output_type": "execute_result"
    }
   ],
   "source": [
    "my_str = 'HELLO Bonnie'\n",
    "my_str.lower()"
   ]
  },
  {
   "cell_type": "markdown",
   "metadata": {},
   "source": [
    "<div class=\"exercise\"><b>Exercise</b></div>\n",
    "Use a list comprehension to create a list of all lower case words starting from the `more_words` list that we just created.  Then print out the number of occurrances of the word `dogs`."
   ]
  },
  {
   "cell_type": "code",
   "execution_count": 60,
   "metadata": {},
   "outputs": [
    {
     "data": {
      "text/plain": [
       "3"
      ]
     },
     "execution_count": 60,
     "metadata": {},
     "output_type": "execute_result"
    }
   ],
   "source": [
    "# Your code here\n",
    "more_Words_lc=[word.lower() for word in more_words]\n",
    "more_Words_lc.count(\"dogs\")"
   ]
  },
  {
   "cell_type": "markdown",
   "metadata": {},
   "source": [
    "### Part 6.3:  Writing Files\n",
    "So far, we've discussed how to read data from files.  We've used `python`'s built-in functionality.  Of course, you generally want to *write* data to files as well.  What's the point of generating data if you're not saving it somewhere?!\n",
    "\n",
    "We'll begin this section by generating some data to write."
   ]
  },
  {
   "cell_type": "code",
   "execution_count": 61,
   "metadata": {},
   "outputs": [
    {
     "name": "stdout",
     "output_type": "stream",
     "text": [
      "Our list is [25, 16, 9, 4, 1, 0, 1, 4, 9, 16, 25].\n"
     ]
    }
   ],
   "source": [
    "my_ints = [i for i in range(-5, 6)]\n",
    "my_ints2 = [i*i for i in my_ints]\n",
    "print(\"Our list is {0}.\".format(my_ints2))"
   ]
  },
  {
   "cell_type": "code",
   "execution_count": 62,
   "metadata": {},
   "outputs": [],
   "source": [
    "with open(\"datafile.txt\", \"w\") as dataf:\n",
    "    # header\n",
    "    dataf.write(\"Here is a list of squared ints.\\n\\n\")\n",
    "    # Columns\n",
    "    dataf.write(\"n\")\n",
    "    dataf.write(\", \")\n",
    "    dataf.write(\"n^2\" + \"\\n\")\n",
    "    # Data\n",
    "    for i, i2 in zip(my_ints, my_ints2):\n",
    "        dataf.write(\"{}, {}\\n\".format(str(i), str(i2)))"
   ]
  },
  {
   "cell_type": "markdown",
   "metadata": {},
   "source": [
    "<b> Exercise </b> \n",
    "* hamlet.txt is in the `data` directory.  Open and read it into a variable called `hamlettext`.\n",
    "* What is the type of `hamlettext`?  What is its length?  Print the first $500$ items of `hamlettext`.\n",
    "* Create a list called `hamletwords` where the items are the words of the play.\n",
    "  * Confirm that the list you created is really a list\n",
    "  * Confirm that each element of the list is a string\n",
    "  * Print the first 10 items in the list.  \n",
    "  * Print \"There are $N$ total words in Hamlet.\",  where $N$ is the total number of words in Hamlet.\n",
    "* Using a *list comprehension*, create `hamletwords_lc` which converts the items in `hamletwords` to lower-case. \n",
    "* Count the number of occurences of the word \"thou\".\n",
    "* Use `set` to determine the set of unique words in `hamletwords_lc`.  Here's documentation on the `set` datatype:  [Sets](https://docs.python.org/3/tutorial/datastructures.html#sets).\n",
    "  * Print \"There are $M$ unique words in Hamlet.\", where $M$ is the number of unique words.  As a sanity check, verify that $M < N$.\n",
    "  * Your output should be \n",
    "  ```\n",
    "  \"There are 7456 unique words in Hamlet.\""
   ]
  },
  {
   "cell_type": "code",
   "execution_count": 63,
   "metadata": {},
   "outputs": [],
   "source": [
    "# Your code here\n",
    "with open(\"hamlet.txt\")as Fil:\n",
    "    hamlettext=Fil.read()\n",
    "words=hamlettext.split()"
   ]
  },
  {
   "cell_type": "code",
   "execution_count": 66,
   "metadata": {},
   "outputs": [
    {
     "name": "stdout",
     "output_type": "stream",
     "text": [
      "<class 'str'>\n",
      "Total Number of Words are 31659\n"
     ]
    }
   ],
   "source": [
    "print(type(hamlettext))\n",
    "print(\"Total Number of Words are {}\" .format(len(words)))"
   ]
  },
  {
   "cell_type": "code",
   "execution_count": 67,
   "metadata": {},
   "outputs": [
    {
     "name": "stdout",
     "output_type": "stream",
     "text": [
      "ï\n",
      "»\n",
      "؟\n",
      "X\n",
      "X\n",
      "X\n",
      "X\n",
      "\n",
      "\n",
      "H\n",
      "A\n",
      "M\n",
      "L\n",
      "E\n",
      "T\n",
      ",\n",
      " \n",
      "P\n",
      "R\n",
      "I\n",
      "N\n",
      "C\n",
      "E\n",
      " \n",
      "O\n",
      "F\n",
      " \n",
      "D\n",
      "E\n",
      "N\n",
      "M\n",
      "A\n",
      "R\n",
      "K\n",
      "\n",
      "\n",
      "\n",
      "\n",
      "b\n",
      "y\n",
      " \n",
      "W\n",
      "i\n",
      "l\n",
      "l\n",
      "i\n",
      "a\n",
      "m\n",
      " \n",
      "S\n",
      "h\n",
      "a\n",
      "k\n",
      "e\n",
      "s\n",
      "p\n",
      "e\n",
      "a\n",
      "r\n",
      "e\n",
      "\n",
      "\n",
      "\n",
      "\n",
      "\n",
      "\n",
      "\n",
      "\n",
      "\n",
      "\n",
      "P\n",
      "E\n",
      "R\n",
      "S\n",
      "O\n",
      "N\n",
      "S\n",
      " \n",
      "R\n",
      "E\n",
      "P\n",
      "R\n",
      "E\n",
      "S\n",
      "E\n",
      "N\n",
      "T\n",
      "E\n",
      "D\n",
      ".\n",
      "\n",
      "\n",
      "\n",
      "\n",
      "C\n",
      "l\n",
      "a\n",
      "u\n",
      "d\n",
      "i\n",
      "u\n",
      "s\n",
      ",\n",
      " \n",
      "K\n",
      "i\n",
      "n\n",
      "g\n",
      " \n",
      "o\n",
      "f\n",
      " \n",
      "D\n",
      "e\n",
      "n\n",
      "m\n",
      "a\n",
      "r\n",
      "k\n",
      ".\n",
      "\n",
      "\n",
      "H\n",
      "a\n",
      "m\n",
      "l\n",
      "e\n",
      "t\n",
      ",\n",
      " \n",
      "S\n",
      "o\n",
      "n\n",
      " \n",
      "t\n",
      "o\n",
      " \n",
      "t\n",
      "h\n",
      "e\n",
      " \n",
      "f\n",
      "o\n",
      "r\n",
      "m\n",
      "e\n",
      "r\n",
      ",\n",
      " \n",
      "a\n",
      "n\n",
      "d\n",
      " \n",
      "N\n",
      "e\n",
      "p\n",
      "h\n",
      "e\n",
      "w\n",
      " \n",
      "t\n",
      "o\n",
      " \n",
      "t\n",
      "h\n",
      "e\n",
      " \n",
      "p\n",
      "r\n",
      "e\n",
      "s\n",
      "e\n",
      "n\n",
      "t\n",
      " \n",
      "K\n",
      "i\n",
      "n\n",
      "g\n",
      ".\n",
      "\n",
      "\n",
      "P\n",
      "o\n",
      "l\n",
      "o\n",
      "n\n",
      "i\n",
      "u\n",
      "s\n",
      ",\n",
      " \n",
      "L\n",
      "o\n",
      "r\n",
      "d\n",
      " \n",
      "C\n",
      "h\n",
      "a\n",
      "m\n",
      "b\n",
      "e\n",
      "r\n",
      "l\n",
      "a\n",
      "i\n",
      "n\n",
      ".\n",
      "\n",
      "\n",
      "H\n",
      "o\n",
      "r\n",
      "a\n",
      "t\n",
      "i\n",
      "o\n",
      ",\n",
      " \n",
      "F\n",
      "r\n",
      "i\n",
      "e\n",
      "n\n",
      "d\n",
      " \n",
      "t\n",
      "o\n",
      " \n",
      "H\n",
      "a\n",
      "m\n",
      "l\n",
      "e\n",
      "t\n",
      ".\n",
      "\n",
      "\n",
      "L\n",
      "a\n",
      "e\n",
      "r\n",
      "t\n",
      "e\n",
      "s\n",
      ",\n",
      " \n",
      "S\n",
      "o\n",
      "n\n",
      " \n",
      "t\n",
      "o\n",
      " \n",
      "P\n",
      "o\n",
      "l\n",
      "o\n",
      "n\n",
      "i\n",
      "u\n",
      "s\n",
      ".\n",
      "\n",
      "\n",
      "V\n",
      "o\n",
      "l\n",
      "t\n",
      "i\n",
      "m\n",
      "a\n",
      "n\n",
      "d\n",
      ",\n",
      " \n",
      "C\n",
      "o\n",
      "u\n",
      "r\n",
      "t\n",
      "i\n",
      "e\n",
      "r\n",
      ".\n",
      "\n",
      "\n",
      "C\n",
      "o\n",
      "r\n",
      "n\n",
      "e\n",
      "l\n",
      "i\n",
      "u\n",
      "s\n",
      ",\n",
      " \n",
      "C\n",
      "o\n",
      "u\n",
      "r\n",
      "t\n",
      "i\n",
      "e\n",
      "r\n",
      ".\n",
      "\n",
      "\n",
      "R\n",
      "o\n",
      "s\n",
      "e\n",
      "n\n",
      "c\n",
      "r\n",
      "a\n",
      "n\n",
      "t\n",
      "z\n",
      ",\n",
      " \n",
      "C\n",
      "o\n",
      "u\n",
      "r\n",
      "t\n",
      "i\n",
      "e\n",
      "r\n",
      ".\n",
      "\n",
      "\n",
      "G\n",
      "u\n",
      "i\n",
      "l\n",
      "d\n",
      "e\n",
      "n\n",
      "s\n",
      "t\n",
      "e\n",
      "r\n",
      "n\n",
      ",\n",
      " \n",
      "C\n",
      "o\n",
      "u\n",
      "r\n",
      "t\n",
      "i\n",
      "e\n",
      "r\n",
      ".\n",
      "\n",
      "\n",
      "O\n",
      "s\n",
      "r\n",
      "i\n",
      "c\n",
      ",\n",
      " \n",
      "C\n",
      "o\n",
      "u\n",
      "r\n",
      "t\n",
      "i\n",
      "e\n",
      "r\n",
      ".\n",
      "\n",
      "\n",
      "A\n",
      " \n",
      "G\n",
      "e\n",
      "n\n",
      "t\n",
      "l\n",
      "e\n",
      "m\n",
      "a\n",
      "n\n",
      ",\n",
      " \n",
      "C\n",
      "o\n",
      "u\n",
      "r\n",
      "t\n",
      "i\n",
      "e\n",
      "r\n",
      ".\n",
      "\n",
      "\n",
      "A\n",
      " \n",
      "P\n",
      "r\n",
      "i\n",
      "e\n",
      "s\n",
      "t\n",
      ".\n",
      "\n",
      "\n",
      "M\n",
      "a\n",
      "r\n",
      "c\n",
      "e\n",
      "l\n",
      "l\n",
      "u\n",
      "s\n",
      ",\n",
      " \n",
      "O\n",
      "f\n",
      "f\n",
      "i\n",
      "c\n",
      "e\n",
      "r\n",
      ".\n",
      "\n",
      "\n",
      "B\n",
      "e\n",
      "r\n",
      "n\n",
      "a\n",
      "r\n",
      "d\n",
      "o\n",
      ",\n",
      " \n",
      "O\n",
      "f\n",
      "f\n",
      "i\n",
      "c\n",
      "e\n",
      "r\n",
      ".\n",
      "\n",
      "\n",
      "F\n",
      "r\n",
      "a\n",
      "n\n",
      "c\n",
      "i\n",
      "s\n",
      "c\n",
      "o\n",
      ",\n",
      " \n",
      "a\n",
      " \n",
      "S\n",
      "o\n",
      "l\n",
      "d\n",
      "i\n",
      "e\n",
      "r\n",
      "\n",
      "\n",
      "R\n",
      "e\n",
      "y\n",
      "n\n",
      "a\n",
      "l\n",
      "d\n",
      "o\n",
      ",\n",
      " \n",
      "S\n",
      "e\n",
      "r\n",
      "v\n",
      "a\n",
      "n\n",
      "t\n",
      " \n",
      "t\n",
      "o\n",
      " \n",
      "P\n",
      "o\n",
      "l\n",
      "o\n",
      "n\n",
      "i\n",
      "u\n",
      "s\n",
      ".\n",
      "\n",
      "\n",
      "P\n",
      "l\n",
      "a\n",
      "y\n",
      "e\n",
      "r\n",
      "s\n",
      ".\n",
      "\n",
      "\n",
      "T\n",
      "w\n",
      "o\n",
      " \n",
      "C\n",
      "l\n",
      "o\n",
      "w\n",
      "n\n",
      "s\n"
     ]
    }
   ],
   "source": [
    "for i in range(500):\n",
    "    print(hamlettext[i])"
   ]
  },
  {
   "cell_type": "code",
   "execution_count": 68,
   "metadata": {},
   "outputs": [
    {
     "name": "stdout",
     "output_type": "stream",
     "text": [
      "All  words are string\n",
      "ï»؟XXXX\n",
      "HAMLET,\n",
      "PRINCE\n",
      "OF\n",
      "DENMARK\n",
      "by\n",
      "William\n",
      "Shakespeare\n",
      "PERSONS\n",
      "REPRESENTED.\n"
     ]
    }
   ],
   "source": [
    "hamletWords=hamlettext.split()\n",
    "if all(type(word)==str for word in hamletWords):\n",
    "    print(\"All  words are string\")\n",
    "for i in range(10):\n",
    "    print(hamletWords[i])"
   ]
  },
  {
   "cell_type": "code",
   "execution_count": 69,
   "metadata": {},
   "outputs": [
    {
     "data": {
      "text/plain": [
       "95"
      ]
     },
     "execution_count": 69,
     "metadata": {},
     "output_type": "execute_result"
    }
   ],
   "source": [
    "hamletWords_lc=[word.lower() for word in hamletWords ]\n",
    "hamletWords_lc.count(\"thou\")"
   ]
  },
  {
   "cell_type": "code",
   "execution_count": 70,
   "metadata": {},
   "outputs": [
    {
     "name": "stdout",
     "output_type": "stream",
     "text": [
      "There are 7456 unique words in Hamelt Text\n"
     ]
    }
   ],
   "source": [
    "hameltSet={word for word in hamletWords_lc}\n",
    "print(\"There are {0} unique words in Hamelt Text\".format(len(hameltSet)) )"
   ]
  },
  {
   "cell_type": "code",
   "execution_count": 72,
   "metadata": {},
   "outputs": [
    {
     "data": {
      "text/plain": [
       "7456"
      ]
     },
     "execution_count": 72,
     "metadata": {},
     "output_type": "execute_result"
    }
   ],
   "source": [
    "len(set(hamletWords_lc))"
   ]
  },
  {
   "cell_type": "markdown",
   "metadata": {},
   "source": [
    "## Part 7:  References\n",
    "\n",
    "Congratulations!  You've completed lab 0.  You'll likely very comfortable with some parts of the lab, and less comfortable with other parts.  Below are a few tutorials and practice problems if you'd like to do more -- check them out.\n",
    "<ol >\n",
    "<li> Tutorial: https://realpython.com/files/python_cheat_sheet_v1.pdf </li>\n",
    "<li> Short practice problems with solutions: http://www.practicepython.org</li>\n",
    "<li> Jupyter notebooks (0, 1, and 2 are more relevant): https://github.com/jrjohansson/scientific-python-lectures </li>\n",
    "</ol>\n",
    " "
   ]
  }
 ],
 "metadata": {
  "kernelspec": {
   "display_name": "Python 3",
   "language": "python",
   "name": "python3"
  },
  "language_info": {
   "codemirror_mode": {
    "name": "ipython",
    "version": 3
   },
   "file_extension": ".py",
   "mimetype": "text/x-python",
   "name": "python",
   "nbconvert_exporter": "python",
   "pygments_lexer": "ipython3",
   "version": "3.8.5"
  }
 },
 "nbformat": 4,
 "nbformat_minor": 2
}
