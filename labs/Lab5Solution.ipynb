{
 "cells": [
  {
   "cell_type": "markdown",
   "metadata": {},
   "source": [
    "# Introduction to Data Science \n",
    "\n",
    "\n",
    "## Lab 5: Data Cleaning\n",
    "\n",
    "**British University in Egypt**<br>\n",
    "**Instructors:** Nahla Barakat\n",
    "---"
   ]
  },
  {
   "cell_type": "code",
   "execution_count": 33,
   "metadata": {},
   "outputs": [
    {
     "data": {
      "text/html": [
       "<style>div.exercise { background-color: #ffcccc;border-color: #E9967A; border-left: 5px solid #800080; padding: 0.5em;}</style>"
      ],
      "text/plain": [
       "<IPython.core.display.HTML object>"
      ]
     },
     "execution_count": 33,
     "metadata": {},
     "output_type": "execute_result"
    }
   ],
   "source": [
    "from IPython.display import HTML\n",
    "style = \"<style>div.exercise { background-color: #ffcccc;border-color: #E9967A; border-left: 5px solid #800080; padding: 0.5em;}</style>\"\n",
    "HTML(style)"
   ]
  },
  {
   "cell_type": "markdown",
   "metadata": {},
   "source": [
    "# Table of Contents\n",
    "<strong>\n",
    "<ol start=\"1\">\n",
    "  <li> More pandas for data cleaning</li>\n",
    "   <li>Visualization</li>\n",
    "</ol>"
   ]
  },
  {
   "cell_type": "code",
   "execution_count": 34,
   "metadata": {},
   "outputs": [],
   "source": [
    "import pandas as pd\n",
    "import seaborn as sns\n",
    "import matplotlib.pyplot as plt\n",
    "%matplotlib inline\n"
   ]
  },
  {
   "cell_type": "markdown",
   "metadata": {},
   "source": [
    "## Part 1:  More pandas for data cleaning"
   ]
  },
  {
   "cell_type": "markdown",
   "metadata": {},
   "source": [
    "A common type of messy dataset is tabular data designed for presentation, where variables form both the rows and columns, and column headers are values, not variable names."
   ]
  },
  {
   "cell_type": "code",
   "execution_count": 35,
   "metadata": {},
   "outputs": [
    {
     "data": {
      "text/html": [
       "<div>\n",
       "<style scoped>\n",
       "    .dataframe tbody tr th:only-of-type {\n",
       "        vertical-align: middle;\n",
       "    }\n",
       "\n",
       "    .dataframe tbody tr th {\n",
       "        vertical-align: top;\n",
       "    }\n",
       "\n",
       "    .dataframe thead th {\n",
       "        text-align: right;\n",
       "    }\n",
       "</style>\n",
       "<table border=\"1\" class=\"dataframe\">\n",
       "  <thead>\n",
       "    <tr style=\"text-align: right;\">\n",
       "      <th></th>\n",
       "      <th>Day</th>\n",
       "      <th>Chicago</th>\n",
       "      <th>Cairo</th>\n",
       "      <th>Berlin</th>\n",
       "    </tr>\n",
       "  </thead>\n",
       "  <tbody>\n",
       "    <tr>\n",
       "      <th>0</th>\n",
       "      <td>Monday</td>\n",
       "      <td>30</td>\n",
       "      <td>20</td>\n",
       "      <td>25</td>\n",
       "    </tr>\n",
       "    <tr>\n",
       "      <th>1</th>\n",
       "      <td>Tuesday</td>\n",
       "      <td>32</td>\n",
       "      <td>22</td>\n",
       "      <td>27</td>\n",
       "    </tr>\n",
       "    <tr>\n",
       "      <th>2</th>\n",
       "      <td>Wedenesday</td>\n",
       "      <td>36</td>\n",
       "      <td>26</td>\n",
       "      <td>31</td>\n",
       "    </tr>\n",
       "    <tr>\n",
       "      <th>3</th>\n",
       "      <td>Thursday</td>\n",
       "      <td>28</td>\n",
       "      <td>18</td>\n",
       "      <td>23</td>\n",
       "    </tr>\n",
       "    <tr>\n",
       "      <th>4</th>\n",
       "      <td>Friday</td>\n",
       "      <td>30</td>\n",
       "      <td>20</td>\n",
       "      <td>25</td>\n",
       "    </tr>\n",
       "  </tbody>\n",
       "</table>\n",
       "</div>"
      ],
      "text/plain": [
       "          Day  Chicago  Cairo  Berlin\n",
       "0      Monday       30     20      25\n",
       "1     Tuesday       32     22      27\n",
       "2  Wedenesday       36     26      31\n",
       "3    Thursday       28     18      23\n",
       "4      Friday       30     20      25"
      ]
     },
     "execution_count": 35,
     "metadata": {},
     "output_type": "execute_result"
    }
   ],
   "source": [
    "Data=pd.DataFrame({'Day':['Monday','Tuesday','Wedenesday','Thursday','Friday'],\n",
    "                   'Chicago':[30,32,36,28,30],\n",
    "                   'Cairo':[20,22,26,18,20],\n",
    "                   'Berlin':[25,27,31,23,25]})\n",
    "\n",
    "Data"
   ]
  },
  {
   "cell_type": "markdown",
   "metadata": {},
   "source": [
    "We defined a dataframe that represents temperature of some cities, we need to expand this dataframe, so we create useful cols. we can do it using pd.melt"
   ]
  },
  {
   "cell_type": "markdown",
   "metadata": {},
   "source": [
    "### pd.melt\n",
    "[Function Documentation](https://pandas.pydata.org/docs/reference/api/pandas.melt.html)"
   ]
  },
  {
   "cell_type": "code",
   "execution_count": 36,
   "metadata": {},
   "outputs": [
    {
     "data": {
      "text/html": [
       "<div>\n",
       "<style scoped>\n",
       "    .dataframe tbody tr th:only-of-type {\n",
       "        vertical-align: middle;\n",
       "    }\n",
       "\n",
       "    .dataframe tbody tr th {\n",
       "        vertical-align: top;\n",
       "    }\n",
       "\n",
       "    .dataframe thead th {\n",
       "        text-align: right;\n",
       "    }\n",
       "</style>\n",
       "<table border=\"1\" class=\"dataframe\">\n",
       "  <thead>\n",
       "    <tr style=\"text-align: right;\">\n",
       "      <th></th>\n",
       "      <th>Day</th>\n",
       "      <th>variable</th>\n",
       "      <th>value</th>\n",
       "    </tr>\n",
       "  </thead>\n",
       "  <tbody>\n",
       "    <tr>\n",
       "      <th>0</th>\n",
       "      <td>Monday</td>\n",
       "      <td>Chicago</td>\n",
       "      <td>30</td>\n",
       "    </tr>\n",
       "    <tr>\n",
       "      <th>1</th>\n",
       "      <td>Tuesday</td>\n",
       "      <td>Chicago</td>\n",
       "      <td>32</td>\n",
       "    </tr>\n",
       "    <tr>\n",
       "      <th>2</th>\n",
       "      <td>Wedenesday</td>\n",
       "      <td>Chicago</td>\n",
       "      <td>36</td>\n",
       "    </tr>\n",
       "    <tr>\n",
       "      <th>3</th>\n",
       "      <td>Thursday</td>\n",
       "      <td>Chicago</td>\n",
       "      <td>28</td>\n",
       "    </tr>\n",
       "    <tr>\n",
       "      <th>4</th>\n",
       "      <td>Friday</td>\n",
       "      <td>Chicago</td>\n",
       "      <td>30</td>\n",
       "    </tr>\n",
       "    <tr>\n",
       "      <th>5</th>\n",
       "      <td>Monday</td>\n",
       "      <td>Cairo</td>\n",
       "      <td>20</td>\n",
       "    </tr>\n",
       "    <tr>\n",
       "      <th>6</th>\n",
       "      <td>Tuesday</td>\n",
       "      <td>Cairo</td>\n",
       "      <td>22</td>\n",
       "    </tr>\n",
       "    <tr>\n",
       "      <th>7</th>\n",
       "      <td>Wedenesday</td>\n",
       "      <td>Cairo</td>\n",
       "      <td>26</td>\n",
       "    </tr>\n",
       "    <tr>\n",
       "      <th>8</th>\n",
       "      <td>Thursday</td>\n",
       "      <td>Cairo</td>\n",
       "      <td>18</td>\n",
       "    </tr>\n",
       "    <tr>\n",
       "      <th>9</th>\n",
       "      <td>Friday</td>\n",
       "      <td>Cairo</td>\n",
       "      <td>20</td>\n",
       "    </tr>\n",
       "    <tr>\n",
       "      <th>10</th>\n",
       "      <td>Monday</td>\n",
       "      <td>Berlin</td>\n",
       "      <td>25</td>\n",
       "    </tr>\n",
       "    <tr>\n",
       "      <th>11</th>\n",
       "      <td>Tuesday</td>\n",
       "      <td>Berlin</td>\n",
       "      <td>27</td>\n",
       "    </tr>\n",
       "    <tr>\n",
       "      <th>12</th>\n",
       "      <td>Wedenesday</td>\n",
       "      <td>Berlin</td>\n",
       "      <td>31</td>\n",
       "    </tr>\n",
       "    <tr>\n",
       "      <th>13</th>\n",
       "      <td>Thursday</td>\n",
       "      <td>Berlin</td>\n",
       "      <td>23</td>\n",
       "    </tr>\n",
       "    <tr>\n",
       "      <th>14</th>\n",
       "      <td>Friday</td>\n",
       "      <td>Berlin</td>\n",
       "      <td>25</td>\n",
       "    </tr>\n",
       "  </tbody>\n",
       "</table>\n",
       "</div>"
      ],
      "text/plain": [
       "           Day variable  value\n",
       "0       Monday  Chicago     30\n",
       "1      Tuesday  Chicago     32\n",
       "2   Wedenesday  Chicago     36\n",
       "3     Thursday  Chicago     28\n",
       "4       Friday  Chicago     30\n",
       "5       Monday    Cairo     20\n",
       "6      Tuesday    Cairo     22\n",
       "7   Wedenesday    Cairo     26\n",
       "8     Thursday    Cairo     18\n",
       "9       Friday    Cairo     20\n",
       "10      Monday   Berlin     25\n",
       "11     Tuesday   Berlin     27\n",
       "12  Wedenesday   Berlin     31\n",
       "13    Thursday   Berlin     23\n",
       "14      Friday   Berlin     25"
      ]
     },
     "execution_count": 36,
     "metadata": {},
     "output_type": "execute_result"
    }
   ],
   "source": [
    "## id_vars use a column as an identifer\n",
    "pd.melt(Data,id_vars=['Day'])"
   ]
  },
  {
   "cell_type": "code",
   "execution_count": 37,
   "metadata": {},
   "outputs": [
    {
     "data": {
      "text/html": [
       "<div>\n",
       "<style scoped>\n",
       "    .dataframe tbody tr th:only-of-type {\n",
       "        vertical-align: middle;\n",
       "    }\n",
       "\n",
       "    .dataframe tbody tr th {\n",
       "        vertical-align: top;\n",
       "    }\n",
       "\n",
       "    .dataframe thead th {\n",
       "        text-align: right;\n",
       "    }\n",
       "</style>\n",
       "<table border=\"1\" class=\"dataframe\">\n",
       "  <thead>\n",
       "    <tr style=\"text-align: right;\">\n",
       "      <th></th>\n",
       "      <th>Day</th>\n",
       "      <th>Cities</th>\n",
       "      <th>Temperature</th>\n",
       "    </tr>\n",
       "  </thead>\n",
       "  <tbody>\n",
       "    <tr>\n",
       "      <th>0</th>\n",
       "      <td>Monday</td>\n",
       "      <td>Chicago</td>\n",
       "      <td>30</td>\n",
       "    </tr>\n",
       "    <tr>\n",
       "      <th>1</th>\n",
       "      <td>Tuesday</td>\n",
       "      <td>Chicago</td>\n",
       "      <td>32</td>\n",
       "    </tr>\n",
       "    <tr>\n",
       "      <th>2</th>\n",
       "      <td>Wedenesday</td>\n",
       "      <td>Chicago</td>\n",
       "      <td>36</td>\n",
       "    </tr>\n",
       "    <tr>\n",
       "      <th>3</th>\n",
       "      <td>Thursday</td>\n",
       "      <td>Chicago</td>\n",
       "      <td>28</td>\n",
       "    </tr>\n",
       "    <tr>\n",
       "      <th>4</th>\n",
       "      <td>Friday</td>\n",
       "      <td>Chicago</td>\n",
       "      <td>30</td>\n",
       "    </tr>\n",
       "    <tr>\n",
       "      <th>5</th>\n",
       "      <td>Monday</td>\n",
       "      <td>Cairo</td>\n",
       "      <td>20</td>\n",
       "    </tr>\n",
       "    <tr>\n",
       "      <th>6</th>\n",
       "      <td>Tuesday</td>\n",
       "      <td>Cairo</td>\n",
       "      <td>22</td>\n",
       "    </tr>\n",
       "    <tr>\n",
       "      <th>7</th>\n",
       "      <td>Wedenesday</td>\n",
       "      <td>Cairo</td>\n",
       "      <td>26</td>\n",
       "    </tr>\n",
       "    <tr>\n",
       "      <th>8</th>\n",
       "      <td>Thursday</td>\n",
       "      <td>Cairo</td>\n",
       "      <td>18</td>\n",
       "    </tr>\n",
       "    <tr>\n",
       "      <th>9</th>\n",
       "      <td>Friday</td>\n",
       "      <td>Cairo</td>\n",
       "      <td>20</td>\n",
       "    </tr>\n",
       "    <tr>\n",
       "      <th>10</th>\n",
       "      <td>Monday</td>\n",
       "      <td>Berlin</td>\n",
       "      <td>25</td>\n",
       "    </tr>\n",
       "    <tr>\n",
       "      <th>11</th>\n",
       "      <td>Tuesday</td>\n",
       "      <td>Berlin</td>\n",
       "      <td>27</td>\n",
       "    </tr>\n",
       "    <tr>\n",
       "      <th>12</th>\n",
       "      <td>Wedenesday</td>\n",
       "      <td>Berlin</td>\n",
       "      <td>31</td>\n",
       "    </tr>\n",
       "    <tr>\n",
       "      <th>13</th>\n",
       "      <td>Thursday</td>\n",
       "      <td>Berlin</td>\n",
       "      <td>23</td>\n",
       "    </tr>\n",
       "    <tr>\n",
       "      <th>14</th>\n",
       "      <td>Friday</td>\n",
       "      <td>Berlin</td>\n",
       "      <td>25</td>\n",
       "    </tr>\n",
       "  </tbody>\n",
       "</table>\n",
       "</div>"
      ],
      "text/plain": [
       "           Day   Cities  Temperature\n",
       "0       Monday  Chicago           30\n",
       "1      Tuesday  Chicago           32\n",
       "2   Wedenesday  Chicago           36\n",
       "3     Thursday  Chicago           28\n",
       "4       Friday  Chicago           30\n",
       "5       Monday    Cairo           20\n",
       "6      Tuesday    Cairo           22\n",
       "7   Wedenesday    Cairo           26\n",
       "8     Thursday    Cairo           18\n",
       "9       Friday    Cairo           20\n",
       "10      Monday   Berlin           25\n",
       "11     Tuesday   Berlin           27\n",
       "12  Wedenesday   Berlin           31\n",
       "13    Thursday   Berlin           23\n",
       "14      Friday   Berlin           25"
      ]
     },
     "execution_count": 37,
     "metadata": {},
     "output_type": "execute_result"
    }
   ],
   "source": [
    "pd.melt(Data,id_vars=['Day'],var_name='Cities',value_name='Temperature')"
   ]
  },
  {
   "cell_type": "code",
   "execution_count": 38,
   "metadata": {},
   "outputs": [
    {
     "data": {
      "text/html": [
       "<div>\n",
       "<style scoped>\n",
       "    .dataframe tbody tr th:only-of-type {\n",
       "        vertical-align: middle;\n",
       "    }\n",
       "\n",
       "    .dataframe tbody tr th {\n",
       "        vertical-align: top;\n",
       "    }\n",
       "\n",
       "    .dataframe thead th {\n",
       "        text-align: right;\n",
       "    }\n",
       "</style>\n",
       "<table border=\"1\" class=\"dataframe\">\n",
       "  <thead>\n",
       "    <tr style=\"text-align: right;\">\n",
       "      <th></th>\n",
       "      <th>Day</th>\n",
       "      <th>variable</th>\n",
       "      <th>value</th>\n",
       "    </tr>\n",
       "  </thead>\n",
       "  <tbody>\n",
       "    <tr>\n",
       "      <th>0</th>\n",
       "      <td>Monday</td>\n",
       "      <td>Chicago</td>\n",
       "      <td>30</td>\n",
       "    </tr>\n",
       "    <tr>\n",
       "      <th>1</th>\n",
       "      <td>Tuesday</td>\n",
       "      <td>Chicago</td>\n",
       "      <td>32</td>\n",
       "    </tr>\n",
       "    <tr>\n",
       "      <th>2</th>\n",
       "      <td>Wedenesday</td>\n",
       "      <td>Chicago</td>\n",
       "      <td>36</td>\n",
       "    </tr>\n",
       "    <tr>\n",
       "      <th>3</th>\n",
       "      <td>Thursday</td>\n",
       "      <td>Chicago</td>\n",
       "      <td>28</td>\n",
       "    </tr>\n",
       "    <tr>\n",
       "      <th>4</th>\n",
       "      <td>Friday</td>\n",
       "      <td>Chicago</td>\n",
       "      <td>30</td>\n",
       "    </tr>\n",
       "    <tr>\n",
       "      <th>5</th>\n",
       "      <td>Monday</td>\n",
       "      <td>Cairo</td>\n",
       "      <td>20</td>\n",
       "    </tr>\n",
       "    <tr>\n",
       "      <th>6</th>\n",
       "      <td>Tuesday</td>\n",
       "      <td>Cairo</td>\n",
       "      <td>22</td>\n",
       "    </tr>\n",
       "    <tr>\n",
       "      <th>7</th>\n",
       "      <td>Wedenesday</td>\n",
       "      <td>Cairo</td>\n",
       "      <td>26</td>\n",
       "    </tr>\n",
       "    <tr>\n",
       "      <th>8</th>\n",
       "      <td>Thursday</td>\n",
       "      <td>Cairo</td>\n",
       "      <td>18</td>\n",
       "    </tr>\n",
       "    <tr>\n",
       "      <th>9</th>\n",
       "      <td>Friday</td>\n",
       "      <td>Cairo</td>\n",
       "      <td>20</td>\n",
       "    </tr>\n",
       "  </tbody>\n",
       "</table>\n",
       "</div>"
      ],
      "text/plain": [
       "          Day variable  value\n",
       "0      Monday  Chicago     30\n",
       "1     Tuesday  Chicago     32\n",
       "2  Wedenesday  Chicago     36\n",
       "3    Thursday  Chicago     28\n",
       "4      Friday  Chicago     30\n",
       "5      Monday    Cairo     20\n",
       "6     Tuesday    Cairo     22\n",
       "7  Wedenesday    Cairo     26\n",
       "8    Thursday    Cairo     18\n",
       "9      Friday    Cairo     20"
      ]
     },
     "execution_count": 38,
     "metadata": {},
     "output_type": "execute_result"
    }
   ],
   "source": [
    "## We can specify the objects (varaiables) we are interested on using value_vars\n",
    "pd.melt(Data,id_vars=['Day'],value_vars=['Chicago','Cairo'])"
   ]
  },
  {
   "cell_type": "markdown",
   "metadata": {},
   "source": [
    "### Discretization and Binning"
   ]
  },
  {
   "cell_type": "markdown",
   "metadata": {},
   "source": [
    "Some times,it is better to separate your data into ranges, so you can discover patterns in your data, or you need to analyze specific part of you data"
   ]
  },
  {
   "cell_type": "markdown",
   "metadata": {},
   "source": [
    "### pd.cut\n",
    "Pandas allow us to  segregate array elements into separate bins"
   ]
  },
  {
   "cell_type": "markdown",
   "metadata": {},
   "source": [
    "[Function Documentation](https://pandas.pydata.org/docs/reference/api/pandas.cut.html)"
   ]
  },
  {
   "cell_type": "code",
   "execution_count": 39,
   "metadata": {},
   "outputs": [
    {
     "data": {
      "text/plain": [
       "8     18\n",
       "5     20\n",
       "9     20\n",
       "6     22\n",
       "13    23\n",
       "10    25\n",
       "14    25\n",
       "7     26\n",
       "11    27\n",
       "3     28\n",
       "0     30\n",
       "4     30\n",
       "12    31\n",
       "1     32\n",
       "2     36\n",
       "Name: Temperature, dtype: int64"
      ]
     },
     "execution_count": 39,
     "metadata": {},
     "output_type": "execute_result"
    }
   ],
   "source": [
    "## Sorting our data after reshaping it\n",
    "newData=pd.melt(Data,id_vars=['Day'],var_name='Cities',value_name='Temperature')\n",
    "newData['Temperature'].sort_values()"
   ]
  },
  {
   "cell_type": "code",
   "execution_count": 40,
   "metadata": {},
   "outputs": [
    {
     "data": {
      "text/plain": [
       "0     (25, 36]\n",
       "1     (25, 36]\n",
       "2     (25, 36]\n",
       "3     (25, 36]\n",
       "4     (25, 36]\n",
       "5     (16, 25]\n",
       "6     (16, 25]\n",
       "7     (25, 36]\n",
       "8     (16, 25]\n",
       "9     (16, 25]\n",
       "10    (16, 25]\n",
       "11    (25, 36]\n",
       "12    (25, 36]\n",
       "13    (16, 25]\n",
       "14    (16, 25]\n",
       "Name: Temperature, dtype: category\n",
       "Categories (2, interval[int64, right]): [(16, 25] < (25, 36]]"
      ]
     },
     "execution_count": 40,
     "metadata": {},
     "output_type": "execute_result"
    }
   ],
   "source": [
    "# Cutting data into 3 bins based on the temperature\n",
    "bins = [16, 25, 36]\n",
    "pd.cut(newData['Temperature'], bins)"
   ]
  },
  {
   "cell_type": "code",
   "execution_count": 41,
   "metadata": {},
   "outputs": [
    {
     "data": {
      "text/plain": [
       "0     (25.0, 35.0]\n",
       "1     (25.0, 35.0]\n",
       "2              NaN\n",
       "3     (25.0, 35.0]\n",
       "4     (25.0, 35.0]\n",
       "5              NaN\n",
       "6     (20.0, 25.0]\n",
       "7     (25.0, 35.0]\n",
       "8              NaN\n",
       "9              NaN\n",
       "10    (20.0, 25.0]\n",
       "11    (25.0, 35.0]\n",
       "12    (25.0, 35.0]\n",
       "13    (20.0, 25.0]\n",
       "14    (20.0, 25.0]\n",
       "Name: Temperature, dtype: category\n",
       "Categories (2, interval[int64, right]): [(20, 25] < (25, 35]]"
      ]
     },
     "execution_count": 41,
     "metadata": {},
     "output_type": "execute_result"
    }
   ],
   "source": [
    "# Note that if a number is not in range of the bins, it will return nan\n",
    "bins = [20, 25, 35]\n",
    "pd.cut(newData['Temperature'], bins)"
   ]
  },
  {
   "cell_type": "markdown",
   "metadata": {},
   "source": [
    "### Aggregation\n",
    "An essential piece of analysis of large data is efficient summarization: computing aggregations like sum(), mean(), median(), min(), and max(), in which a single number gives insight into the nature of a potentially large dataset."
   ]
  },
  {
   "cell_type": "markdown",
   "metadata": {},
   "source": [
    "### built-in Pandas aggregations\n",
    "**count()**     Total number of items <br>\n",
    "**first()** **last()** \tFirst and last item<br>\n",
    "**mean()**, **median()** \tMean and median<br>\n",
    "**min(), max()** \tMinimum and maximum<br>\n",
    "**std(), var()** \tStandard deviation and variance<br>\n",
    "**mad()** \tMean absolute deviation<br>\n",
    "**prod()** \tProduct of all items<br>\n",
    "**sum()** \tSum of all items<br>"
   ]
  },
  {
   "cell_type": "code",
   "execution_count": 42,
   "metadata": {},
   "outputs": [
    {
     "data": {
      "text/html": [
       "<div>\n",
       "<style scoped>\n",
       "    .dataframe tbody tr th:only-of-type {\n",
       "        vertical-align: middle;\n",
       "    }\n",
       "\n",
       "    .dataframe tbody tr th {\n",
       "        vertical-align: top;\n",
       "    }\n",
       "\n",
       "    .dataframe thead th {\n",
       "        text-align: right;\n",
       "    }\n",
       "</style>\n",
       "<table border=\"1\" class=\"dataframe\">\n",
       "  <thead>\n",
       "    <tr style=\"text-align: right;\">\n",
       "      <th></th>\n",
       "      <th>Temperature</th>\n",
       "    </tr>\n",
       "  </thead>\n",
       "  <tbody>\n",
       "    <tr>\n",
       "      <th>count</th>\n",
       "      <td>15.000000</td>\n",
       "    </tr>\n",
       "    <tr>\n",
       "      <th>mean</th>\n",
       "      <td>26.200000</td>\n",
       "    </tr>\n",
       "    <tr>\n",
       "      <th>std</th>\n",
       "      <td>5.073742</td>\n",
       "    </tr>\n",
       "    <tr>\n",
       "      <th>min</th>\n",
       "      <td>18.000000</td>\n",
       "    </tr>\n",
       "    <tr>\n",
       "      <th>25%</th>\n",
       "      <td>22.500000</td>\n",
       "    </tr>\n",
       "    <tr>\n",
       "      <th>50%</th>\n",
       "      <td>26.000000</td>\n",
       "    </tr>\n",
       "    <tr>\n",
       "      <th>75%</th>\n",
       "      <td>30.000000</td>\n",
       "    </tr>\n",
       "    <tr>\n",
       "      <th>max</th>\n",
       "      <td>36.000000</td>\n",
       "    </tr>\n",
       "  </tbody>\n",
       "</table>\n",
       "</div>"
      ],
      "text/plain": [
       "       Temperature\n",
       "count    15.000000\n",
       "mean     26.200000\n",
       "std       5.073742\n",
       "min      18.000000\n",
       "25%      22.500000\n",
       "50%      26.000000\n",
       "75%      30.000000\n",
       "max      36.000000"
      ]
     },
     "execution_count": 42,
     "metadata": {},
     "output_type": "execute_result"
    }
   ],
   "source": [
    "newData.describe()"
   ]
  },
  {
   "cell_type": "code",
   "execution_count": 43,
   "metadata": {},
   "outputs": [
    {
     "data": {
      "text/plain": [
       "(26.2, 18, 36)"
      ]
     },
     "execution_count": 43,
     "metadata": {},
     "output_type": "execute_result"
    }
   ],
   "source": [
    "newData['Temperature'].mean(),newData['Temperature'].min(),newData['Temperature'].max()"
   ]
  },
  {
   "cell_type": "markdown",
   "metadata": {},
   "source": [
    "## Group by"
   ]
  },
  {
   "cell_type": "markdown",
   "metadata": {},
   "source": [
    "\n",
    "### GroupBy: Split, Apply, Combine¶\n",
    "\n",
    "Simple aggregations can give you a flavor of your dataset, but often we would prefer to aggregate conditionally on some label or index: this is implemented in the so-called groupby operation. The name \"group by\" comes from a command in the SQL database language.\n"
   ]
  },
  {
   "cell_type": "markdown",
   "metadata": {},
   "source": [
    "Group by steps <br>\n",
    "\n",
    "The split step involves breaking up and grouping a DataFrame depending on the value of the specified key.\n",
    "The apply step involves computing some function, usually an aggregate, transformation, or filtering, within the individual groups.\n",
    "The combine step merges the results of these operations into an output array.\n"
   ]
  },
  {
   "cell_type": "markdown",
   "metadata": {},
   "source": [
    "[Function Documentation](https://pandas.pydata.org/docs/reference/api/pandas.DataFrame.groupby.html)"
   ]
  },
  {
   "cell_type": "code",
   "execution_count": 44,
   "metadata": {},
   "outputs": [
    {
     "data": {
      "text/html": [
       "<div>\n",
       "<style scoped>\n",
       "    .dataframe tbody tr th:only-of-type {\n",
       "        vertical-align: middle;\n",
       "    }\n",
       "\n",
       "    .dataframe tbody tr th {\n",
       "        vertical-align: top;\n",
       "    }\n",
       "\n",
       "    .dataframe thead th {\n",
       "        text-align: right;\n",
       "    }\n",
       "</style>\n",
       "<table border=\"1\" class=\"dataframe\">\n",
       "  <thead>\n",
       "    <tr style=\"text-align: right;\">\n",
       "      <th></th>\n",
       "      <th>key</th>\n",
       "      <th>data1</th>\n",
       "      <th>data2</th>\n",
       "    </tr>\n",
       "  </thead>\n",
       "  <tbody>\n",
       "    <tr>\n",
       "      <th>0</th>\n",
       "      <td>A</td>\n",
       "      <td>0</td>\n",
       "      <td>2</td>\n",
       "    </tr>\n",
       "    <tr>\n",
       "      <th>1</th>\n",
       "      <td>B</td>\n",
       "      <td>1</td>\n",
       "      <td>5</td>\n",
       "    </tr>\n",
       "    <tr>\n",
       "      <th>2</th>\n",
       "      <td>C</td>\n",
       "      <td>2</td>\n",
       "      <td>7</td>\n",
       "    </tr>\n",
       "    <tr>\n",
       "      <th>3</th>\n",
       "      <td>A</td>\n",
       "      <td>3</td>\n",
       "      <td>12</td>\n",
       "    </tr>\n",
       "    <tr>\n",
       "      <th>4</th>\n",
       "      <td>B</td>\n",
       "      <td>4</td>\n",
       "      <td>16</td>\n",
       "    </tr>\n",
       "    <tr>\n",
       "      <th>5</th>\n",
       "      <td>C</td>\n",
       "      <td>5</td>\n",
       "      <td>20</td>\n",
       "    </tr>\n",
       "  </tbody>\n",
       "</table>\n",
       "</div>"
      ],
      "text/plain": [
       "  key  data1  data2\n",
       "0   A      0      2\n",
       "1   B      1      5\n",
       "2   C      2      7\n",
       "3   A      3     12\n",
       "4   B      4     16\n",
       "5   C      5     20"
      ]
     },
     "execution_count": 44,
     "metadata": {},
     "output_type": "execute_result"
    }
   ],
   "source": [
    "# Creating a data\n",
    "df = pd.DataFrame({'key': ['A', 'B', 'C', 'A', 'B', 'C'],\n",
    "                'data1': range(6),'data2':[2,5,7,12,16,20]}, columns=['key', 'data1','data2'])\n",
    "df"
   ]
  },
  {
   "cell_type": "code",
   "execution_count": 45,
   "metadata": {},
   "outputs": [
    {
     "data": {
      "text/plain": [
       "<pandas.core.groupby.generic.DataFrameGroupBy object at 0x00000157FD7EF730>"
      ]
     },
     "execution_count": 45,
     "metadata": {},
     "output_type": "execute_result"
    }
   ],
   "source": [
    "df.groupby('key')"
   ]
  },
  {
   "cell_type": "markdown",
   "metadata": {},
   "source": [
    "The GroupBy object is a very flexible abstraction. In many ways, you can simply treat it as if it's a collection of DataFrames, and it does the difficult things under the hood. Let's see some examples using the Planets data."
   ]
  },
  {
   "cell_type": "code",
   "execution_count": 46,
   "metadata": {},
   "outputs": [
    {
     "data": {
      "text/html": [
       "<div>\n",
       "<style scoped>\n",
       "    .dataframe tbody tr th:only-of-type {\n",
       "        vertical-align: middle;\n",
       "    }\n",
       "\n",
       "    .dataframe tbody tr th {\n",
       "        vertical-align: top;\n",
       "    }\n",
       "\n",
       "    .dataframe thead th {\n",
       "        text-align: right;\n",
       "    }\n",
       "</style>\n",
       "<table border=\"1\" class=\"dataframe\">\n",
       "  <thead>\n",
       "    <tr style=\"text-align: right;\">\n",
       "      <th></th>\n",
       "      <th>data1</th>\n",
       "      <th>data2</th>\n",
       "    </tr>\n",
       "    <tr>\n",
       "      <th>key</th>\n",
       "      <th></th>\n",
       "      <th></th>\n",
       "    </tr>\n",
       "  </thead>\n",
       "  <tbody>\n",
       "    <tr>\n",
       "      <th>A</th>\n",
       "      <td>1.5</td>\n",
       "      <td>7.0</td>\n",
       "    </tr>\n",
       "    <tr>\n",
       "      <th>B</th>\n",
       "      <td>2.5</td>\n",
       "      <td>10.5</td>\n",
       "    </tr>\n",
       "    <tr>\n",
       "      <th>C</th>\n",
       "      <td>3.5</td>\n",
       "      <td>13.5</td>\n",
       "    </tr>\n",
       "  </tbody>\n",
       "</table>\n",
       "</div>"
      ],
      "text/plain": [
       "     data1  data2\n",
       "key              \n",
       "A      1.5    7.0\n",
       "B      2.5   10.5\n",
       "C      3.5   13.5"
      ]
     },
     "execution_count": 46,
     "metadata": {},
     "output_type": "execute_result"
    }
   ],
   "source": [
    "# Gropping then getting the Average of each key values\n",
    "df.groupby('key').mean()"
   ]
  },
  {
   "cell_type": "code",
   "execution_count": 47,
   "metadata": {},
   "outputs": [
    {
     "data": {
      "text/html": [
       "<div>\n",
       "<style scoped>\n",
       "    .dataframe tbody tr th:only-of-type {\n",
       "        vertical-align: middle;\n",
       "    }\n",
       "\n",
       "    .dataframe tbody tr th {\n",
       "        vertical-align: top;\n",
       "    }\n",
       "\n",
       "    .dataframe thead th {\n",
       "        text-align: right;\n",
       "    }\n",
       "</style>\n",
       "<table border=\"1\" class=\"dataframe\">\n",
       "  <thead>\n",
       "    <tr style=\"text-align: right;\">\n",
       "      <th></th>\n",
       "      <th>data1</th>\n",
       "    </tr>\n",
       "    <tr>\n",
       "      <th>key</th>\n",
       "      <th></th>\n",
       "    </tr>\n",
       "  </thead>\n",
       "  <tbody>\n",
       "    <tr>\n",
       "      <th>A</th>\n",
       "      <td>1.5</td>\n",
       "    </tr>\n",
       "    <tr>\n",
       "      <th>B</th>\n",
       "      <td>2.5</td>\n",
       "    </tr>\n",
       "    <tr>\n",
       "      <th>C</th>\n",
       "      <td>3.5</td>\n",
       "    </tr>\n",
       "  </tbody>\n",
       "</table>\n",
       "</div>"
      ],
      "text/plain": [
       "     data1\n",
       "key       \n",
       "A      1.5\n",
       "B      2.5\n",
       "C      3.5"
      ]
     },
     "execution_count": 47,
     "metadata": {},
     "output_type": "execute_result"
    }
   ],
   "source": [
    "# Specify single column\n",
    "df.groupby('key')[['data1']].mean()"
   ]
  },
  {
   "cell_type": "code",
   "execution_count": 48,
   "metadata": {},
   "outputs": [
    {
     "data": {
      "text/html": [
       "<div>\n",
       "<style scoped>\n",
       "    .dataframe tbody tr th:only-of-type {\n",
       "        vertical-align: middle;\n",
       "    }\n",
       "\n",
       "    .dataframe tbody tr th {\n",
       "        vertical-align: top;\n",
       "    }\n",
       "\n",
       "    .dataframe thead th {\n",
       "        text-align: right;\n",
       "    }\n",
       "</style>\n",
       "<table border=\"1\" class=\"dataframe\">\n",
       "  <thead>\n",
       "    <tr style=\"text-align: right;\">\n",
       "      <th></th>\n",
       "      <th>data1</th>\n",
       "      <th>data2</th>\n",
       "    </tr>\n",
       "    <tr>\n",
       "      <th>key</th>\n",
       "      <th></th>\n",
       "      <th></th>\n",
       "    </tr>\n",
       "  </thead>\n",
       "  <tbody>\n",
       "    <tr>\n",
       "      <th>A</th>\n",
       "      <td>0</td>\n",
       "      <td>12</td>\n",
       "    </tr>\n",
       "    <tr>\n",
       "      <th>B</th>\n",
       "      <td>1</td>\n",
       "      <td>16</td>\n",
       "    </tr>\n",
       "    <tr>\n",
       "      <th>C</th>\n",
       "      <td>2</td>\n",
       "      <td>20</td>\n",
       "    </tr>\n",
       "  </tbody>\n",
       "</table>\n",
       "</div>"
      ],
      "text/plain": [
       "     data1  data2\n",
       "key              \n",
       "A        0     12\n",
       "B        1     16\n",
       "C        2     20"
      ]
     },
     "execution_count": 48,
     "metadata": {},
     "output_type": "execute_result"
    }
   ],
   "source": [
    "# Gropping then getting the Different attributes for cols of each key values\n",
    "df.groupby('key').aggregate({'data1': 'min',\n",
    "                             'data2': 'max'})"
   ]
  },
  {
   "cell_type": "markdown",
   "metadata": {},
   "source": [
    "## Part 2:  Visualization"
   ]
  },
  {
   "cell_type": "markdown",
   "metadata": {},
   "source": [
    "There are many different libraries in python that can be used in visualization, some of them :"
   ]
  },
  {
   "cell_type": "markdown",
   "metadata": {},
   "source": [
    "**Matplotlib**\n",
    "\n",
    "Matplotlib is a visualization library in Python for 2D plots of arrays. Matplotlib is written in Python and makes use of the NumPy library. It can be used in Python and IPython shells, Jupyter notebook, and web application servers. Matplotlib comes with a wide variety of plots like line, bar, scatter, histogram, etc. which can help us, deep-dive, into understanding trends, patterns, correlations. It was introduced by John Hunter in 2002.\n",
    "Seaborn\n",
    "\n",
    "**Seaborn** is a dataset-oriented library for making statistical representations in Python. It is developed atop matplotlib and to create different visualizations. It is integrated with pandas data structures. The library internally performs the required mapping and aggregation to create informative visuals It is recommended to use a Jupyter/IPython interface in matplotlib mode.\n",
    "Bokeh\n",
    "\n",
    "**Bokeh** is an interactive visualization library for modern web browsers. It is suitable for large or streaming data assets and can be used to develop interactive plots and dashboards. There is a wide array of intuitive graphs in the library which can be leveraged to develop solutions. It works closely with PyData tools. The library is well-suited for creating customized visuals according to required use-cases. The visuals can also be made interactive to serve a what-if scenario model. All the codes are open source and available on GitHub.\n",
    "Altair\n",
    "\n",
    "**Altair** is a declarative statistical visualization library for Python. Altair’s API is user-friendly and consistent and built atop Vega-Lite JSON specification. Declarative library indicates that while creating any visuals, we need to define the links between the data columns to the channels (x-axis, y-axis, size, color). With the help of Altair, it is possible to create informative visuals with minimal code. Altair holds a declarative grammar of both visualization and interaction.\n",
    "\n",
    " \n",
    "**plotly**\n",
    "\n",
    "plotly.py is an interactive, open-source, high-level, declarative, and browser-based visualization library for Python. It holds an array of useful visualization which includes scientific charts, 3D graphs, statistical charts, financial charts among others. Plotly graphs can be viewed in Jupyter notebooks, standalone HTML files, or hosted online. Plotly library provides options for interaction and editing. The robust API works perfectly in both local and web browser mode.\n",
    "\n",
    " \n",
    "**ggplot**\n",
    "\n",
    "ggplot is a Python implementation of the grammar of graphics. The Grammar of Graphics refers to the mapping of data to aesthetic attributes (colour, shape, size) and geometric objects (points, lines, bars). The basic building blocks according to the grammar of graphics are data, geom (geometric objects), stats (statistical transformations), scale, coordinate system, and facet.\n",
    "\n",
    "Using ggplot in Python allows you to develop informative visualizations incrementally, understanding the nuances of the data first, and then tuning the components to improve the visual representations."
   ]
  },
  {
   "cell_type": "markdown",
   "metadata": {},
   "source": [
    "### Some visualization types\n",
    "\n",
    "**1D**\n",
    ">bar chart <br>\n",
    ">pie chart<br>\n",
    ">histogram<br>\n",
    "\n",
    "**2D** \n",
    ">scatter plot<br>\n",
    ">line plot<br>\n",
    ">box and whisker plot<br>\n",
    ">heatmap"
   ]
  },
  {
   "cell_type": "markdown",
   "metadata": {},
   "source": [
    "### Let's draw some plots\n",
    "We will use a dataset from seaborn librarby"
   ]
  },
  {
   "cell_type": "code",
   "execution_count": 49,
   "metadata": {},
   "outputs": [
    {
     "data": {
      "text/html": [
       "<div>\n",
       "<style scoped>\n",
       "    .dataframe tbody tr th:only-of-type {\n",
       "        vertical-align: middle;\n",
       "    }\n",
       "\n",
       "    .dataframe tbody tr th {\n",
       "        vertical-align: top;\n",
       "    }\n",
       "\n",
       "    .dataframe thead th {\n",
       "        text-align: right;\n",
       "    }\n",
       "</style>\n",
       "<table border=\"1\" class=\"dataframe\">\n",
       "  <thead>\n",
       "    <tr style=\"text-align: right;\">\n",
       "      <th></th>\n",
       "      <th>survived</th>\n",
       "      <th>pclass</th>\n",
       "      <th>sex</th>\n",
       "      <th>age</th>\n",
       "      <th>sibsp</th>\n",
       "      <th>parch</th>\n",
       "      <th>fare</th>\n",
       "      <th>embarked</th>\n",
       "      <th>class</th>\n",
       "      <th>who</th>\n",
       "      <th>adult_male</th>\n",
       "      <th>deck</th>\n",
       "      <th>embark_town</th>\n",
       "      <th>alive</th>\n",
       "      <th>alone</th>\n",
       "    </tr>\n",
       "  </thead>\n",
       "  <tbody>\n",
       "    <tr>\n",
       "      <th>0</th>\n",
       "      <td>0</td>\n",
       "      <td>3</td>\n",
       "      <td>male</td>\n",
       "      <td>22.0</td>\n",
       "      <td>1</td>\n",
       "      <td>0</td>\n",
       "      <td>7.2500</td>\n",
       "      <td>S</td>\n",
       "      <td>Third</td>\n",
       "      <td>man</td>\n",
       "      <td>True</td>\n",
       "      <td>NaN</td>\n",
       "      <td>Southampton</td>\n",
       "      <td>no</td>\n",
       "      <td>False</td>\n",
       "    </tr>\n",
       "    <tr>\n",
       "      <th>1</th>\n",
       "      <td>1</td>\n",
       "      <td>1</td>\n",
       "      <td>female</td>\n",
       "      <td>38.0</td>\n",
       "      <td>1</td>\n",
       "      <td>0</td>\n",
       "      <td>71.2833</td>\n",
       "      <td>C</td>\n",
       "      <td>First</td>\n",
       "      <td>woman</td>\n",
       "      <td>False</td>\n",
       "      <td>C</td>\n",
       "      <td>Cherbourg</td>\n",
       "      <td>yes</td>\n",
       "      <td>False</td>\n",
       "    </tr>\n",
       "    <tr>\n",
       "      <th>2</th>\n",
       "      <td>1</td>\n",
       "      <td>3</td>\n",
       "      <td>female</td>\n",
       "      <td>26.0</td>\n",
       "      <td>0</td>\n",
       "      <td>0</td>\n",
       "      <td>7.9250</td>\n",
       "      <td>S</td>\n",
       "      <td>Third</td>\n",
       "      <td>woman</td>\n",
       "      <td>False</td>\n",
       "      <td>NaN</td>\n",
       "      <td>Southampton</td>\n",
       "      <td>yes</td>\n",
       "      <td>True</td>\n",
       "    </tr>\n",
       "    <tr>\n",
       "      <th>3</th>\n",
       "      <td>1</td>\n",
       "      <td>1</td>\n",
       "      <td>female</td>\n",
       "      <td>35.0</td>\n",
       "      <td>1</td>\n",
       "      <td>0</td>\n",
       "      <td>53.1000</td>\n",
       "      <td>S</td>\n",
       "      <td>First</td>\n",
       "      <td>woman</td>\n",
       "      <td>False</td>\n",
       "      <td>C</td>\n",
       "      <td>Southampton</td>\n",
       "      <td>yes</td>\n",
       "      <td>False</td>\n",
       "    </tr>\n",
       "    <tr>\n",
       "      <th>4</th>\n",
       "      <td>0</td>\n",
       "      <td>3</td>\n",
       "      <td>male</td>\n",
       "      <td>35.0</td>\n",
       "      <td>0</td>\n",
       "      <td>0</td>\n",
       "      <td>8.0500</td>\n",
       "      <td>S</td>\n",
       "      <td>Third</td>\n",
       "      <td>man</td>\n",
       "      <td>True</td>\n",
       "      <td>NaN</td>\n",
       "      <td>Southampton</td>\n",
       "      <td>no</td>\n",
       "      <td>True</td>\n",
       "    </tr>\n",
       "  </tbody>\n",
       "</table>\n",
       "</div>"
      ],
      "text/plain": [
       "   survived  pclass     sex   age  sibsp  parch     fare embarked  class  \\\n",
       "0         0       3    male  22.0      1      0   7.2500        S  Third   \n",
       "1         1       1  female  38.0      1      0  71.2833        C  First   \n",
       "2         1       3  female  26.0      0      0   7.9250        S  Third   \n",
       "3         1       1  female  35.0      1      0  53.1000        S  First   \n",
       "4         0       3    male  35.0      0      0   8.0500        S  Third   \n",
       "\n",
       "     who  adult_male deck  embark_town alive  alone  \n",
       "0    man        True  NaN  Southampton    no  False  \n",
       "1  woman       False    C    Cherbourg   yes  False  \n",
       "2  woman       False  NaN  Southampton   yes   True  \n",
       "3  woman       False    C  Southampton   yes  False  \n",
       "4    man        True  NaN  Southampton    no   True  "
      ]
     },
     "execution_count": 49,
     "metadata": {},
     "output_type": "execute_result"
    }
   ],
   "source": [
    "#Creating the dataset\n",
    "df = sns.load_dataset('titanic') \n",
    "df.head()"
   ]
  },
  {
   "cell_type": "code",
   "execution_count": 50,
   "metadata": {},
   "outputs": [
    {
     "data": {
      "text/plain": [
       "(891, 15)"
      ]
     },
     "execution_count": 50,
     "metadata": {},
     "output_type": "execute_result"
    }
   ],
   "source": [
    "df.shape"
   ]
  },
  {
   "cell_type": "code",
   "execution_count": 51,
   "metadata": {},
   "outputs": [
    {
     "data": {
      "text/html": [
       "<div>\n",
       "<style scoped>\n",
       "    .dataframe tbody tr th:only-of-type {\n",
       "        vertical-align: middle;\n",
       "    }\n",
       "\n",
       "    .dataframe tbody tr th {\n",
       "        vertical-align: top;\n",
       "    }\n",
       "\n",
       "    .dataframe thead th {\n",
       "        text-align: right;\n",
       "    }\n",
       "</style>\n",
       "<table border=\"1\" class=\"dataframe\">\n",
       "  <thead>\n",
       "    <tr style=\"text-align: right;\">\n",
       "      <th></th>\n",
       "      <th>survived</th>\n",
       "      <th>pclass</th>\n",
       "      <th>age</th>\n",
       "      <th>sibsp</th>\n",
       "      <th>parch</th>\n",
       "      <th>fare</th>\n",
       "      <th>adult_male</th>\n",
       "      <th>alone</th>\n",
       "    </tr>\n",
       "    <tr>\n",
       "      <th>who</th>\n",
       "      <th></th>\n",
       "      <th></th>\n",
       "      <th></th>\n",
       "      <th></th>\n",
       "      <th></th>\n",
       "      <th></th>\n",
       "      <th></th>\n",
       "      <th></th>\n",
       "    </tr>\n",
       "  </thead>\n",
       "  <tbody>\n",
       "    <tr>\n",
       "      <th>child</th>\n",
       "      <td>49</td>\n",
       "      <td>218</td>\n",
       "      <td>528.67</td>\n",
       "      <td>144</td>\n",
       "      <td>105</td>\n",
       "      <td>2721.2210</td>\n",
       "      <td>0</td>\n",
       "      <td>6</td>\n",
       "    </tr>\n",
       "    <tr>\n",
       "      <th>man</th>\n",
       "      <td>88</td>\n",
       "      <td>1274</td>\n",
       "      <td>13700.50</td>\n",
       "      <td>159</td>\n",
       "      <td>82</td>\n",
       "      <td>13352.0656</td>\n",
       "      <td>537</td>\n",
       "      <td>410</td>\n",
       "    </tr>\n",
       "    <tr>\n",
       "      <th>woman</th>\n",
       "      <td>205</td>\n",
       "      <td>565</td>\n",
       "      <td>6976.00</td>\n",
       "      <td>163</td>\n",
       "      <td>153</td>\n",
       "      <td>12620.6627</td>\n",
       "      <td>0</td>\n",
       "      <td>121</td>\n",
       "    </tr>\n",
       "  </tbody>\n",
       "</table>\n",
       "</div>"
      ],
      "text/plain": [
       "       survived  pclass       age  sibsp  parch        fare  adult_male  alone\n",
       "who                                                                           \n",
       "child        49     218    528.67    144    105   2721.2210           0      6\n",
       "man          88    1274  13700.50    159     82  13352.0656         537    410\n",
       "woman       205     565   6976.00    163    153  12620.6627           0    121"
      ]
     },
     "execution_count": 51,
     "metadata": {},
     "output_type": "execute_result"
    }
   ],
   "source": [
    "# Let's check values of column who\n",
    "df.groupby('who').sum()"
   ]
  },
  {
   "cell_type": "markdown",
   "metadata": {},
   "source": [
    "### horizontal bar and normal bar"
   ]
  },
  {
   "cell_type": "code",
   "execution_count": 52,
   "metadata": {},
   "outputs": [
    {
     "data": {
      "image/png": "[encoded data removed]",
      "text/plain": [
       "<Figure size 432x288 with 1 Axes>"
      ]
     },
     "metadata": {
      "needs_background": "light"
     },
     "output_type": "display_data"
    }
   ],
   "source": [
    "# Let's plot the fare of each value of class who\n",
    "df1=df.groupby('who')['fare'].sum().to_frame().reset_index()\n",
    "\n",
    "#Creating the bar chart \n",
    "plt.barh(df1['who'],df1['fare'],color = ['#F0F8FF','#E6E6FA','#B0E0E6']) \n",
    "\n",
    "#Adding the aesthetics\n",
    "plt.title('Chart title')\n",
    "plt.xlabel('X axis title')\n",
    "plt.ylabel('Y axis title') \n",
    "\n",
    "#Show the plot\n",
    "plt.show()"
   ]
  },
  {
   "cell_type": "code",
   "execution_count": 53,
   "metadata": {},
   "outputs": [
    {
     "data": {
      "image/png": "[encoded data removed]",
      "text/plain": [
       "<Figure size 432x288 with 1 Axes>"
      ]
     },
     "metadata": {
      "needs_background": "light"
     },
     "output_type": "display_data"
    }
   ],
   "source": [
    "plt.bar(df1['who'],df1['fare'],color = ['#F0F8FF','#E6E6FA','#B0E0E6']) \n",
    "plt.title('Chart title')\n",
    "plt.xlabel('X axis title')\n",
    "plt.ylabel('Y axis title') \n",
    "#Show the plot\n",
    "plt.show()"
   ]
  },
  {
   "cell_type": "code",
   "execution_count": 54,
   "metadata": {},
   "outputs": [
    {
     "data": {
      "image/png": "[encoded data removed]",
      "text/plain": [
       "<Figure size 432x288 with 1 Axes>"
      ]
     },
     "metadata": {
      "needs_background": "light"
     },
     "output_type": "display_data"
    }
   ],
   "source": [
    "df.survived.value_counts().plot(kind=\"bar\",alpha=0.5)\n",
    "plt.title('Bar title')\n",
    "plt.xlabel('Survived or not')\n",
    "plt.ylabel('Number of survived') \n",
    "plt.show()"
   ]
  },
  {
   "cell_type": "markdown",
   "metadata": {},
   "source": [
    "### Histogram"
   ]
  },
  {
   "cell_type": "code",
   "execution_count": 55,
   "metadata": {},
   "outputs": [
    {
     "data": {
      "image/png": "[encoded data removed]",
      "text/plain": [
       "<Figure size 432x288 with 1 Axes>"
      ]
     },
     "metadata": {
      "needs_background": "light"
     },
     "output_type": "display_data"
    }
   ],
   "source": [
    "df.age.hist();"
   ]
  },
  {
   "cell_type": "code",
   "execution_count": 56,
   "metadata": {},
   "outputs": [
    {
     "data": {
      "text/plain": [
       "survived          int64\n",
       "pclass            int64\n",
       "sex              object\n",
       "age             float64\n",
       "sibsp             int64\n",
       "parch             int64\n",
       "fare            float64\n",
       "embarked         object\n",
       "class          category\n",
       "who              object\n",
       "adult_male         bool\n",
       "deck           category\n",
       "embark_town      object\n",
       "alive            object\n",
       "alone              bool\n",
       "dtype: object"
      ]
     },
     "execution_count": 56,
     "metadata": {},
     "output_type": "execute_result"
    }
   ],
   "source": [
    "df.dtypes"
   ]
  },
  {
   "cell_type": "code",
   "execution_count": 57,
   "metadata": {},
   "outputs": [],
   "source": [
    "df=df.dropna()"
   ]
  },
  {
   "cell_type": "markdown",
   "metadata": {},
   "source": [
    "### Pie chart"
   ]
  },
  {
   "cell_type": "code",
   "execution_count": 58,
   "metadata": {},
   "outputs": [
    {
     "data": {
      "image/png": "[encoded data removed]",
      "text/plain": [
       "<Figure size 432x288 with 1 Axes>"
      ]
     },
     "metadata": {},
     "output_type": "display_data"
    }
   ],
   "source": [
    "#Creating the dataset\n",
    "cars = ['AUDI', 'BMW', 'NISSAN', \n",
    "        'TESLA', 'HYUNDAI', 'HONDA'] \n",
    "data = [20, 15, 15, 14, 16, 20] \n",
    "#Creating the pie chart\n",
    "plt.pie(data, labels = cars,colors = ['#F0F8FF','#E6E6FA','#B0E0E6','#7B68EE','#483D8B'])\n",
    "#Adding the aesthetics\n",
    "plt.title('Chart title')\n",
    "#Show the plot\n",
    "plt.show()"
   ]
  },
  {
   "cell_type": "code",
   "execution_count": 59,
   "metadata": {},
   "outputs": [
    {
     "data": {
      "text/plain": [
       "survived          int64\n",
       "pclass            int64\n",
       "sex              object\n",
       "age             float64\n",
       "sibsp             int64\n",
       "parch             int64\n",
       "fare            float64\n",
       "embarked         object\n",
       "class          category\n",
       "who              object\n",
       "adult_male         bool\n",
       "deck           category\n",
       "embark_town      object\n",
       "alive            object\n",
       "alone              bool\n",
       "dtype: object"
      ]
     },
     "execution_count": 59,
     "metadata": {},
     "output_type": "execute_result"
    }
   ],
   "source": [
    "df.dtypes"
   ]
  },
  {
   "cell_type": "markdown",
   "metadata": {},
   "source": [
    "### Scatter and line plots"
   ]
  },
  {
   "cell_type": "code",
   "execution_count": 60,
   "metadata": {},
   "outputs": [
    {
     "data": {
      "text/plain": [
       "Text(0.5, 1.0, 'Age __ Survived')"
      ]
     },
     "execution_count": 60,
     "metadata": {},
     "output_type": "execute_result"
    },
    {
     "data": {
      "image/png": "[encoded data removed]",
      "text/plain": [
       "<Figure size 432x288 with 1 Axes>"
      ]
     },
     "metadata": {
      "needs_background": "light"
     },
     "output_type": "display_data"
    }
   ],
   "source": [
    "plt.scatter(df.survived, df.age, alpha=0.5)\n",
    "plt.title(\"Age __ Survived\")"
   ]
  },
  {
   "cell_type": "code",
   "execution_count": 61,
   "metadata": {},
   "outputs": [
    {
     "data": {
      "image/png": "[encoded data removed]",
      "text/plain": [
       "<Figure size 432x288 with 1 Axes>"
      ]
     },
     "metadata": {
      "needs_background": "light"
     },
     "output_type": "display_data"
    }
   ],
   "source": [
    "df.age[df.pclass == 1].plot(kind=\"kde\")\n",
    "plt.title(\"Age wrt Pclass\")\n",
    "plt.show()"
   ]
  },
  {
   "cell_type": "markdown",
   "metadata": {},
   "source": [
    "### Box & whisker"
   ]
  },
  {
   "cell_type": "code",
   "execution_count": 62,
   "metadata": {},
   "outputs": [
    {
     "data": {
      "image/png": "[encoded data removed]",
      "text/plain": [
       "<Figure size 432x288 with 1 Axes>"
      ]
     },
     "metadata": {
      "needs_background": "light"
     },
     "output_type": "display_data"
    }
   ],
   "source": [
    "boxplot = df.boxplot(column=['sibsp','parch','fare', 'age'])"
   ]
  },
  {
   "cell_type": "code",
   "execution_count": 63,
   "metadata": {},
   "outputs": [
    {
     "ename": "TypeError",
     "evalue": "numpy boolean subtract, the `-` operator, is not supported, use the bitwise_xor, the `^` operator, or the logical_xor function instead.",
     "output_type": "error",
     "traceback": [
      "\u001b[1;31m---------------------------------------------------------------------------\u001b[0m",
      "\u001b[1;31mKeyError\u001b[0m                                  Traceback (most recent call last)",
      "File \u001b[1;32mD:\\zzzzzzPROGRAMING\\miniconda3\\envs\\datascience\\lib\\site-packages\\numpy\\lib\\histograms.py:351\u001b[0m, in \u001b[0;36m_unsigned_subtract\u001b[1;34m(a, b)\u001b[0m\n\u001b[0;32m    <a href='file:///d%3A/zzzzzzPROGRAMING/miniconda3/envs/datascience/lib/site-packages/numpy/lib/histograms.py?line=349'>350</a>\u001b[0m \u001b[39mtry\u001b[39;00m:\n\u001b[1;32m--> <a href='file:///d%3A/zzzzzzPROGRAMING/miniconda3/envs/datascience/lib/site-packages/numpy/lib/histograms.py?line=350'>351</a>\u001b[0m     dt \u001b[39m=\u001b[39m signed_to_unsigned[dt\u001b[39m.\u001b[39;49mtype]\n\u001b[0;32m    <a href='file:///d%3A/zzzzzzPROGRAMING/miniconda3/envs/datascience/lib/site-packages/numpy/lib/histograms.py?line=351'>352</a>\u001b[0m \u001b[39mexcept\u001b[39;00m \u001b[39mKeyError\u001b[39;00m:\n",
      "\u001b[1;31mKeyError\u001b[0m: <class 'numpy.bool_'>",
      "\nDuring handling of the above exception, another exception occurred:\n",
      "\u001b[1;31mTypeError\u001b[0m                                 Traceback (most recent call last)",
      "\u001b[1;32mc:\\Users\\20100\\OneDrive - The British University in Egypt\\@UNI\\year 2 semster 2\\Data Sciences\\project\\labs\\Lab5Solution.ipynb Cell 58'\u001b[0m in \u001b[0;36m<cell line: 1>\u001b[1;34m()\u001b[0m\n\u001b[1;32m----> <a href='vscode-notebook-cell:/c%3A/Users/20100/OneDrive%20-%20The%20British%20University%20in%20Egypt/%40UNI/year%202%20semster%202/Data%20Sciences/project/labs/Lab5Solution.ipynb#ch0000057?line=0'>1</a>\u001b[0m sns\u001b[39m.\u001b[39;49mpairplot(data\u001b[39m=\u001b[39;49mdf)\n",
      "File \u001b[1;32mD:\\zzzzzzPROGRAMING\\miniconda3\\envs\\datascience\\lib\\site-packages\\seaborn\\_decorators.py:46\u001b[0m, in \u001b[0;36m_deprecate_positional_args.<locals>.inner_f\u001b[1;34m(*args, **kwargs)\u001b[0m\n\u001b[0;32m     <a href='file:///d%3A/zzzzzzPROGRAMING/miniconda3/envs/datascience/lib/site-packages/seaborn/_decorators.py?line=35'>36</a>\u001b[0m     warnings\u001b[39m.\u001b[39mwarn(\n\u001b[0;32m     <a href='file:///d%3A/zzzzzzPROGRAMING/miniconda3/envs/datascience/lib/site-packages/seaborn/_decorators.py?line=36'>37</a>\u001b[0m         \u001b[39m\"\u001b[39m\u001b[39mPass the following variable\u001b[39m\u001b[39m{}\u001b[39;00m\u001b[39m as \u001b[39m\u001b[39m{}\u001b[39;00m\u001b[39mkeyword arg\u001b[39m\u001b[39m{}\u001b[39;00m\u001b[39m: \u001b[39m\u001b[39m{}\u001b[39;00m\u001b[39m. \u001b[39m\u001b[39m\"\u001b[39m\n\u001b[0;32m     <a href='file:///d%3A/zzzzzzPROGRAMING/miniconda3/envs/datascience/lib/site-packages/seaborn/_decorators.py?line=37'>38</a>\u001b[0m         \u001b[39m\"\u001b[39m\u001b[39mFrom version 0.12, the only valid positional argument \u001b[39m\u001b[39m\"\u001b[39m\n\u001b[1;32m   (...)\u001b[0m\n\u001b[0;32m     <a href='file:///d%3A/zzzzzzPROGRAMING/miniconda3/envs/datascience/lib/site-packages/seaborn/_decorators.py?line=42'>43</a>\u001b[0m         \u001b[39mFutureWarning\u001b[39;00m\n\u001b[0;32m     <a href='file:///d%3A/zzzzzzPROGRAMING/miniconda3/envs/datascience/lib/site-packages/seaborn/_decorators.py?line=43'>44</a>\u001b[0m     )\n\u001b[0;32m     <a href='file:///d%3A/zzzzzzPROGRAMING/miniconda3/envs/datascience/lib/site-packages/seaborn/_decorators.py?line=44'>45</a>\u001b[0m kwargs\u001b[39m.\u001b[39mupdate({k: arg \u001b[39mfor\u001b[39;00m k, arg \u001b[39min\u001b[39;00m \u001b[39mzip\u001b[39m(sig\u001b[39m.\u001b[39mparameters, args)})\n\u001b[1;32m---> <a href='file:///d%3A/zzzzzzPROGRAMING/miniconda3/envs/datascience/lib/site-packages/seaborn/_decorators.py?line=45'>46</a>\u001b[0m \u001b[39mreturn\u001b[39;00m f(\u001b[39m*\u001b[39m\u001b[39m*\u001b[39mkwargs)\n",
      "File \u001b[1;32mD:\\zzzzzzPROGRAMING\\miniconda3\\envs\\datascience\\lib\\site-packages\\seaborn\\axisgrid.py:2126\u001b[0m, in \u001b[0;36mpairplot\u001b[1;34m(data, hue, hue_order, palette, vars, x_vars, y_vars, kind, diag_kind, markers, height, aspect, corner, dropna, plot_kws, diag_kws, grid_kws, size)\u001b[0m\n\u001b[0;32m   <a href='file:///d%3A/zzzzzzPROGRAMING/miniconda3/envs/datascience/lib/site-packages/seaborn/axisgrid.py?line=2123'>2124</a>\u001b[0m diag_kws\u001b[39m.\u001b[39msetdefault(\u001b[39m\"\u001b[39m\u001b[39mlegend\u001b[39m\u001b[39m\"\u001b[39m, \u001b[39mFalse\u001b[39;00m)\n\u001b[0;32m   <a href='file:///d%3A/zzzzzzPROGRAMING/miniconda3/envs/datascience/lib/site-packages/seaborn/axisgrid.py?line=2124'>2125</a>\u001b[0m \u001b[39mif\u001b[39;00m diag_kind \u001b[39m==\u001b[39m \u001b[39m\"\u001b[39m\u001b[39mhist\u001b[39m\u001b[39m\"\u001b[39m:\n\u001b[1;32m-> <a href='file:///d%3A/zzzzzzPROGRAMING/miniconda3/envs/datascience/lib/site-packages/seaborn/axisgrid.py?line=2125'>2126</a>\u001b[0m     grid\u001b[39m.\u001b[39mmap_diag(histplot, \u001b[39m*\u001b[39m\u001b[39m*\u001b[39mdiag_kws)\n\u001b[0;32m   <a href='file:///d%3A/zzzzzzPROGRAMING/miniconda3/envs/datascience/lib/site-packages/seaborn/axisgrid.py?line=2126'>2127</a>\u001b[0m \u001b[39melif\u001b[39;00m diag_kind \u001b[39m==\u001b[39m \u001b[39m\"\u001b[39m\u001b[39mkde\u001b[39m\u001b[39m\"\u001b[39m:\n\u001b[0;32m   <a href='file:///d%3A/zzzzzzPROGRAMING/miniconda3/envs/datascience/lib/site-packages/seaborn/axisgrid.py?line=2127'>2128</a>\u001b[0m     diag_kws\u001b[39m.\u001b[39msetdefault(\u001b[39m\"\u001b[39m\u001b[39mfill\u001b[39m\u001b[39m\"\u001b[39m, \u001b[39mTrue\u001b[39;00m)\n",
      "File \u001b[1;32mD:\\zzzzzzPROGRAMING\\miniconda3\\envs\\datascience\\lib\\site-packages\\seaborn\\axisgrid.py:1478\u001b[0m, in \u001b[0;36mPairGrid.map_diag\u001b[1;34m(self, func, **kwargs)\u001b[0m\n\u001b[0;32m   <a href='file:///d%3A/zzzzzzPROGRAMING/miniconda3/envs/datascience/lib/site-packages/seaborn/axisgrid.py?line=1475'>1476</a>\u001b[0m     plot_kwargs\u001b[39m.\u001b[39msetdefault(\u001b[39m\"\u001b[39m\u001b[39mhue_order\u001b[39m\u001b[39m\"\u001b[39m, \u001b[39mself\u001b[39m\u001b[39m.\u001b[39m_hue_order)\n\u001b[0;32m   <a href='file:///d%3A/zzzzzzPROGRAMING/miniconda3/envs/datascience/lib/site-packages/seaborn/axisgrid.py?line=1476'>1477</a>\u001b[0m     plot_kwargs\u001b[39m.\u001b[39msetdefault(\u001b[39m\"\u001b[39m\u001b[39mpalette\u001b[39m\u001b[39m\"\u001b[39m, \u001b[39mself\u001b[39m\u001b[39m.\u001b[39m_orig_palette)\n\u001b[1;32m-> <a href='file:///d%3A/zzzzzzPROGRAMING/miniconda3/envs/datascience/lib/site-packages/seaborn/axisgrid.py?line=1477'>1478</a>\u001b[0m     func(x\u001b[39m=\u001b[39mvector, \u001b[39m*\u001b[39m\u001b[39m*\u001b[39mplot_kwargs)\n\u001b[0;32m   <a href='file:///d%3A/zzzzzzPROGRAMING/miniconda3/envs/datascience/lib/site-packages/seaborn/axisgrid.py?line=1478'>1479</a>\u001b[0m     ax\u001b[39m.\u001b[39mlegend_ \u001b[39m=\u001b[39m \u001b[39mNone\u001b[39;00m\n\u001b[0;32m   <a href='file:///d%3A/zzzzzzPROGRAMING/miniconda3/envs/datascience/lib/site-packages/seaborn/axisgrid.py?line=1480'>1481</a>\u001b[0m \u001b[39mself\u001b[39m\u001b[39m.\u001b[39m_add_axis_labels()\n",
      "File \u001b[1;32mD:\\zzzzzzPROGRAMING\\miniconda3\\envs\\datascience\\lib\\site-packages\\seaborn\\distributions.py:1462\u001b[0m, in \u001b[0;36mhistplot\u001b[1;34m(data, x, y, hue, weights, stat, bins, binwidth, binrange, discrete, cumulative, common_bins, common_norm, multiple, element, fill, shrink, kde, kde_kws, line_kws, thresh, pthresh, pmax, cbar, cbar_ax, cbar_kws, palette, hue_order, hue_norm, color, log_scale, legend, ax, **kwargs)\u001b[0m\n\u001b[0;32m   <a href='file:///d%3A/zzzzzzPROGRAMING/miniconda3/envs/datascience/lib/site-packages/seaborn/distributions.py?line=1450'>1451</a>\u001b[0m estimate_kws \u001b[39m=\u001b[39m \u001b[39mdict\u001b[39m(\n\u001b[0;32m   <a href='file:///d%3A/zzzzzzPROGRAMING/miniconda3/envs/datascience/lib/site-packages/seaborn/distributions.py?line=1451'>1452</a>\u001b[0m     stat\u001b[39m=\u001b[39mstat,\n\u001b[0;32m   <a href='file:///d%3A/zzzzzzPROGRAMING/miniconda3/envs/datascience/lib/site-packages/seaborn/distributions.py?line=1452'>1453</a>\u001b[0m     bins\u001b[39m=\u001b[39mbins,\n\u001b[1;32m   (...)\u001b[0m\n\u001b[0;32m   <a href='file:///d%3A/zzzzzzPROGRAMING/miniconda3/envs/datascience/lib/site-packages/seaborn/distributions.py?line=1456'>1457</a>\u001b[0m     cumulative\u001b[39m=\u001b[39mcumulative,\n\u001b[0;32m   <a href='file:///d%3A/zzzzzzPROGRAMING/miniconda3/envs/datascience/lib/site-packages/seaborn/distributions.py?line=1457'>1458</a>\u001b[0m )\n\u001b[0;32m   <a href='file:///d%3A/zzzzzzPROGRAMING/miniconda3/envs/datascience/lib/site-packages/seaborn/distributions.py?line=1459'>1460</a>\u001b[0m \u001b[39mif\u001b[39;00m p\u001b[39m.\u001b[39munivariate:\n\u001b[1;32m-> <a href='file:///d%3A/zzzzzzPROGRAMING/miniconda3/envs/datascience/lib/site-packages/seaborn/distributions.py?line=1461'>1462</a>\u001b[0m     p\u001b[39m.\u001b[39mplot_univariate_histogram(\n\u001b[0;32m   <a href='file:///d%3A/zzzzzzPROGRAMING/miniconda3/envs/datascience/lib/site-packages/seaborn/distributions.py?line=1462'>1463</a>\u001b[0m         multiple\u001b[39m=\u001b[39mmultiple,\n\u001b[0;32m   <a href='file:///d%3A/zzzzzzPROGRAMING/miniconda3/envs/datascience/lib/site-packages/seaborn/distributions.py?line=1463'>1464</a>\u001b[0m         element\u001b[39m=\u001b[39melement,\n\u001b[0;32m   <a href='file:///d%3A/zzzzzzPROGRAMING/miniconda3/envs/datascience/lib/site-packages/seaborn/distributions.py?line=1464'>1465</a>\u001b[0m         fill\u001b[39m=\u001b[39mfill,\n\u001b[0;32m   <a href='file:///d%3A/zzzzzzPROGRAMING/miniconda3/envs/datascience/lib/site-packages/seaborn/distributions.py?line=1465'>1466</a>\u001b[0m         shrink\u001b[39m=\u001b[39mshrink,\n\u001b[0;32m   <a href='file:///d%3A/zzzzzzPROGRAMING/miniconda3/envs/datascience/lib/site-packages/seaborn/distributions.py?line=1466'>1467</a>\u001b[0m         common_norm\u001b[39m=\u001b[39mcommon_norm,\n\u001b[0;32m   <a href='file:///d%3A/zzzzzzPROGRAMING/miniconda3/envs/datascience/lib/site-packages/seaborn/distributions.py?line=1467'>1468</a>\u001b[0m         common_bins\u001b[39m=\u001b[39mcommon_bins,\n\u001b[0;32m   <a href='file:///d%3A/zzzzzzPROGRAMING/miniconda3/envs/datascience/lib/site-packages/seaborn/distributions.py?line=1468'>1469</a>\u001b[0m         kde\u001b[39m=\u001b[39mkde,\n\u001b[0;32m   <a href='file:///d%3A/zzzzzzPROGRAMING/miniconda3/envs/datascience/lib/site-packages/seaborn/distributions.py?line=1469'>1470</a>\u001b[0m         kde_kws\u001b[39m=\u001b[39mkde_kws,\n\u001b[0;32m   <a href='file:///d%3A/zzzzzzPROGRAMING/miniconda3/envs/datascience/lib/site-packages/seaborn/distributions.py?line=1470'>1471</a>\u001b[0m         color\u001b[39m=\u001b[39mcolor,\n\u001b[0;32m   <a href='file:///d%3A/zzzzzzPROGRAMING/miniconda3/envs/datascience/lib/site-packages/seaborn/distributions.py?line=1471'>1472</a>\u001b[0m         legend\u001b[39m=\u001b[39mlegend,\n\u001b[0;32m   <a href='file:///d%3A/zzzzzzPROGRAMING/miniconda3/envs/datascience/lib/site-packages/seaborn/distributions.py?line=1472'>1473</a>\u001b[0m         estimate_kws\u001b[39m=\u001b[39mestimate_kws,\n\u001b[0;32m   <a href='file:///d%3A/zzzzzzPROGRAMING/miniconda3/envs/datascience/lib/site-packages/seaborn/distributions.py?line=1473'>1474</a>\u001b[0m         line_kws\u001b[39m=\u001b[39mline_kws,\n\u001b[0;32m   <a href='file:///d%3A/zzzzzzPROGRAMING/miniconda3/envs/datascience/lib/site-packages/seaborn/distributions.py?line=1474'>1475</a>\u001b[0m         \u001b[39m*\u001b[39m\u001b[39m*\u001b[39mkwargs,\n\u001b[0;32m   <a href='file:///d%3A/zzzzzzPROGRAMING/miniconda3/envs/datascience/lib/site-packages/seaborn/distributions.py?line=1475'>1476</a>\u001b[0m     )\n\u001b[0;32m   <a href='file:///d%3A/zzzzzzPROGRAMING/miniconda3/envs/datascience/lib/site-packages/seaborn/distributions.py?line=1477'>1478</a>\u001b[0m \u001b[39melse\u001b[39;00m:\n\u001b[0;32m   <a href='file:///d%3A/zzzzzzPROGRAMING/miniconda3/envs/datascience/lib/site-packages/seaborn/distributions.py?line=1479'>1480</a>\u001b[0m     p\u001b[39m.\u001b[39mplot_bivariate_histogram(\n\u001b[0;32m   <a href='file:///d%3A/zzzzzzPROGRAMING/miniconda3/envs/datascience/lib/site-packages/seaborn/distributions.py?line=1480'>1481</a>\u001b[0m         common_bins\u001b[39m=\u001b[39mcommon_bins,\n\u001b[0;32m   <a href='file:///d%3A/zzzzzzPROGRAMING/miniconda3/envs/datascience/lib/site-packages/seaborn/distributions.py?line=1481'>1482</a>\u001b[0m         common_norm\u001b[39m=\u001b[39mcommon_norm,\n\u001b[1;32m   (...)\u001b[0m\n\u001b[0;32m   <a href='file:///d%3A/zzzzzzPROGRAMING/miniconda3/envs/datascience/lib/site-packages/seaborn/distributions.py?line=1491'>1492</a>\u001b[0m         \u001b[39m*\u001b[39m\u001b[39m*\u001b[39mkwargs,\n\u001b[0;32m   <a href='file:///d%3A/zzzzzzPROGRAMING/miniconda3/envs/datascience/lib/site-packages/seaborn/distributions.py?line=1492'>1493</a>\u001b[0m     )\n",
      "File \u001b[1;32mD:\\zzzzzzPROGRAMING\\miniconda3\\envs\\datascience\\lib\\site-packages\\seaborn\\distributions.py:441\u001b[0m, in \u001b[0;36m_DistributionPlotter.plot_univariate_histogram\u001b[1;34m(self, multiple, element, fill, common_norm, common_bins, shrink, kde, kde_kws, color, legend, line_kws, estimate_kws, **plot_kws)\u001b[0m\n\u001b[0;32m    <a href='file:///d%3A/zzzzzzPROGRAMING/miniconda3/envs/datascience/lib/site-packages/seaborn/distributions.py?line=437'>438</a>\u001b[0m     weights \u001b[39m=\u001b[39m \u001b[39mNone\u001b[39;00m\n\u001b[0;32m    <a href='file:///d%3A/zzzzzzPROGRAMING/miniconda3/envs/datascience/lib/site-packages/seaborn/distributions.py?line=439'>440</a>\u001b[0m \u001b[39m# Do the histogram computation\u001b[39;00m\n\u001b[1;32m--> <a href='file:///d%3A/zzzzzzPROGRAMING/miniconda3/envs/datascience/lib/site-packages/seaborn/distributions.py?line=440'>441</a>\u001b[0m heights, edges \u001b[39m=\u001b[39m estimator(observations, weights\u001b[39m=\u001b[39;49mweights)\n\u001b[0;32m    <a href='file:///d%3A/zzzzzzPROGRAMING/miniconda3/envs/datascience/lib/site-packages/seaborn/distributions.py?line=442'>443</a>\u001b[0m \u001b[39m# Rescale the smoothed curve to match the histogram\u001b[39;00m\n\u001b[0;32m    <a href='file:///d%3A/zzzzzzPROGRAMING/miniconda3/envs/datascience/lib/site-packages/seaborn/distributions.py?line=443'>444</a>\u001b[0m \u001b[39mif\u001b[39;00m kde \u001b[39mand\u001b[39;00m key \u001b[39min\u001b[39;00m densities:\n",
      "File \u001b[1;32mD:\\zzzzzzPROGRAMING\\miniconda3\\envs\\datascience\\lib\\site-packages\\seaborn\\_statistics.py:386\u001b[0m, in \u001b[0;36mHistogram.__call__\u001b[1;34m(self, x1, x2, weights)\u001b[0m\n\u001b[0;32m    <a href='file:///d%3A/zzzzzzPROGRAMING/miniconda3/envs/datascience/lib/site-packages/seaborn/_statistics.py?line=383'>384</a>\u001b[0m \u001b[39m\"\"\"Count the occurrences in each bin, maybe normalize.\"\"\"\u001b[39;00m\n\u001b[0;32m    <a href='file:///d%3A/zzzzzzPROGRAMING/miniconda3/envs/datascience/lib/site-packages/seaborn/_statistics.py?line=384'>385</a>\u001b[0m \u001b[39mif\u001b[39;00m x2 \u001b[39mis\u001b[39;00m \u001b[39mNone\u001b[39;00m:\n\u001b[1;32m--> <a href='file:///d%3A/zzzzzzPROGRAMING/miniconda3/envs/datascience/lib/site-packages/seaborn/_statistics.py?line=385'>386</a>\u001b[0m     \u001b[39mreturn\u001b[39;00m \u001b[39mself\u001b[39;49m\u001b[39m.\u001b[39;49m_eval_univariate(x1, weights)\n\u001b[0;32m    <a href='file:///d%3A/zzzzzzPROGRAMING/miniconda3/envs/datascience/lib/site-packages/seaborn/_statistics.py?line=386'>387</a>\u001b[0m \u001b[39melse\u001b[39;00m:\n\u001b[0;32m    <a href='file:///d%3A/zzzzzzPROGRAMING/miniconda3/envs/datascience/lib/site-packages/seaborn/_statistics.py?line=387'>388</a>\u001b[0m     \u001b[39mreturn\u001b[39;00m \u001b[39mself\u001b[39m\u001b[39m.\u001b[39m_eval_bivariate(x1, x2, weights)\n",
      "File \u001b[1;32mD:\\zzzzzzPROGRAMING\\miniconda3\\envs\\datascience\\lib\\site-packages\\seaborn\\_statistics.py:361\u001b[0m, in \u001b[0;36mHistogram._eval_univariate\u001b[1;34m(self, x, weights)\u001b[0m\n\u001b[0;32m    <a href='file:///d%3A/zzzzzzPROGRAMING/miniconda3/envs/datascience/lib/site-packages/seaborn/_statistics.py?line=358'>359</a>\u001b[0m bin_kws \u001b[39m=\u001b[39m \u001b[39mself\u001b[39m\u001b[39m.\u001b[39mbin_kws\n\u001b[0;32m    <a href='file:///d%3A/zzzzzzPROGRAMING/miniconda3/envs/datascience/lib/site-packages/seaborn/_statistics.py?line=359'>360</a>\u001b[0m \u001b[39mif\u001b[39;00m bin_kws \u001b[39mis\u001b[39;00m \u001b[39mNone\u001b[39;00m:\n\u001b[1;32m--> <a href='file:///d%3A/zzzzzzPROGRAMING/miniconda3/envs/datascience/lib/site-packages/seaborn/_statistics.py?line=360'>361</a>\u001b[0m     bin_kws \u001b[39m=\u001b[39m \u001b[39mself\u001b[39;49m\u001b[39m.\u001b[39;49mdefine_bin_params(x, weights\u001b[39m=\u001b[39;49mweights, cache\u001b[39m=\u001b[39;49m\u001b[39mFalse\u001b[39;49;00m)\n\u001b[0;32m    <a href='file:///d%3A/zzzzzzPROGRAMING/miniconda3/envs/datascience/lib/site-packages/seaborn/_statistics.py?line=362'>363</a>\u001b[0m density \u001b[39m=\u001b[39m \u001b[39mself\u001b[39m\u001b[39m.\u001b[39mstat \u001b[39m==\u001b[39m \u001b[39m\"\u001b[39m\u001b[39mdensity\u001b[39m\u001b[39m\"\u001b[39m\n\u001b[0;32m    <a href='file:///d%3A/zzzzzzPROGRAMING/miniconda3/envs/datascience/lib/site-packages/seaborn/_statistics.py?line=363'>364</a>\u001b[0m hist, bin_edges \u001b[39m=\u001b[39m np\u001b[39m.\u001b[39mhistogram(\n\u001b[0;32m    <a href='file:///d%3A/zzzzzzPROGRAMING/miniconda3/envs/datascience/lib/site-packages/seaborn/_statistics.py?line=364'>365</a>\u001b[0m     x, \u001b[39m*\u001b[39m\u001b[39m*\u001b[39mbin_kws, weights\u001b[39m=\u001b[39mweights, density\u001b[39m=\u001b[39mdensity,\n\u001b[0;32m    <a href='file:///d%3A/zzzzzzPROGRAMING/miniconda3/envs/datascience/lib/site-packages/seaborn/_statistics.py?line=365'>366</a>\u001b[0m )\n",
      "File \u001b[1;32mD:\\zzzzzzPROGRAMING\\miniconda3\\envs\\datascience\\lib\\site-packages\\seaborn\\_statistics.py:269\u001b[0m, in \u001b[0;36mHistogram.define_bin_params\u001b[1;34m(self, x1, x2, weights, cache)\u001b[0m\n\u001b[0;32m    <a href='file:///d%3A/zzzzzzPROGRAMING/miniconda3/envs/datascience/lib/site-packages/seaborn/_statistics.py?line=265'>266</a>\u001b[0m \u001b[39m\"\"\"Given data, return numpy.histogram parameters to define bins.\"\"\"\u001b[39;00m\n\u001b[0;32m    <a href='file:///d%3A/zzzzzzPROGRAMING/miniconda3/envs/datascience/lib/site-packages/seaborn/_statistics.py?line=266'>267</a>\u001b[0m \u001b[39mif\u001b[39;00m x2 \u001b[39mis\u001b[39;00m \u001b[39mNone\u001b[39;00m:\n\u001b[1;32m--> <a href='file:///d%3A/zzzzzzPROGRAMING/miniconda3/envs/datascience/lib/site-packages/seaborn/_statistics.py?line=268'>269</a>\u001b[0m     bin_edges \u001b[39m=\u001b[39m \u001b[39mself\u001b[39;49m\u001b[39m.\u001b[39;49m_define_bin_edges(\n\u001b[0;32m    <a href='file:///d%3A/zzzzzzPROGRAMING/miniconda3/envs/datascience/lib/site-packages/seaborn/_statistics.py?line=269'>270</a>\u001b[0m         x1, weights, \u001b[39mself\u001b[39;49m\u001b[39m.\u001b[39;49mbins, \u001b[39mself\u001b[39;49m\u001b[39m.\u001b[39;49mbinwidth, \u001b[39mself\u001b[39;49m\u001b[39m.\u001b[39;49mbinrange, \u001b[39mself\u001b[39;49m\u001b[39m.\u001b[39;49mdiscrete,\n\u001b[0;32m    <a href='file:///d%3A/zzzzzzPROGRAMING/miniconda3/envs/datascience/lib/site-packages/seaborn/_statistics.py?line=270'>271</a>\u001b[0m     )\n\u001b[0;32m    <a href='file:///d%3A/zzzzzzPROGRAMING/miniconda3/envs/datascience/lib/site-packages/seaborn/_statistics.py?line=272'>273</a>\u001b[0m     \u001b[39mif\u001b[39;00m \u001b[39misinstance\u001b[39m(\u001b[39mself\u001b[39m\u001b[39m.\u001b[39mbins, (\u001b[39mstr\u001b[39m, Number)):\n\u001b[0;32m    <a href='file:///d%3A/zzzzzzPROGRAMING/miniconda3/envs/datascience/lib/site-packages/seaborn/_statistics.py?line=273'>274</a>\u001b[0m         n_bins \u001b[39m=\u001b[39m \u001b[39mlen\u001b[39m(bin_edges) \u001b[39m-\u001b[39m \u001b[39m1\u001b[39m\n",
      "File \u001b[1;32mD:\\zzzzzzPROGRAMING\\miniconda3\\envs\\datascience\\lib\\site-packages\\seaborn\\_statistics.py:260\u001b[0m, in \u001b[0;36mHistogram._define_bin_edges\u001b[1;34m(self, x, weights, bins, binwidth, binrange, discrete)\u001b[0m\n\u001b[0;32m    <a href='file:///d%3A/zzzzzzPROGRAMING/miniconda3/envs/datascience/lib/site-packages/seaborn/_statistics.py?line=257'>258</a>\u001b[0m     bin_edges \u001b[39m=\u001b[39m np\u001b[39m.\u001b[39marange(start, stop \u001b[39m+\u001b[39m step, step)\n\u001b[0;32m    <a href='file:///d%3A/zzzzzzPROGRAMING/miniconda3/envs/datascience/lib/site-packages/seaborn/_statistics.py?line=258'>259</a>\u001b[0m \u001b[39melse\u001b[39;00m:\n\u001b[1;32m--> <a href='file:///d%3A/zzzzzzPROGRAMING/miniconda3/envs/datascience/lib/site-packages/seaborn/_statistics.py?line=259'>260</a>\u001b[0m     bin_edges \u001b[39m=\u001b[39m np\u001b[39m.\u001b[39;49mhistogram_bin_edges(\n\u001b[0;32m    <a href='file:///d%3A/zzzzzzPROGRAMING/miniconda3/envs/datascience/lib/site-packages/seaborn/_statistics.py?line=260'>261</a>\u001b[0m         x, bins, binrange, weights,\n\u001b[0;32m    <a href='file:///d%3A/zzzzzzPROGRAMING/miniconda3/envs/datascience/lib/site-packages/seaborn/_statistics.py?line=261'>262</a>\u001b[0m     )\n\u001b[0;32m    <a href='file:///d%3A/zzzzzzPROGRAMING/miniconda3/envs/datascience/lib/site-packages/seaborn/_statistics.py?line=262'>263</a>\u001b[0m \u001b[39mreturn\u001b[39;00m bin_edges\n",
      "File \u001b[1;32m<__array_function__ internals>:5\u001b[0m, in \u001b[0;36mhistogram_bin_edges\u001b[1;34m(*args, **kwargs)\u001b[0m\n",
      "File \u001b[1;32mD:\\zzzzzzPROGRAMING\\miniconda3\\envs\\datascience\\lib\\site-packages\\numpy\\lib\\histograms.py:669\u001b[0m, in \u001b[0;36mhistogram_bin_edges\u001b[1;34m(a, bins, range, weights)\u001b[0m\n\u001b[0;32m    <a href='file:///d%3A/zzzzzzPROGRAMING/miniconda3/envs/datascience/lib/site-packages/numpy/lib/histograms.py?line=471'>472</a>\u001b[0m \u001b[39mr\u001b[39m\u001b[39m\"\"\"\u001b[39;00m\n\u001b[0;32m    <a href='file:///d%3A/zzzzzzPROGRAMING/miniconda3/envs/datascience/lib/site-packages/numpy/lib/histograms.py?line=472'>473</a>\u001b[0m \u001b[39mFunction to calculate only the edges of the bins used by the `histogram`\u001b[39;00m\n\u001b[0;32m    <a href='file:///d%3A/zzzzzzPROGRAMING/miniconda3/envs/datascience/lib/site-packages/numpy/lib/histograms.py?line=473'>474</a>\u001b[0m \u001b[39mfunction.\u001b[39;00m\n\u001b[1;32m   (...)\u001b[0m\n\u001b[0;32m    <a href='file:///d%3A/zzzzzzPROGRAMING/miniconda3/envs/datascience/lib/site-packages/numpy/lib/histograms.py?line=665'>666</a>\u001b[0m \n\u001b[0;32m    <a href='file:///d%3A/zzzzzzPROGRAMING/miniconda3/envs/datascience/lib/site-packages/numpy/lib/histograms.py?line=666'>667</a>\u001b[0m \u001b[39m\"\"\"\u001b[39;00m\n\u001b[0;32m    <a href='file:///d%3A/zzzzzzPROGRAMING/miniconda3/envs/datascience/lib/site-packages/numpy/lib/histograms.py?line=667'>668</a>\u001b[0m a, weights \u001b[39m=\u001b[39m _ravel_and_check_weights(a, weights)\n\u001b[1;32m--> <a href='file:///d%3A/zzzzzzPROGRAMING/miniconda3/envs/datascience/lib/site-packages/numpy/lib/histograms.py?line=668'>669</a>\u001b[0m bin_edges, _ \u001b[39m=\u001b[39m _get_bin_edges(a, bins, \u001b[39mrange\u001b[39;49m, weights)\n\u001b[0;32m    <a href='file:///d%3A/zzzzzzPROGRAMING/miniconda3/envs/datascience/lib/site-packages/numpy/lib/histograms.py?line=669'>670</a>\u001b[0m \u001b[39mreturn\u001b[39;00m bin_edges\n",
      "File \u001b[1;32mD:\\zzzzzzPROGRAMING\\miniconda3\\envs\\datascience\\lib\\site-packages\\numpy\\lib\\histograms.py:409\u001b[0m, in \u001b[0;36m_get_bin_edges\u001b[1;34m(a, bins, range, weights)\u001b[0m\n\u001b[0;32m    <a href='file:///d%3A/zzzzzzPROGRAMING/miniconda3/envs/datascience/lib/site-packages/numpy/lib/histograms.py?line=405'>406</a>\u001b[0m     n_equal_bins \u001b[39m=\u001b[39m \u001b[39m1\u001b[39m\n\u001b[0;32m    <a href='file:///d%3A/zzzzzzPROGRAMING/miniconda3/envs/datascience/lib/site-packages/numpy/lib/histograms.py?line=406'>407</a>\u001b[0m \u001b[39melse\u001b[39;00m:\n\u001b[0;32m    <a href='file:///d%3A/zzzzzzPROGRAMING/miniconda3/envs/datascience/lib/site-packages/numpy/lib/histograms.py?line=407'>408</a>\u001b[0m     \u001b[39m# Do not call selectors on empty arrays\u001b[39;00m\n\u001b[1;32m--> <a href='file:///d%3A/zzzzzzPROGRAMING/miniconda3/envs/datascience/lib/site-packages/numpy/lib/histograms.py?line=408'>409</a>\u001b[0m     width \u001b[39m=\u001b[39m _hist_bin_selectors[bin_name](a, (first_edge, last_edge))\n\u001b[0;32m    <a href='file:///d%3A/zzzzzzPROGRAMING/miniconda3/envs/datascience/lib/site-packages/numpy/lib/histograms.py?line=409'>410</a>\u001b[0m     \u001b[39mif\u001b[39;00m width:\n\u001b[0;32m    <a href='file:///d%3A/zzzzzzPROGRAMING/miniconda3/envs/datascience/lib/site-packages/numpy/lib/histograms.py?line=410'>411</a>\u001b[0m         n_equal_bins \u001b[39m=\u001b[39m \u001b[39mint\u001b[39m(np\u001b[39m.\u001b[39mceil(_unsigned_subtract(last_edge, first_edge) \u001b[39m/\u001b[39m width))\n",
      "File \u001b[1;32mD:\\zzzzzzPROGRAMING\\miniconda3\\envs\\datascience\\lib\\site-packages\\numpy\\lib\\histograms.py:264\u001b[0m, in \u001b[0;36m_hist_bin_auto\u001b[1;34m(x, range)\u001b[0m\n\u001b[0;32m    <a href='file:///d%3A/zzzzzzPROGRAMING/miniconda3/envs/datascience/lib/site-packages/numpy/lib/histograms.py?line=229'>230</a>\u001b[0m \u001b[39m\"\"\"\u001b[39;00m\n\u001b[0;32m    <a href='file:///d%3A/zzzzzzPROGRAMING/miniconda3/envs/datascience/lib/site-packages/numpy/lib/histograms.py?line=230'>231</a>\u001b[0m \u001b[39mHistogram bin estimator that uses the minimum width of the\u001b[39;00m\n\u001b[0;32m    <a href='file:///d%3A/zzzzzzPROGRAMING/miniconda3/envs/datascience/lib/site-packages/numpy/lib/histograms.py?line=231'>232</a>\u001b[0m \u001b[39mFreedman-Diaconis and Sturges estimators if the FD bin width is non-zero.\u001b[39;00m\n\u001b[1;32m   (...)\u001b[0m\n\u001b[0;32m    <a href='file:///d%3A/zzzzzzPROGRAMING/miniconda3/envs/datascience/lib/site-packages/numpy/lib/histograms.py?line=260'>261</a>\u001b[0m \u001b[39m_hist_bin_fd, _hist_bin_sturges\u001b[39;00m\n\u001b[0;32m    <a href='file:///d%3A/zzzzzzPROGRAMING/miniconda3/envs/datascience/lib/site-packages/numpy/lib/histograms.py?line=261'>262</a>\u001b[0m \u001b[39m\"\"\"\u001b[39;00m\n\u001b[0;32m    <a href='file:///d%3A/zzzzzzPROGRAMING/miniconda3/envs/datascience/lib/site-packages/numpy/lib/histograms.py?line=262'>263</a>\u001b[0m fd_bw \u001b[39m=\u001b[39m _hist_bin_fd(x, \u001b[39mrange\u001b[39m)\n\u001b[1;32m--> <a href='file:///d%3A/zzzzzzPROGRAMING/miniconda3/envs/datascience/lib/site-packages/numpy/lib/histograms.py?line=263'>264</a>\u001b[0m sturges_bw \u001b[39m=\u001b[39m _hist_bin_sturges(x, \u001b[39mrange\u001b[39;49m)\n\u001b[0;32m    <a href='file:///d%3A/zzzzzzPROGRAMING/miniconda3/envs/datascience/lib/site-packages/numpy/lib/histograms.py?line=264'>265</a>\u001b[0m \u001b[39mdel\u001b[39;00m \u001b[39mrange\u001b[39m  \u001b[39m# unused\u001b[39;00m\n\u001b[0;32m    <a href='file:///d%3A/zzzzzzPROGRAMING/miniconda3/envs/datascience/lib/site-packages/numpy/lib/histograms.py?line=265'>266</a>\u001b[0m \u001b[39mif\u001b[39;00m fd_bw:\n",
      "File \u001b[1;32mD:\\zzzzzzPROGRAMING\\miniconda3\\envs\\datascience\\lib\\site-packages\\numpy\\lib\\histograms.py:73\u001b[0m, in \u001b[0;36m_hist_bin_sturges\u001b[1;34m(***failed resolving arguments***)\u001b[0m\n\u001b[0;32m     <a href='file:///d%3A/zzzzzzPROGRAMING/miniconda3/envs/datascience/lib/site-packages/numpy/lib/histograms.py?line=53'>54</a>\u001b[0m \u001b[39m\"\"\"\u001b[39;00m\n\u001b[0;32m     <a href='file:///d%3A/zzzzzzPROGRAMING/miniconda3/envs/datascience/lib/site-packages/numpy/lib/histograms.py?line=54'>55</a>\u001b[0m \u001b[39mSturges histogram bin estimator.\u001b[39;00m\n\u001b[0;32m     <a href='file:///d%3A/zzzzzzPROGRAMING/miniconda3/envs/datascience/lib/site-packages/numpy/lib/histograms.py?line=55'>56</a>\u001b[0m \n\u001b[1;32m   (...)\u001b[0m\n\u001b[0;32m     <a href='file:///d%3A/zzzzzzPROGRAMING/miniconda3/envs/datascience/lib/site-packages/numpy/lib/histograms.py?line=69'>70</a>\u001b[0m \u001b[39mh : An estimate of the optimal bin width for the given data.\u001b[39;00m\n\u001b[0;32m     <a href='file:///d%3A/zzzzzzPROGRAMING/miniconda3/envs/datascience/lib/site-packages/numpy/lib/histograms.py?line=70'>71</a>\u001b[0m \u001b[39m\"\"\"\u001b[39;00m\n\u001b[0;32m     <a href='file:///d%3A/zzzzzzPROGRAMING/miniconda3/envs/datascience/lib/site-packages/numpy/lib/histograms.py?line=71'>72</a>\u001b[0m \u001b[39mdel\u001b[39;00m \u001b[39mrange\u001b[39m  \u001b[39m# unused\u001b[39;00m\n\u001b[1;32m---> <a href='file:///d%3A/zzzzzzPROGRAMING/miniconda3/envs/datascience/lib/site-packages/numpy/lib/histograms.py?line=72'>73</a>\u001b[0m \u001b[39mreturn\u001b[39;00m _ptp(x) \u001b[39m/\u001b[39m (np\u001b[39m.\u001b[39mlog2(x\u001b[39m.\u001b[39msize) \u001b[39m+\u001b[39m \u001b[39m1.0\u001b[39m)\n",
      "File \u001b[1;32mD:\\zzzzzzPROGRAMING\\miniconda3\\envs\\datascience\\lib\\site-packages\\numpy\\lib\\histograms.py:29\u001b[0m, in \u001b[0;36m_ptp\u001b[1;34m(x)\u001b[0m\n\u001b[0;32m     <a href='file:///d%3A/zzzzzzPROGRAMING/miniconda3/envs/datascience/lib/site-packages/numpy/lib/histograms.py?line=21'>22</a>\u001b[0m \u001b[39mdef\u001b[39;00m \u001b[39m_ptp\u001b[39m(x):\n\u001b[0;32m     <a href='file:///d%3A/zzzzzzPROGRAMING/miniconda3/envs/datascience/lib/site-packages/numpy/lib/histograms.py?line=22'>23</a>\u001b[0m     \u001b[39m\"\"\"Peak-to-peak value of x.\u001b[39;00m\n\u001b[0;32m     <a href='file:///d%3A/zzzzzzPROGRAMING/miniconda3/envs/datascience/lib/site-packages/numpy/lib/histograms.py?line=23'>24</a>\u001b[0m \n\u001b[0;32m     <a href='file:///d%3A/zzzzzzPROGRAMING/miniconda3/envs/datascience/lib/site-packages/numpy/lib/histograms.py?line=24'>25</a>\u001b[0m \u001b[39m    This implementation avoids the problem of signed integer arrays having a\u001b[39;00m\n\u001b[0;32m     <a href='file:///d%3A/zzzzzzPROGRAMING/miniconda3/envs/datascience/lib/site-packages/numpy/lib/histograms.py?line=25'>26</a>\u001b[0m \u001b[39m    peak-to-peak value that cannot be represented with the array's data type.\u001b[39;00m\n\u001b[0;32m     <a href='file:///d%3A/zzzzzzPROGRAMING/miniconda3/envs/datascience/lib/site-packages/numpy/lib/histograms.py?line=26'>27</a>\u001b[0m \u001b[39m    This function returns an unsigned value for signed integer arrays.\u001b[39;00m\n\u001b[0;32m     <a href='file:///d%3A/zzzzzzPROGRAMING/miniconda3/envs/datascience/lib/site-packages/numpy/lib/histograms.py?line=27'>28</a>\u001b[0m \u001b[39m    \"\"\"\u001b[39;00m\n\u001b[1;32m---> <a href='file:///d%3A/zzzzzzPROGRAMING/miniconda3/envs/datascience/lib/site-packages/numpy/lib/histograms.py?line=28'>29</a>\u001b[0m     \u001b[39mreturn\u001b[39;00m _unsigned_subtract(x\u001b[39m.\u001b[39;49mmax(), x\u001b[39m.\u001b[39;49mmin())\n",
      "File \u001b[1;32mD:\\zzzzzzPROGRAMING\\miniconda3\\envs\\datascience\\lib\\site-packages\\numpy\\lib\\histograms.py:353\u001b[0m, in \u001b[0;36m_unsigned_subtract\u001b[1;34m(a, b)\u001b[0m\n\u001b[0;32m    <a href='file:///d%3A/zzzzzzPROGRAMING/miniconda3/envs/datascience/lib/site-packages/numpy/lib/histograms.py?line=350'>351</a>\u001b[0m     dt \u001b[39m=\u001b[39m signed_to_unsigned[dt\u001b[39m.\u001b[39mtype]\n\u001b[0;32m    <a href='file:///d%3A/zzzzzzPROGRAMING/miniconda3/envs/datascience/lib/site-packages/numpy/lib/histograms.py?line=351'>352</a>\u001b[0m \u001b[39mexcept\u001b[39;00m \u001b[39mKeyError\u001b[39;00m:\n\u001b[1;32m--> <a href='file:///d%3A/zzzzzzPROGRAMING/miniconda3/envs/datascience/lib/site-packages/numpy/lib/histograms.py?line=352'>353</a>\u001b[0m     \u001b[39mreturn\u001b[39;00m np\u001b[39m.\u001b[39;49msubtract(a, b, dtype\u001b[39m=\u001b[39;49mdt)\n\u001b[0;32m    <a href='file:///d%3A/zzzzzzPROGRAMING/miniconda3/envs/datascience/lib/site-packages/numpy/lib/histograms.py?line=353'>354</a>\u001b[0m \u001b[39melse\u001b[39;00m:\n\u001b[0;32m    <a href='file:///d%3A/zzzzzzPROGRAMING/miniconda3/envs/datascience/lib/site-packages/numpy/lib/histograms.py?line=354'>355</a>\u001b[0m     \u001b[39m# we know the inputs are integers, and we are deliberately casting\u001b[39;00m\n\u001b[0;32m    <a href='file:///d%3A/zzzzzzPROGRAMING/miniconda3/envs/datascience/lib/site-packages/numpy/lib/histograms.py?line=355'>356</a>\u001b[0m     \u001b[39m# signed to unsigned\u001b[39;00m\n\u001b[0;32m    <a href='file:///d%3A/zzzzzzPROGRAMING/miniconda3/envs/datascience/lib/site-packages/numpy/lib/histograms.py?line=356'>357</a>\u001b[0m     \u001b[39mreturn\u001b[39;00m np\u001b[39m.\u001b[39msubtract(a, b, casting\u001b[39m=\u001b[39m\u001b[39m'\u001b[39m\u001b[39munsafe\u001b[39m\u001b[39m'\u001b[39m, dtype\u001b[39m=\u001b[39mdt)\n",
      "\u001b[1;31mTypeError\u001b[0m: numpy boolean subtract, the `-` operator, is not supported, use the bitwise_xor, the `^` operator, or the logical_xor function instead."
     ]
    },
    {
     "data": {
      "image/png": "[encoded data removed]",
      "text/plain": [
       "<Figure size 1440x1440 with 72 Axes>"
      ]
     },
     "metadata": {
      "needs_background": "light"
     },
     "output_type": "display_data"
    }
   ],
   "source": [
    "sns.pairplot(data=df)"
   ]
  },
  {
   "cell_type": "markdown",
   "metadata": {},
   "source": [
    "### Exercise"
   ]
  },
  {
   "cell_type": "code",
   "execution_count": null,
   "metadata": {},
   "outputs": [
    {
     "data": {
      "text/html": [
       "<div>\n",
       "<style scoped>\n",
       "    .dataframe tbody tr th:only-of-type {\n",
       "        vertical-align: middle;\n",
       "    }\n",
       "\n",
       "    .dataframe tbody tr th {\n",
       "        vertical-align: top;\n",
       "    }\n",
       "\n",
       "    .dataframe thead th {\n",
       "        text-align: right;\n",
       "    }\n",
       "</style>\n",
       "<table border=\"1\" class=\"dataframe\">\n",
       "  <thead>\n",
       "    <tr style=\"text-align: right;\">\n",
       "      <th></th>\n",
       "      <th>customerID</th>\n",
       "      <th>gender</th>\n",
       "      <th>SeniorCitizen</th>\n",
       "      <th>Partner</th>\n",
       "      <th>Dependents</th>\n",
       "      <th>tenure</th>\n",
       "      <th>PhoneService</th>\n",
       "      <th>MultipleLines</th>\n",
       "      <th>InternetService</th>\n",
       "      <th>OnlineSecurity</th>\n",
       "      <th>...</th>\n",
       "      <th>DeviceProtection</th>\n",
       "      <th>TechSupport</th>\n",
       "      <th>StreamingTV</th>\n",
       "      <th>StreamingMovies</th>\n",
       "      <th>Contract</th>\n",
       "      <th>PaperlessBilling</th>\n",
       "      <th>PaymentMethod</th>\n",
       "      <th>MonthlyCharges</th>\n",
       "      <th>TotalCharges</th>\n",
       "      <th>Churn</th>\n",
       "    </tr>\n",
       "  </thead>\n",
       "  <tbody>\n",
       "    <tr>\n",
       "      <th>0</th>\n",
       "      <td>7590-VHVEG</td>\n",
       "      <td>Female</td>\n",
       "      <td>0</td>\n",
       "      <td>Yes</td>\n",
       "      <td>No</td>\n",
       "      <td>1</td>\n",
       "      <td>No</td>\n",
       "      <td>No phone service</td>\n",
       "      <td>DSL</td>\n",
       "      <td>No</td>\n",
       "      <td>...</td>\n",
       "      <td>No</td>\n",
       "      <td>No</td>\n",
       "      <td>No</td>\n",
       "      <td>No</td>\n",
       "      <td>Month-to-month</td>\n",
       "      <td>Yes</td>\n",
       "      <td>Electronic check</td>\n",
       "      <td>29.85</td>\n",
       "      <td>29.85</td>\n",
       "      <td>No</td>\n",
       "    </tr>\n",
       "    <tr>\n",
       "      <th>1</th>\n",
       "      <td>5575-GNVDE</td>\n",
       "      <td>Male</td>\n",
       "      <td>0</td>\n",
       "      <td>No</td>\n",
       "      <td>No</td>\n",
       "      <td>34</td>\n",
       "      <td>Yes</td>\n",
       "      <td>No</td>\n",
       "      <td>DSL</td>\n",
       "      <td>Yes</td>\n",
       "      <td>...</td>\n",
       "      <td>Yes</td>\n",
       "      <td>No</td>\n",
       "      <td>No</td>\n",
       "      <td>No</td>\n",
       "      <td>One year</td>\n",
       "      <td>No</td>\n",
       "      <td>Mailed check</td>\n",
       "      <td>56.95</td>\n",
       "      <td>1889.5</td>\n",
       "      <td>No</td>\n",
       "    </tr>\n",
       "    <tr>\n",
       "      <th>2</th>\n",
       "      <td>3668-QPYBK</td>\n",
       "      <td>Male</td>\n",
       "      <td>0</td>\n",
       "      <td>No</td>\n",
       "      <td>No</td>\n",
       "      <td>2</td>\n",
       "      <td>Yes</td>\n",
       "      <td>No</td>\n",
       "      <td>DSL</td>\n",
       "      <td>Yes</td>\n",
       "      <td>...</td>\n",
       "      <td>No</td>\n",
       "      <td>No</td>\n",
       "      <td>No</td>\n",
       "      <td>No</td>\n",
       "      <td>Month-to-month</td>\n",
       "      <td>Yes</td>\n",
       "      <td>Mailed check</td>\n",
       "      <td>53.85</td>\n",
       "      <td>108.15</td>\n",
       "      <td>Yes</td>\n",
       "    </tr>\n",
       "    <tr>\n",
       "      <th>3</th>\n",
       "      <td>7795-CFOCW</td>\n",
       "      <td>Male</td>\n",
       "      <td>0</td>\n",
       "      <td>No</td>\n",
       "      <td>No</td>\n",
       "      <td>45</td>\n",
       "      <td>No</td>\n",
       "      <td>No phone service</td>\n",
       "      <td>DSL</td>\n",
       "      <td>Yes</td>\n",
       "      <td>...</td>\n",
       "      <td>Yes</td>\n",
       "      <td>Yes</td>\n",
       "      <td>No</td>\n",
       "      <td>No</td>\n",
       "      <td>One year</td>\n",
       "      <td>No</td>\n",
       "      <td>Bank transfer (automatic)</td>\n",
       "      <td>42.30</td>\n",
       "      <td>1840.75</td>\n",
       "      <td>No</td>\n",
       "    </tr>\n",
       "    <tr>\n",
       "      <th>4</th>\n",
       "      <td>9237-HQITU</td>\n",
       "      <td>Female</td>\n",
       "      <td>0</td>\n",
       "      <td>No</td>\n",
       "      <td>No</td>\n",
       "      <td>2</td>\n",
       "      <td>Yes</td>\n",
       "      <td>No</td>\n",
       "      <td>Fiber optic</td>\n",
       "      <td>No</td>\n",
       "      <td>...</td>\n",
       "      <td>No</td>\n",
       "      <td>No</td>\n",
       "      <td>No</td>\n",
       "      <td>No</td>\n",
       "      <td>Month-to-month</td>\n",
       "      <td>Yes</td>\n",
       "      <td>Electronic check</td>\n",
       "      <td>70.70</td>\n",
       "      <td>151.65</td>\n",
       "      <td>Yes</td>\n",
       "    </tr>\n",
       "  </tbody>\n",
       "</table>\n",
       "<p>5 rows × 21 columns</p>\n",
       "</div>"
      ],
      "text/plain": [
       "   customerID  gender  SeniorCitizen Partner Dependents  tenure PhoneService  \\\n",
       "0  7590-VHVEG  Female              0     Yes         No       1           No   \n",
       "1  5575-GNVDE    Male              0      No         No      34          Yes   \n",
       "2  3668-QPYBK    Male              0      No         No       2          Yes   \n",
       "3  7795-CFOCW    Male              0      No         No      45           No   \n",
       "4  9237-HQITU  Female              0      No         No       2          Yes   \n",
       "\n",
       "      MultipleLines InternetService OnlineSecurity  ... DeviceProtection  \\\n",
       "0  No phone service             DSL             No  ...               No   \n",
       "1                No             DSL            Yes  ...              Yes   \n",
       "2                No             DSL            Yes  ...               No   \n",
       "3  No phone service             DSL            Yes  ...              Yes   \n",
       "4                No     Fiber optic             No  ...               No   \n",
       "\n",
       "  TechSupport StreamingTV StreamingMovies        Contract PaperlessBilling  \\\n",
       "0          No          No              No  Month-to-month              Yes   \n",
       "1          No          No              No        One year               No   \n",
       "2          No          No              No  Month-to-month              Yes   \n",
       "3         Yes          No              No        One year               No   \n",
       "4          No          No              No  Month-to-month              Yes   \n",
       "\n",
       "               PaymentMethod MonthlyCharges  TotalCharges Churn  \n",
       "0           Electronic check          29.85         29.85    No  \n",
       "1               Mailed check          56.95        1889.5    No  \n",
       "2               Mailed check          53.85        108.15   Yes  \n",
       "3  Bank transfer (automatic)          42.30       1840.75    No  \n",
       "4           Electronic check          70.70        151.65   Yes  \n",
       "\n",
       "[5 rows x 21 columns]"
      ]
     },
     "execution_count": 32,
     "metadata": {},
     "output_type": "execute_result"
    }
   ],
   "source": [
    "## Read the csv file in the same file and print the head()\n",
    "\n",
    "##########Sol Here##########\n",
    "dataFrame=pd.read_csv('Customer-Churn.csv')\n",
    "dataFrame.head()"
   ]
  },
  {
   "cell_type": "code",
   "execution_count": null,
   "metadata": {},
   "outputs": [
    {
     "data": {
      "text/plain": [
       "(7043, 21)"
      ]
     },
     "execution_count": 33,
     "metadata": {},
     "output_type": "execute_result"
    }
   ],
   "source": [
    "## Print the shape of the data \n",
    "##########Sol Here##########\n",
    "dataFrame.shape"
   ]
  },
  {
   "cell_type": "code",
   "execution_count": null,
   "metadata": {},
   "outputs": [
    {
     "data": {
      "text/plain": [
       "customerID          0\n",
       "gender              0\n",
       "SeniorCitizen       0\n",
       "Partner             0\n",
       "Dependents          0\n",
       "tenure              0\n",
       "PhoneService        0\n",
       "MultipleLines       0\n",
       "InternetService     0\n",
       "OnlineSecurity      0\n",
       "OnlineBackup        0\n",
       "DeviceProtection    0\n",
       "TechSupport         0\n",
       "StreamingTV         0\n",
       "StreamingMovies     0\n",
       "Contract            0\n",
       "PaperlessBilling    0\n",
       "PaymentMethod       0\n",
       "MonthlyCharges      0\n",
       "TotalCharges        0\n",
       "Churn               0\n",
       "dtype: int64"
      ]
     },
     "execution_count": 34,
     "metadata": {},
     "output_type": "execute_result"
    }
   ],
   "source": [
    "## print total number of nans for each column\n",
    "\n",
    "##########Sol Here##########\n",
    "dataFrame.isna().sum()"
   ]
  },
  {
   "cell_type": "code",
   "execution_count": null,
   "metadata": {},
   "outputs": [
    {
     "data": {
      "text/plain": [
       "customerID           object\n",
       "gender               object\n",
       "SeniorCitizen         int64\n",
       "Partner              object\n",
       "Dependents           object\n",
       "tenure                int64\n",
       "PhoneService         object\n",
       "MultipleLines        object\n",
       "InternetService      object\n",
       "OnlineSecurity       object\n",
       "OnlineBackup         object\n",
       "DeviceProtection     object\n",
       "TechSupport          object\n",
       "StreamingTV          object\n",
       "StreamingMovies      object\n",
       "Contract             object\n",
       "PaperlessBilling     object\n",
       "PaymentMethod        object\n",
       "MonthlyCharges      float64\n",
       "TotalCharges         object\n",
       "Churn                object\n",
       "dtype: object"
      ]
     },
     "execution_count": 35,
     "metadata": {},
     "output_type": "execute_result"
    }
   ],
   "source": [
    "## Print datatype of the columns\n",
    "\n",
    "##########Sol Here##########\n",
    "dataFrame.dtypes"
   ]
  },
  {
   "cell_type": "code",
   "execution_count": null,
   "metadata": {},
   "outputs": [],
   "source": [
    "## Drop customer_id columns\n",
    "\n",
    "##########Sol Here##########\n",
    "dataFrame.drop(['customerID'],axis=1,inplace=True)"
   ]
  },
  {
   "cell_type": "code",
   "execution_count": null,
   "metadata": {},
   "outputs": [
    {
     "data": {
      "text/html": [
       "<div>\n",
       "<style scoped>\n",
       "    .dataframe tbody tr th:only-of-type {\n",
       "        vertical-align: middle;\n",
       "    }\n",
       "\n",
       "    .dataframe tbody tr th {\n",
       "        vertical-align: top;\n",
       "    }\n",
       "\n",
       "    .dataframe thead th {\n",
       "        text-align: right;\n",
       "    }\n",
       "</style>\n",
       "<table border=\"1\" class=\"dataframe\">\n",
       "  <thead>\n",
       "    <tr style=\"text-align: right;\">\n",
       "      <th></th>\n",
       "      <th>MonthlyCharges</th>\n",
       "      <th>TotalCharges</th>\n",
       "      <th>Churn</th>\n",
       "    </tr>\n",
       "  </thead>\n",
       "  <tbody>\n",
       "    <tr>\n",
       "      <th>0</th>\n",
       "      <td>29.85</td>\n",
       "      <td>29.85</td>\n",
       "      <td>No</td>\n",
       "    </tr>\n",
       "    <tr>\n",
       "      <th>1</th>\n",
       "      <td>56.95</td>\n",
       "      <td>1889.5</td>\n",
       "      <td>No</td>\n",
       "    </tr>\n",
       "    <tr>\n",
       "      <th>2</th>\n",
       "      <td>53.85</td>\n",
       "      <td>108.15</td>\n",
       "      <td>Yes</td>\n",
       "    </tr>\n",
       "    <tr>\n",
       "      <th>3</th>\n",
       "      <td>42.30</td>\n",
       "      <td>1840.75</td>\n",
       "      <td>No</td>\n",
       "    </tr>\n",
       "    <tr>\n",
       "      <th>4</th>\n",
       "      <td>70.70</td>\n",
       "      <td>151.65</td>\n",
       "      <td>Yes</td>\n",
       "    </tr>\n",
       "    <tr>\n",
       "      <th>...</th>\n",
       "      <td>...</td>\n",
       "      <td>...</td>\n",
       "      <td>...</td>\n",
       "    </tr>\n",
       "    <tr>\n",
       "      <th>7038</th>\n",
       "      <td>84.80</td>\n",
       "      <td>1990.5</td>\n",
       "      <td>No</td>\n",
       "    </tr>\n",
       "    <tr>\n",
       "      <th>7039</th>\n",
       "      <td>103.20</td>\n",
       "      <td>7362.9</td>\n",
       "      <td>No</td>\n",
       "    </tr>\n",
       "    <tr>\n",
       "      <th>7040</th>\n",
       "      <td>29.60</td>\n",
       "      <td>346.45</td>\n",
       "      <td>No</td>\n",
       "    </tr>\n",
       "    <tr>\n",
       "      <th>7041</th>\n",
       "      <td>74.40</td>\n",
       "      <td>306.6</td>\n",
       "      <td>Yes</td>\n",
       "    </tr>\n",
       "    <tr>\n",
       "      <th>7042</th>\n",
       "      <td>105.65</td>\n",
       "      <td>6844.5</td>\n",
       "      <td>No</td>\n",
       "    </tr>\n",
       "  </tbody>\n",
       "</table>\n",
       "<p>7043 rows × 3 columns</p>\n",
       "</div>"
      ],
      "text/plain": [
       "      MonthlyCharges TotalCharges Churn\n",
       "0              29.85        29.85    No\n",
       "1              56.95       1889.5    No\n",
       "2              53.85       108.15   Yes\n",
       "3              42.30      1840.75    No\n",
       "4              70.70       151.65   Yes\n",
       "...              ...          ...   ...\n",
       "7038           84.80       1990.5    No\n",
       "7039          103.20       7362.9    No\n",
       "7040           29.60       346.45    No\n",
       "7041           74.40        306.6   Yes\n",
       "7042          105.65       6844.5    No\n",
       "\n",
       "[7043 rows x 3 columns]"
      ]
     },
     "execution_count": 37,
     "metadata": {},
     "output_type": "execute_result"
    }
   ],
   "source": [
    "## Reterive last 3 columns of the dataframe\n",
    "\n",
    "##########Sol Here##########\n",
    "dataFrame.iloc[:,-3:]"
   ]
  },
  {
   "cell_type": "code",
   "execution_count": null,
   "metadata": {},
   "outputs": [
    {
     "name": "stderr",
     "output_type": "stream",
     "text": [
      "<ipython-input-39-f75fdf241297>:6: SettingWithCopyWarning: \n",
      "A value is trying to be set on a copy of a slice from a DataFrame.\n",
      "Try using .loc[row_indexer,col_indexer] = value instead\n",
      "\n",
      "See the caveats in the documentation: https://pandas.pydata.org/pandas-docs/stable/user_guide/indexing.html#returning-a-view-versus-a-copy\n",
      "  dataFrame['TotalCharges']=dataFrame['TotalCharges'].astype('float')\n"
     ]
    }
   ],
   "source": [
    "## Try Converting TotalCharges to float \n",
    "## you should get error try to solve this error then convert it to float\n",
    "\n",
    "##########Sol Here##########\n",
    "dataFrame=dataFrame[dataFrame['TotalCharges']!=' ']\n",
    "dataFrame['TotalCharges']=dataFrame['TotalCharges'].astype('float')"
   ]
  },
  {
   "cell_type": "code",
   "execution_count": null,
   "metadata": {},
   "outputs": [
    {
     "data": {
      "text/html": [
       "<div>\n",
       "<style scoped>\n",
       "    .dataframe tbody tr th:only-of-type {\n",
       "        vertical-align: middle;\n",
       "    }\n",
       "\n",
       "    .dataframe tbody tr th {\n",
       "        vertical-align: top;\n",
       "    }\n",
       "\n",
       "    .dataframe thead th {\n",
       "        text-align: right;\n",
       "    }\n",
       "</style>\n",
       "<table border=\"1\" class=\"dataframe\">\n",
       "  <thead>\n",
       "    <tr style=\"text-align: right;\">\n",
       "      <th></th>\n",
       "      <th>gender</th>\n",
       "      <th>SeniorCitizen</th>\n",
       "      <th>Partner</th>\n",
       "      <th>Dependents</th>\n",
       "      <th>tenure</th>\n",
       "      <th>PhoneService</th>\n",
       "      <th>MultipleLines</th>\n",
       "      <th>InternetService</th>\n",
       "      <th>OnlineSecurity</th>\n",
       "      <th>OnlineBackup</th>\n",
       "      <th>DeviceProtection</th>\n",
       "      <th>TechSupport</th>\n",
       "      <th>StreamingTV</th>\n",
       "      <th>StreamingMovies</th>\n",
       "      <th>Contract</th>\n",
       "      <th>PaperlessBilling</th>\n",
       "      <th>PaymentMethod</th>\n",
       "      <th>MonthlyCharges</th>\n",
       "      <th>TotalCharges</th>\n",
       "      <th>Churn</th>\n",
       "    </tr>\n",
       "  </thead>\n",
       "  <tbody>\n",
       "    <tr>\n",
       "      <th>7</th>\n",
       "      <td>Female</td>\n",
       "      <td>0</td>\n",
       "      <td>No</td>\n",
       "      <td>No</td>\n",
       "      <td>10</td>\n",
       "      <td>No</td>\n",
       "      <td>No phone service</td>\n",
       "      <td>DSL</td>\n",
       "      <td>Yes</td>\n",
       "      <td>No</td>\n",
       "      <td>No</td>\n",
       "      <td>No</td>\n",
       "      <td>No</td>\n",
       "      <td>No</td>\n",
       "      <td>Month-to-month</td>\n",
       "      <td>No</td>\n",
       "      <td>Mailed check</td>\n",
       "      <td>29.75</td>\n",
       "      <td>301.90</td>\n",
       "      <td>No</td>\n",
       "    </tr>\n",
       "    <tr>\n",
       "      <th>11</th>\n",
       "      <td>Male</td>\n",
       "      <td>0</td>\n",
       "      <td>No</td>\n",
       "      <td>No</td>\n",
       "      <td>16</td>\n",
       "      <td>Yes</td>\n",
       "      <td>No</td>\n",
       "      <td>No</td>\n",
       "      <td>No internet service</td>\n",
       "      <td>No internet service</td>\n",
       "      <td>No internet service</td>\n",
       "      <td>No internet service</td>\n",
       "      <td>No internet service</td>\n",
       "      <td>No internet service</td>\n",
       "      <td>Two year</td>\n",
       "      <td>No</td>\n",
       "      <td>Credit card (automatic)</td>\n",
       "      <td>18.95</td>\n",
       "      <td>326.80</td>\n",
       "      <td>No</td>\n",
       "    </tr>\n",
       "    <tr>\n",
       "      <th>21</th>\n",
       "      <td>Male</td>\n",
       "      <td>0</td>\n",
       "      <td>Yes</td>\n",
       "      <td>No</td>\n",
       "      <td>12</td>\n",
       "      <td>Yes</td>\n",
       "      <td>No</td>\n",
       "      <td>No</td>\n",
       "      <td>No internet service</td>\n",
       "      <td>No internet service</td>\n",
       "      <td>No internet service</td>\n",
       "      <td>No internet service</td>\n",
       "      <td>No internet service</td>\n",
       "      <td>No internet service</td>\n",
       "      <td>One year</td>\n",
       "      <td>No</td>\n",
       "      <td>Bank transfer (automatic)</td>\n",
       "      <td>19.80</td>\n",
       "      <td>202.25</td>\n",
       "      <td>No</td>\n",
       "    </tr>\n",
       "    <tr>\n",
       "      <th>36</th>\n",
       "      <td>Male</td>\n",
       "      <td>0</td>\n",
       "      <td>No</td>\n",
       "      <td>No</td>\n",
       "      <td>5</td>\n",
       "      <td>Yes</td>\n",
       "      <td>No</td>\n",
       "      <td>Fiber optic</td>\n",
       "      <td>No</td>\n",
       "      <td>No</td>\n",
       "      <td>No</td>\n",
       "      <td>No</td>\n",
       "      <td>No</td>\n",
       "      <td>No</td>\n",
       "      <td>Month-to-month</td>\n",
       "      <td>Yes</td>\n",
       "      <td>Electronic check</td>\n",
       "      <td>69.70</td>\n",
       "      <td>316.90</td>\n",
       "      <td>Yes</td>\n",
       "    </tr>\n",
       "    <tr>\n",
       "      <th>40</th>\n",
       "      <td>Male</td>\n",
       "      <td>0</td>\n",
       "      <td>Yes</td>\n",
       "      <td>Yes</td>\n",
       "      <td>10</td>\n",
       "      <td>Yes</td>\n",
       "      <td>No</td>\n",
       "      <td>DSL</td>\n",
       "      <td>No</td>\n",
       "      <td>Yes</td>\n",
       "      <td>No</td>\n",
       "      <td>No</td>\n",
       "      <td>No</td>\n",
       "      <td>No</td>\n",
       "      <td>One year</td>\n",
       "      <td>No</td>\n",
       "      <td>Mailed check</td>\n",
       "      <td>49.55</td>\n",
       "      <td>475.70</td>\n",
       "      <td>No</td>\n",
       "    </tr>\n",
       "    <tr>\n",
       "      <th>...</th>\n",
       "      <td>...</td>\n",
       "      <td>...</td>\n",
       "      <td>...</td>\n",
       "      <td>...</td>\n",
       "      <td>...</td>\n",
       "      <td>...</td>\n",
       "      <td>...</td>\n",
       "      <td>...</td>\n",
       "      <td>...</td>\n",
       "      <td>...</td>\n",
       "      <td>...</td>\n",
       "      <td>...</td>\n",
       "      <td>...</td>\n",
       "      <td>...</td>\n",
       "      <td>...</td>\n",
       "      <td>...</td>\n",
       "      <td>...</td>\n",
       "      <td>...</td>\n",
       "      <td>...</td>\n",
       "      <td>...</td>\n",
       "    </tr>\n",
       "    <tr>\n",
       "      <th>7020</th>\n",
       "      <td>Male</td>\n",
       "      <td>0</td>\n",
       "      <td>Yes</td>\n",
       "      <td>Yes</td>\n",
       "      <td>12</td>\n",
       "      <td>Yes</td>\n",
       "      <td>No</td>\n",
       "      <td>No</td>\n",
       "      <td>No internet service</td>\n",
       "      <td>No internet service</td>\n",
       "      <td>No internet service</td>\n",
       "      <td>No internet service</td>\n",
       "      <td>No internet service</td>\n",
       "      <td>No internet service</td>\n",
       "      <td>Month-to-month</td>\n",
       "      <td>Yes</td>\n",
       "      <td>Electronic check</td>\n",
       "      <td>19.20</td>\n",
       "      <td>239.00</td>\n",
       "      <td>No</td>\n",
       "    </tr>\n",
       "    <tr>\n",
       "      <th>7026</th>\n",
       "      <td>Female</td>\n",
       "      <td>0</td>\n",
       "      <td>No</td>\n",
       "      <td>No</td>\n",
       "      <td>9</td>\n",
       "      <td>Yes</td>\n",
       "      <td>No</td>\n",
       "      <td>DSL</td>\n",
       "      <td>No</td>\n",
       "      <td>No</td>\n",
       "      <td>No</td>\n",
       "      <td>No</td>\n",
       "      <td>No</td>\n",
       "      <td>No</td>\n",
       "      <td>Month-to-month</td>\n",
       "      <td>Yes</td>\n",
       "      <td>Bank transfer (automatic)</td>\n",
       "      <td>44.20</td>\n",
       "      <td>403.35</td>\n",
       "      <td>Yes</td>\n",
       "    </tr>\n",
       "    <tr>\n",
       "      <th>7029</th>\n",
       "      <td>Female</td>\n",
       "      <td>1</td>\n",
       "      <td>No</td>\n",
       "      <td>No</td>\n",
       "      <td>6</td>\n",
       "      <td>No</td>\n",
       "      <td>No phone service</td>\n",
       "      <td>DSL</td>\n",
       "      <td>No</td>\n",
       "      <td>No</td>\n",
       "      <td>No</td>\n",
       "      <td>No</td>\n",
       "      <td>Yes</td>\n",
       "      <td>Yes</td>\n",
       "      <td>Month-to-month</td>\n",
       "      <td>Yes</td>\n",
       "      <td>Electronic check</td>\n",
       "      <td>44.40</td>\n",
       "      <td>263.05</td>\n",
       "      <td>No</td>\n",
       "    </tr>\n",
       "    <tr>\n",
       "      <th>7040</th>\n",
       "      <td>Female</td>\n",
       "      <td>0</td>\n",
       "      <td>Yes</td>\n",
       "      <td>Yes</td>\n",
       "      <td>11</td>\n",
       "      <td>No</td>\n",
       "      <td>No phone service</td>\n",
       "      <td>DSL</td>\n",
       "      <td>Yes</td>\n",
       "      <td>No</td>\n",
       "      <td>No</td>\n",
       "      <td>No</td>\n",
       "      <td>No</td>\n",
       "      <td>No</td>\n",
       "      <td>Month-to-month</td>\n",
       "      <td>Yes</td>\n",
       "      <td>Electronic check</td>\n",
       "      <td>29.60</td>\n",
       "      <td>346.45</td>\n",
       "      <td>No</td>\n",
       "    </tr>\n",
       "    <tr>\n",
       "      <th>7041</th>\n",
       "      <td>Male</td>\n",
       "      <td>1</td>\n",
       "      <td>Yes</td>\n",
       "      <td>No</td>\n",
       "      <td>4</td>\n",
       "      <td>Yes</td>\n",
       "      <td>Yes</td>\n",
       "      <td>Fiber optic</td>\n",
       "      <td>No</td>\n",
       "      <td>No</td>\n",
       "      <td>No</td>\n",
       "      <td>No</td>\n",
       "      <td>No</td>\n",
       "      <td>No</td>\n",
       "      <td>Month-to-month</td>\n",
       "      <td>Yes</td>\n",
       "      <td>Mailed check</td>\n",
       "      <td>74.40</td>\n",
       "      <td>306.60</td>\n",
       "      <td>Yes</td>\n",
       "    </tr>\n",
       "  </tbody>\n",
       "</table>\n",
       "<p>819 rows × 20 columns</p>\n",
       "</div>"
      ],
      "text/plain": [
       "      gender  SeniorCitizen Partner Dependents  tenure PhoneService  \\\n",
       "7     Female              0      No         No      10           No   \n",
       "11      Male              0      No         No      16          Yes   \n",
       "21      Male              0     Yes         No      12          Yes   \n",
       "36      Male              0      No         No       5          Yes   \n",
       "40      Male              0     Yes        Yes      10          Yes   \n",
       "...      ...            ...     ...        ...     ...          ...   \n",
       "7020    Male              0     Yes        Yes      12          Yes   \n",
       "7026  Female              0      No         No       9          Yes   \n",
       "7029  Female              1      No         No       6           No   \n",
       "7040  Female              0     Yes        Yes      11           No   \n",
       "7041    Male              1     Yes         No       4          Yes   \n",
       "\n",
       "         MultipleLines InternetService       OnlineSecurity  \\\n",
       "7     No phone service             DSL                  Yes   \n",
       "11                  No              No  No internet service   \n",
       "21                  No              No  No internet service   \n",
       "36                  No     Fiber optic                   No   \n",
       "40                  No             DSL                   No   \n",
       "...                ...             ...                  ...   \n",
       "7020                No              No  No internet service   \n",
       "7026                No             DSL                   No   \n",
       "7029  No phone service             DSL                   No   \n",
       "7040  No phone service             DSL                  Yes   \n",
       "7041               Yes     Fiber optic                   No   \n",
       "\n",
       "             OnlineBackup     DeviceProtection          TechSupport  \\\n",
       "7                      No                   No                   No   \n",
       "11    No internet service  No internet service  No internet service   \n",
       "21    No internet service  No internet service  No internet service   \n",
       "36                     No                   No                   No   \n",
       "40                    Yes                   No                   No   \n",
       "...                   ...                  ...                  ...   \n",
       "7020  No internet service  No internet service  No internet service   \n",
       "7026                   No                   No                   No   \n",
       "7029                   No                   No                   No   \n",
       "7040                   No                   No                   No   \n",
       "7041                   No                   No                   No   \n",
       "\n",
       "              StreamingTV      StreamingMovies        Contract  \\\n",
       "7                      No                   No  Month-to-month   \n",
       "11    No internet service  No internet service        Two year   \n",
       "21    No internet service  No internet service        One year   \n",
       "36                     No                   No  Month-to-month   \n",
       "40                     No                   No        One year   \n",
       "...                   ...                  ...             ...   \n",
       "7020  No internet service  No internet service  Month-to-month   \n",
       "7026                   No                   No  Month-to-month   \n",
       "7029                  Yes                  Yes  Month-to-month   \n",
       "7040                   No                   No  Month-to-month   \n",
       "7041                   No                   No  Month-to-month   \n",
       "\n",
       "     PaperlessBilling              PaymentMethod  MonthlyCharges  \\\n",
       "7                  No               Mailed check           29.75   \n",
       "11                 No    Credit card (automatic)           18.95   \n",
       "21                 No  Bank transfer (automatic)           19.80   \n",
       "36                Yes           Electronic check           69.70   \n",
       "40                 No               Mailed check           49.55   \n",
       "...               ...                        ...             ...   \n",
       "7020              Yes           Electronic check           19.20   \n",
       "7026              Yes  Bank transfer (automatic)           44.20   \n",
       "7029              Yes           Electronic check           44.40   \n",
       "7040              Yes           Electronic check           29.60   \n",
       "7041              Yes               Mailed check           74.40   \n",
       "\n",
       "      TotalCharges Churn  \n",
       "7           301.90    No  \n",
       "11          326.80    No  \n",
       "21          202.25    No  \n",
       "36          316.90   Yes  \n",
       "40          475.70    No  \n",
       "...            ...   ...  \n",
       "7020        239.00    No  \n",
       "7026        403.35   Yes  \n",
       "7029        263.05    No  \n",
       "7040        346.45    No  \n",
       "7041        306.60   Yes  \n",
       "\n",
       "[819 rows x 20 columns]"
      ]
     },
     "execution_count": 40,
     "metadata": {},
     "output_type": "execute_result"
    }
   ],
   "source": [
    "## Reterive Total Charges between 200 and 500\n",
    "## Use between function or search for it\n",
    "##########Sol Here##########\n",
    "dataFrame[dataFrame['TotalCharges'].between(200, 500)]"
   ]
  },
  {
   "cell_type": "code",
   "execution_count": null,
   "metadata": {},
   "outputs": [
    {
     "data": {
      "text/plain": [
       "0               NaN\n",
       "1               NaN\n",
       "2               NaN\n",
       "3               NaN\n",
       "4               NaN\n",
       "           ...     \n",
       "7038            NaN\n",
       "7039            NaN\n",
       "7040    (8.0, 12.0]\n",
       "7041            NaN\n",
       "7042            NaN\n",
       "Name: tenure, Length: 7032, dtype: category\n",
       "Categories (4, interval[int64, right]): [(4, 8] < (8, 12] < (12, 16] < (16, 20]]"
      ]
     },
     "execution_count": 41,
     "metadata": {},
     "output_type": "execute_result"
    }
   ],
   "source": [
    "## cut the dataframe based on tenure values using 4 ranges 4->8 , 8->12, 12->16 , 16->20\n",
    "\n",
    "##########Sol Here##########\n",
    "bins = [4,8,12,16,20]\n",
    "pd.cut(dataFrame['tenure'], bins)"
   ]
  },
  {
   "cell_type": "code",
   "execution_count": null,
   "metadata": {},
   "outputs": [],
   "source": [
    "## Plot three different plots using different libraries\n",
    "\n",
    "##########Sol Here##########"
   ]
  }
 ],
 "metadata": {
  "anaconda-cloud": {},
  "kernelspec": {
   "display_name": "Python 3",
   "language": "python",
   "name": "python3"
  },
  "language_info": {
   "codemirror_mode": {
    "name": "ipython",
    "version": 3
   },
   "file_extension": ".py",
   "mimetype": "text/x-python",
   "name": "python",
   "nbconvert_exporter": "python",
   "pygments_lexer": "ipython3",
   "version": "3.9.11"
  }
 },
 "nbformat": 4,
 "nbformat_minor": 1
}
