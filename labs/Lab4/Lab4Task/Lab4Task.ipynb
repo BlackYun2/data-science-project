{
 "cells": [
  {
   "cell_type": "code",
   "execution_count": 1,
   "metadata": {},
   "outputs": [],
   "source": [
    "## There is an csv file in the same directry, read it to pandas data frame\n",
    "## Show the head of the data frame\n",
    "\n",
    "###########Your Sol#########\n"
   ]
  },
  {
   "cell_type": "code",
   "execution_count": 2,
   "metadata": {},
   "outputs": [],
   "source": [
    "## First print the shape of dataframe, what is the dimensions represent?\n",
    "## Rename Symbol column to SymCol1\n",
    "\n",
    "###########Your Sol#########\n"
   ]
  },
  {
   "cell_type": "code",
   "execution_count": 3,
   "metadata": {},
   "outputs": [],
   "source": [
    "## As known, Pandas starts the index from 0, but we need to start it to start from 1\n",
    "## Print the index of pandas\n",
    "## Then Reset index to start from 1 (Can we Assign the new index to list directly?)\n",
    "\n",
    "###########Your Sol#########\n"
   ]
  },
  {
   "cell_type": "code",
   "execution_count": 4,
   "metadata": {},
   "outputs": [],
   "source": [
    "## Reterive first three columns from rows from index 5 to 10 by two methods (loc,iloc)\n",
    "\n",
    "###########Your Sol#########\n"
   ]
  },
  {
   "cell_type": "code",
   "execution_count": 5,
   "metadata": {},
   "outputs": [],
   "source": [
    "## Sort the dataframe based on Market cap col in descending order\n",
    "\n",
    "###########Your Sol#########\n"
   ]
  },
  {
   "cell_type": "code",
   "execution_count": 6,
   "metadata": {},
   "outputs": [],
   "source": [
    "## Print the unique values of SymCol1 column\n",
    "\n",
    "###########Your Sol#########\n"
   ]
  },
  {
   "cell_type": "code",
   "execution_count": 7,
   "metadata": {},
   "outputs": [],
   "source": [
    "## Print the datatybes of the whole columns\n",
    "\n",
    "###########Your Sol#########\n"
   ]
  },
  {
   "cell_type": "code",
   "execution_count": 8,
   "metadata": {},
   "outputs": [],
   "source": [
    "## Reterive first three rows in which symcol1 equal BA\n",
    "\n",
    "###########Your Sol#########\n"
   ]
  },
  {
   "cell_type": "code",
   "execution_count": 9,
   "metadata": {},
   "outputs": [],
   "source": [
    "# Print length of row that year is greater than or equal 2006\n",
    "\n",
    "###########Your Sol#########\n"
   ]
  },
  {
   "cell_type": "code",
   "execution_count": 10,
   "metadata": {},
   "outputs": [],
   "source": [
    "# print number of nulls in each col\n",
    "\n",
    "###########Your Sol#########\n"
   ]
  },
  {
   "cell_type": "code",
   "execution_count": 11,
   "metadata": {},
   "outputs": [],
   "source": [
    "# Drop columns that contain more than 70 nan values than print number of nulls again\n",
    "\n",
    "###########Your Sol#########\n"
   ]
  },
  {
   "cell_type": "code",
   "execution_count": 12,
   "metadata": {},
   "outputs": [],
   "source": [
    "## Drop rows with nulls, then print number of nulls again\n",
    "\n",
    "###########Your Sol#########\n"
   ]
  },
  {
   "cell_type": "code",
   "execution_count": 13,
   "metadata": {},
   "outputs": [],
   "source": [
    "## Print the unique values of column country, then convert it to numerical value using get_dummies\n",
    "\n",
    "###########Your Sol#########\n"
   ]
  },
  {
   "cell_type": "code",
   "execution_count": null,
   "metadata": {},
   "outputs": [],
   "source": []
  }
 ],
 "metadata": {
  "kernelspec": {
   "display_name": "Python 3",
   "language": "python",
   "name": "python3"
  },
  "language_info": {
   "codemirror_mode": {
    "name": "ipython",
    "version": 3
   },
   "file_extension": ".py",
   "mimetype": "text/x-python",
   "name": "python",
   "nbconvert_exporter": "python",
   "pygments_lexer": "ipython3",
   "version": "3.8.5"
  }
 },
 "nbformat": 4,
 "nbformat_minor": 4
}
