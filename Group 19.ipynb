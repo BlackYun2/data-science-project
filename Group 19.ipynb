{
 "cells": [
  {
   "cell_type": "code",
   "execution_count": null,
   "id": "2a84513e",
   "metadata": {},
   "outputs": [],
   "source": [
    "import pandas as pd\n",
    "import matplotlib.pyplot as plt\n"
   ]
  },
  {
   "cell_type": "code",
   "execution_count": null,
   "id": "8a867889",
   "metadata": {},
   "outputs": [],
   "source": [
    "crimes = pd.read_csv(r'Index_Crimes_by_County_and_Agency__Beginning_1990.csv')\n",
    "hateCrimes = pd.read_csv(\n",
    "    r'Hate_Crimes_by_County_and_Bias_Type__Beginning_2010.csv')\n"
   ]
  },
  {
   "cell_type": "markdown",
   "id": "b46fff6f",
   "metadata": {},
   "source": [
    " **the main dataset we're working on is the crimes dataset, the hate crimes one is some data that we might use in answering some questions and reaching certain conclusions, it it mostly cleaned and ready to go**"
   ]
  },
  {
   "cell_type": "code",
   "execution_count": null,
   "id": "bebfcb7b",
   "metadata": {},
   "outputs": [],
   "source": [
    "# we're going to start cleaning the \"Crimes\" dataset first\n",
    "# changing the name of some columns to be more descriptive\n",
    "crimes.rename(columns={'Index Total': 'Total reported crimes', 'Violent Total': 'Total Violent Crimes',\n",
    "              'Property Total': 'Total Propert Crimes'}, inplace=True)\n"
   ]
  },
  {
   "cell_type": "code",
   "execution_count": null,
   "id": "f23bc3cf",
   "metadata": {},
   "outputs": [],
   "source": [
    "# checking nulls\n",
    "crimes.isnull().sum()\n"
   ]
  },
  {
   "cell_type": "code",
   "execution_count": null,
   "id": "9106686d",
   "metadata": {},
   "outputs": [],
   "source": [
    "# dropping the \"Months Reported\" column. It has many null values and is not really relevant to the data we want to extract\n",
    "crimes.drop(['Months Reported'], axis=1, inplace=True)\n",
    "crimes\n"
   ]
  },
  {
   "cell_type": "code",
   "execution_count": null,
   "id": "089e8e24",
   "metadata": {},
   "outputs": [],
   "source": [
    "# dropping all rows with nulls as they are insignificant in relation to the data\n",
    "crimes.dropna(axis=0, inplace=True)\n",
    "crimes.isnull().sum()\n"
   ]
  },
  {
   "cell_type": "code",
   "execution_count": null,
   "id": "22176299",
   "metadata": {},
   "outputs": [],
   "source": [
    "# converting the region column to numerical values\n",
    "crimes = pd.get_dummies(crimes, columns=['Region'])\n",
    "crimes\n"
   ]
  },
  {
   "cell_type": "markdown",
   "id": "83db36ba",
   "metadata": {},
   "source": [
    "/////////////////////////////////////////////////////////"
   ]
  },
  {
   "cell_type": "code",
   "execution_count": null,
   "id": "559b46aa",
   "metadata": {},
   "outputs": [],
   "source": [
    "# we want to change the datatype of all columns to int except the County and Agency columns, to make it easier to process and\n",
    "# operate on all the data, so we are dropping them, changing the datatype of the whole datafram, then adding them again\n",
    "\n",
    "crimes.replace(',', '', regex=True, inplace=True)  # cause some values has this ',' in it (error cant make str to int)\n",
    "#i made a temp var with all col except count and agency and transformed them to int\n",
    "crimes_int_values_transformed = crimes.loc[:, (crimes.columns != 'County') & (crimes.columns != 'Agency')].astype('int')\n",
    "#then i changed those same col to the new values the int ones\n",
    "crimes.loc[:, (crimes.columns != 'County') & (crimes.columns != 'Agency')] = crimes_int_values_transformed\n",
    "crimes.dtypes\n"
   ]
  },
  {
   "cell_type": "markdown",
   "id": "eb92bbcd",
   "metadata": {},
   "source": [
    "///////////////////////////////////////////"
   ]
  },
  {
   "cell_type": "code",
   "execution_count": null,
   "id": "256b2abe",
   "metadata": {},
   "outputs": [],
   "source": [
    "# making another dataframe that only includes the total crimes reported in each county each year\n",
    "# without the agency they were reported to\n",
    "totalCrimes = crimes[crimes['Agency'] == 'County Total']\n",
    "totalCrimes = totalCrimes.drop('Agency', axis=1) # i dropped agency we dont need it now\n",
    "totalCrimes\n"
   ]
  },
  {
   "cell_type": "code",
   "execution_count": null,
   "id": "6f169b03",
   "metadata": {},
   "outputs": [],
   "source": [
    "# the hate crimes dataset\n",
    "hateCrimes\n"
   ]
  },
  {
   "cell_type": "code",
   "execution_count": null,
   "id": "ea9a7288",
   "metadata": {},
   "outputs": [],
   "source": [
    "# converting the \"crime type\" column to numerical values\n",
    "pd.get_dummies(hateCrimes, columns=['Crime Type'])\n"
   ]
  },
  {
   "cell_type": "code",
   "execution_count": null,
   "id": "cfc0235b",
   "metadata": {},
   "outputs": [],
   "source": []
  }
 ],
 "metadata": {
  "kernelspec": {
   "display_name": "Python 3 (ipykernel)",
   "language": "python",
   "name": "python3"
  },
  "language_info": {
   "codemirror_mode": {
    "name": "ipython",
    "version": 3
   },
   "file_extension": ".py",
   "mimetype": "text/x-python",
   "name": "python",
   "nbconvert_exporter": "python",
   "pygments_lexer": "ipython3",
   "version": "3.9.11"
  },
  "toc-showmarkdowntxt": true
 },
 "nbformat": 4,
 "nbformat_minor": 5
}
